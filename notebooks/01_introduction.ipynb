{
 "cells": [
  {
   "cell_type": "markdown",
   "id": "fc49f011",
   "metadata": {},
   "source": [
    "# Introduction\n",
    "\n",
    "Welcome to the **Data Science & Machine Learning course** at **ImpactDeal**!\n",
    "\n",
    "All notebooks of this course can be found on [Github](https://github.com/darioka/impactdeal-2022). In the [README.md](https://github.com/darioka/impactdeal-2022/blob/main/README.md) file you can also find the links to open them directly in [Colab](https://colab.research.google.com/), indicated by the [shields.io](http://shields.io/)-style badge:\n",
    "\n",
    "[![Open In Colab](https://colab.research.google.com/assets/colab-badge.svg)](http://colab.research.google.com/github/darioka/impactdeal-2022/blob/main/notebooks/01_introduction.ipynb)\n",
    "\n",
    "More information about the integration between Github and Colab can be found in [this notebook](https://colab.research.google.com/github/googlecolab/colabtools/blob/master/notebooks/colab-github-demo.ipynb)"
   ]
  },
  {
   "cell_type": "markdown",
   "id": "9d1e21cf",
   "metadata": {},
   "source": [
    "### Reproducibility\n",
    "\n",
    "All scripts and notebook are meant to be run on Colab, with the default versions of the python packages provided in the Colab environment (June 2022) and a small number of other libraries. The files [environment.yml](https://github.com/darioka/impactdeal-2022/blob/main/environment.yml) or [requirements.txt](https://github.com/darioka/impactdeal-2022/blob/main/requirements.txt) can be used to install the correct versions. Custom helper functions and tools used in the notebooks are found in the python package `impactdeal` in this repository. After installing it, you can import them as with any other library.\n",
    "\n",
    "\n",
    "#### On Colab\n",
    "\n",
    "In the first cell of each notebook you will find the following commands (commented away):\n",
    "\n",
    "```\n",
    "!git clone https://github.com/darioka/impactdeal-2022.git\n",
    "%cd impactdeal-2022\n",
    "!pip install -r requirements.txt\n",
    "!pip install .\n",
    "```\n",
    "\n",
    "Uncomment and run those lines to clone the git repository, install from `requirements.txt`, then install the `impactdeal` package.\n",
    "\n",
    "#### Locally\n",
    "\n",
    "If you want to run the notebooks on your own machine, my suggestion is to use [conda](https://docs.conda.io/en/latest/) and create a new environment. From the root of the repository, run:\n",
    "\n",
    "```\n",
    "conda env create -n impactdeal --file environment.yml\n",
    "conda activate impactdeal\n",
    "pip install .\n",
    "```"
   ]
  }
 ],
 "metadata": {
  "kernelspec": {
   "display_name": "Python 3 (ipykernel)",
   "language": "python",
   "name": "python3"
  },
  "language_info": {
   "codemirror_mode": {
    "name": "ipython",
    "version": 3
   },
   "file_extension": ".py",
   "mimetype": "text/x-python",
   "name": "python",
   "nbconvert_exporter": "python",
   "pygments_lexer": "ipython3",
   "version": "3.7.13"
  }
 },
 "nbformat": 4,
 "nbformat_minor": 5
}
