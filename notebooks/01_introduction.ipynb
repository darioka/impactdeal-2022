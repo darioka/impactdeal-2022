{
 "cells": [
  {
   "cell_type": "markdown",
   "id": "880eb261",
   "metadata": {},
   "source": [
    "# Introduction\n",
    "\n",
    "Welcome to the **Data Science & Machine Learning course** at **ImpactDeal**!\n",
    "\n",
    "All notebooks of this course can be found on [Github](https://github.com/darioka/impactdeal-2022). In the [README.md](https://github.com/darioka/impactdeal-2022/blob/main/README.md) file you can also find the links to open them directly in [Colab](https://colab.research.google.com/), indicated by the [shields.io](http://shields.io/)-style badge:\n",
    "\n",
    "[![Open In Colab](https://colab.research.google.com/assets/colab-badge.svg)](https://github.com/darioka/impactdeal-2022/notebooks/blob/main/01_introduction.ipynb)\n",
    "\n",
    "More information about the integration between Github and Colab can be found in [this notebook](https://colab.research.google.com/github/googlecolab/colabtools/blob/master/notebooks/colab-github-demo.ipynb)"
   ]
  },
  {
   "cell_type": "markdown",
   "id": "0003e792",
   "metadata": {},
   "source": [
    "### Reproducibility\n",
    "\n",
    "All scripts and notebook are meant to be run on Colab, with the default versions of the python packages provided in the Colab environment (June 2022). However, as Colab default environment may change in time, the files [environment.yml](https://github.com/darioka/impactdeal-2022/blob/main/environment.yml) or [requirements.txt](https://github.com/darioka/impactdeal-2022/blob/main/requirements.txt) can be used to install the correct versions.\n",
    "\n",
    "In a Colab notebook, simply use the command:\n",
    "\n",
    "```\n",
    "!pip install -r requirements.txt\n",
    "```\n",
    "\n",
    "If you want to run the notebooks on your own machine, my suggestion is to use [conda](https://docs.conda.io/en/latest/) and run:\n",
    "\n",
    "```\n",
    "conda env create -n <your_env_name> --file environment.yml\n",
    "```"
   ]
  }
 ],
 "metadata": {
  "kernelspec": {
   "display_name": "Python 3 (ipykernel)",
   "language": "python",
   "name": "python3"
  },
  "language_info": {
   "codemirror_mode": {
    "name": "ipython",
    "version": 3
   },
   "file_extension": ".py",
   "mimetype": "text/x-python",
   "name": "python",
   "nbconvert_exporter": "python",
   "pygments_lexer": "ipython3",
   "version": "3.9.7"
  }
 },
 "nbformat": 4,
 "nbformat_minor": 5
}
