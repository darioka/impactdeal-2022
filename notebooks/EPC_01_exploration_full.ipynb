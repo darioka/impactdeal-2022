{
  "cells": [
    {
      "cell_type": "markdown",
      "metadata": {
        "id": "view-in-github",
        "colab_type": "text"
      },
      "source": [
        "<a href=\"https://colab.research.google.com/github/darioka/impactdeal-2022/blob/main/notebooks/EPC_01_exploration_full.ipynb\" target=\"_parent\"><img src=\"https://colab.research.google.com/assets/colab-badge.svg\" alt=\"Open In Colab\"/></a>"
      ]
    },
    {
      "cell_type": "code",
      "execution_count": 1,
      "id": "d1e8b210",
      "metadata": {
        "colab": {
          "base_uri": "https://localhost:8080/"
        },
        "id": "d1e8b210",
        "outputId": "07df7e87-b4ec-4b4a-bf12-7e937ec32f4a"
      },
      "outputs": [
        {
          "output_type": "stream",
          "name": "stdout",
          "text": [
            "Cloning into 'impactdeal-2022'...\n",
            "remote: Enumerating objects: 132, done.\u001b[K\n",
            "remote: Counting objects: 100% (27/27), done.\u001b[K\n",
            "remote: Compressing objects: 100% (16/16), done.\u001b[K\n",
            "remote: Total 132 (delta 11), reused 27 (delta 11), pack-reused 105\u001b[K\n",
            "Receiving objects: 100% (132/132), 69.73 MiB | 26.17 MiB/s, done.\n",
            "Resolving deltas: 100% (60/60), done.\n",
            "/content/impactdeal-2022\n",
            "Looking in indexes: https://pypi.org/simple, https://us-python.pkg.dev/colab-wheels/public/simple/\n",
            "Requirement already satisfied: numpy==1.21.6 in /usr/local/lib/python3.7/dist-packages (from -r requirements.txt (line 1)) (1.21.6)\n",
            "Requirement already satisfied: pandas==1.3.5 in /usr/local/lib/python3.7/dist-packages (from -r requirements.txt (line 2)) (1.3.5)\n",
            "Requirement already satisfied: scipy==1.4.1 in /usr/local/lib/python3.7/dist-packages (from -r requirements.txt (line 3)) (1.4.1)\n",
            "Requirement already satisfied: scikit-learn==1.0.2 in /usr/local/lib/python3.7/dist-packages (from -r requirements.txt (line 4)) (1.0.2)\n",
            "Requirement already satisfied: matplotlib==3.2.2 in /usr/local/lib/python3.7/dist-packages (from -r requirements.txt (line 5)) (3.2.2)\n",
            "Requirement already satisfied: seaborn==0.11.2 in /usr/local/lib/python3.7/dist-packages (from -r requirements.txt (line 6)) (0.11.2)\n",
            "Requirement already satisfied: jupyter==1.0.0 in /usr/local/lib/python3.7/dist-packages (from -r requirements.txt (line 7)) (1.0.0)\n",
            "Collecting missingno==0.4.2\n",
            "  Downloading missingno-0.4.2-py3-none-any.whl (9.7 kB)\n",
            "Requirement already satisfied: tqdm==4.64.0 in /usr/local/lib/python3.7/dist-packages (from -r requirements.txt (line 9)) (4.64.0)\n",
            "Requirement already satisfied: python-dateutil>=2.7.3 in /usr/local/lib/python3.7/dist-packages (from pandas==1.3.5->-r requirements.txt (line 2)) (2.8.2)\n",
            "Requirement already satisfied: pytz>=2017.3 in /usr/local/lib/python3.7/dist-packages (from pandas==1.3.5->-r requirements.txt (line 2)) (2022.1)\n",
            "Requirement already satisfied: joblib>=0.11 in /usr/local/lib/python3.7/dist-packages (from scikit-learn==1.0.2->-r requirements.txt (line 4)) (1.1.0)\n",
            "Requirement already satisfied: threadpoolctl>=2.0.0 in /usr/local/lib/python3.7/dist-packages (from scikit-learn==1.0.2->-r requirements.txt (line 4)) (3.1.0)\n",
            "Requirement already satisfied: kiwisolver>=1.0.1 in /usr/local/lib/python3.7/dist-packages (from matplotlib==3.2.2->-r requirements.txt (line 5)) (1.4.2)\n",
            "Requirement already satisfied: cycler>=0.10 in /usr/local/lib/python3.7/dist-packages (from matplotlib==3.2.2->-r requirements.txt (line 5)) (0.11.0)\n",
            "Requirement already satisfied: pyparsing!=2.0.4,!=2.1.2,!=2.1.6,>=2.0.1 in /usr/local/lib/python3.7/dist-packages (from matplotlib==3.2.2->-r requirements.txt (line 5)) (3.0.9)\n",
            "Requirement already satisfied: nbconvert in /usr/local/lib/python3.7/dist-packages (from jupyter==1.0.0->-r requirements.txt (line 7)) (5.6.1)\n",
            "Requirement already satisfied: notebook in /usr/local/lib/python3.7/dist-packages (from jupyter==1.0.0->-r requirements.txt (line 7)) (5.3.1)\n",
            "Requirement already satisfied: ipykernel in /usr/local/lib/python3.7/dist-packages (from jupyter==1.0.0->-r requirements.txt (line 7)) (4.10.1)\n",
            "Requirement already satisfied: qtconsole in /usr/local/lib/python3.7/dist-packages (from jupyter==1.0.0->-r requirements.txt (line 7)) (5.3.0)\n",
            "Requirement already satisfied: jupyter-console in /usr/local/lib/python3.7/dist-packages (from jupyter==1.0.0->-r requirements.txt (line 7)) (5.2.0)\n",
            "Requirement already satisfied: ipywidgets in /usr/local/lib/python3.7/dist-packages (from jupyter==1.0.0->-r requirements.txt (line 7)) (7.7.0)\n",
            "Requirement already satisfied: typing-extensions in /usr/local/lib/python3.7/dist-packages (from kiwisolver>=1.0.1->matplotlib==3.2.2->-r requirements.txt (line 5)) (4.2.0)\n",
            "Requirement already satisfied: six>=1.5 in /usr/local/lib/python3.7/dist-packages (from python-dateutil>=2.7.3->pandas==1.3.5->-r requirements.txt (line 2)) (1.15.0)\n",
            "Requirement already satisfied: traitlets>=4.1.0 in /usr/local/lib/python3.7/dist-packages (from ipykernel->jupyter==1.0.0->-r requirements.txt (line 7)) (5.1.1)\n",
            "Requirement already satisfied: ipython>=4.0.0 in /usr/local/lib/python3.7/dist-packages (from ipykernel->jupyter==1.0.0->-r requirements.txt (line 7)) (5.5.0)\n",
            "Requirement already satisfied: jupyter-client in /usr/local/lib/python3.7/dist-packages (from ipykernel->jupyter==1.0.0->-r requirements.txt (line 7)) (5.3.5)\n",
            "Requirement already satisfied: tornado>=4.0 in /usr/local/lib/python3.7/dist-packages (from ipykernel->jupyter==1.0.0->-r requirements.txt (line 7)) (5.1.1)\n",
            "Requirement already satisfied: setuptools>=18.5 in /usr/local/lib/python3.7/dist-packages (from ipython>=4.0.0->ipykernel->jupyter==1.0.0->-r requirements.txt (line 7)) (57.4.0)\n",
            "Requirement already satisfied: simplegeneric>0.8 in /usr/local/lib/python3.7/dist-packages (from ipython>=4.0.0->ipykernel->jupyter==1.0.0->-r requirements.txt (line 7)) (0.8.1)\n",
            "Requirement already satisfied: pickleshare in /usr/local/lib/python3.7/dist-packages (from ipython>=4.0.0->ipykernel->jupyter==1.0.0->-r requirements.txt (line 7)) (0.7.5)\n",
            "Requirement already satisfied: pexpect in /usr/local/lib/python3.7/dist-packages (from ipython>=4.0.0->ipykernel->jupyter==1.0.0->-r requirements.txt (line 7)) (4.8.0)\n",
            "Requirement already satisfied: pygments in /usr/local/lib/python3.7/dist-packages (from ipython>=4.0.0->ipykernel->jupyter==1.0.0->-r requirements.txt (line 7)) (2.6.1)\n",
            "Requirement already satisfied: prompt-toolkit<2.0.0,>=1.0.4 in /usr/local/lib/python3.7/dist-packages (from ipython>=4.0.0->ipykernel->jupyter==1.0.0->-r requirements.txt (line 7)) (1.0.18)\n",
            "Requirement already satisfied: decorator in /usr/local/lib/python3.7/dist-packages (from ipython>=4.0.0->ipykernel->jupyter==1.0.0->-r requirements.txt (line 7)) (4.4.2)\n",
            "Requirement already satisfied: wcwidth in /usr/local/lib/python3.7/dist-packages (from prompt-toolkit<2.0.0,>=1.0.4->ipython>=4.0.0->ipykernel->jupyter==1.0.0->-r requirements.txt (line 7)) (0.2.5)\n",
            "Requirement already satisfied: nbformat>=4.2.0 in /usr/local/lib/python3.7/dist-packages (from ipywidgets->jupyter==1.0.0->-r requirements.txt (line 7)) (5.4.0)\n",
            "Requirement already satisfied: jupyterlab-widgets>=1.0.0 in /usr/local/lib/python3.7/dist-packages (from ipywidgets->jupyter==1.0.0->-r requirements.txt (line 7)) (1.1.0)\n",
            "Requirement already satisfied: widgetsnbextension~=3.6.0 in /usr/local/lib/python3.7/dist-packages (from ipywidgets->jupyter==1.0.0->-r requirements.txt (line 7)) (3.6.0)\n",
            "Requirement already satisfied: ipython-genutils~=0.2.0 in /usr/local/lib/python3.7/dist-packages (from ipywidgets->jupyter==1.0.0->-r requirements.txt (line 7)) (0.2.0)\n",
            "Requirement already satisfied: jupyter-core in /usr/local/lib/python3.7/dist-packages (from nbformat>=4.2.0->ipywidgets->jupyter==1.0.0->-r requirements.txt (line 7)) (4.10.0)\n",
            "Requirement already satisfied: jsonschema>=2.6 in /usr/local/lib/python3.7/dist-packages (from nbformat>=4.2.0->ipywidgets->jupyter==1.0.0->-r requirements.txt (line 7)) (4.3.3)\n",
            "Requirement already satisfied: fastjsonschema in /usr/local/lib/python3.7/dist-packages (from nbformat>=4.2.0->ipywidgets->jupyter==1.0.0->-r requirements.txt (line 7)) (2.15.3)\n",
            "Requirement already satisfied: importlib-metadata in /usr/local/lib/python3.7/dist-packages (from jsonschema>=2.6->nbformat>=4.2.0->ipywidgets->jupyter==1.0.0->-r requirements.txt (line 7)) (4.11.4)\n",
            "Requirement already satisfied: pyrsistent!=0.17.0,!=0.17.1,!=0.17.2,>=0.14.0 in /usr/local/lib/python3.7/dist-packages (from jsonschema>=2.6->nbformat>=4.2.0->ipywidgets->jupyter==1.0.0->-r requirements.txt (line 7)) (0.18.1)\n",
            "Requirement already satisfied: importlib-resources>=1.4.0 in /usr/local/lib/python3.7/dist-packages (from jsonschema>=2.6->nbformat>=4.2.0->ipywidgets->jupyter==1.0.0->-r requirements.txt (line 7)) (5.7.1)\n",
            "Requirement already satisfied: attrs>=17.4.0 in /usr/local/lib/python3.7/dist-packages (from jsonschema>=2.6->nbformat>=4.2.0->ipywidgets->jupyter==1.0.0->-r requirements.txt (line 7)) (21.4.0)\n",
            "Requirement already satisfied: zipp>=3.1.0 in /usr/local/lib/python3.7/dist-packages (from importlib-resources>=1.4.0->jsonschema>=2.6->nbformat>=4.2.0->ipywidgets->jupyter==1.0.0->-r requirements.txt (line 7)) (3.8.0)\n",
            "Requirement already satisfied: terminado>=0.8.1 in /usr/local/lib/python3.7/dist-packages (from notebook->jupyter==1.0.0->-r requirements.txt (line 7)) (0.13.3)\n",
            "Requirement already satisfied: jinja2 in /usr/local/lib/python3.7/dist-packages (from notebook->jupyter==1.0.0->-r requirements.txt (line 7)) (2.11.3)\n",
            "Requirement already satisfied: Send2Trash in /usr/local/lib/python3.7/dist-packages (from notebook->jupyter==1.0.0->-r requirements.txt (line 7)) (1.8.0)\n",
            "Requirement already satisfied: pyzmq>=13 in /usr/local/lib/python3.7/dist-packages (from jupyter-client->ipykernel->jupyter==1.0.0->-r requirements.txt (line 7)) (23.0.0)\n",
            "Requirement already satisfied: ptyprocess in /usr/local/lib/python3.7/dist-packages (from terminado>=0.8.1->notebook->jupyter==1.0.0->-r requirements.txt (line 7)) (0.7.0)\n",
            "Requirement already satisfied: MarkupSafe>=0.23 in /usr/local/lib/python3.7/dist-packages (from jinja2->notebook->jupyter==1.0.0->-r requirements.txt (line 7)) (2.0.1)\n",
            "Requirement already satisfied: entrypoints>=0.2.2 in /usr/local/lib/python3.7/dist-packages (from nbconvert->jupyter==1.0.0->-r requirements.txt (line 7)) (0.4)\n",
            "Requirement already satisfied: pandocfilters>=1.4.1 in /usr/local/lib/python3.7/dist-packages (from nbconvert->jupyter==1.0.0->-r requirements.txt (line 7)) (1.5.0)\n",
            "Requirement already satisfied: testpath in /usr/local/lib/python3.7/dist-packages (from nbconvert->jupyter==1.0.0->-r requirements.txt (line 7)) (0.6.0)\n",
            "Requirement already satisfied: defusedxml in /usr/local/lib/python3.7/dist-packages (from nbconvert->jupyter==1.0.0->-r requirements.txt (line 7)) (0.7.1)\n",
            "Requirement already satisfied: bleach in /usr/local/lib/python3.7/dist-packages (from nbconvert->jupyter==1.0.0->-r requirements.txt (line 7)) (5.0.0)\n",
            "Requirement already satisfied: mistune<2,>=0.8.1 in /usr/local/lib/python3.7/dist-packages (from nbconvert->jupyter==1.0.0->-r requirements.txt (line 7)) (0.8.4)\n",
            "Requirement already satisfied: webencodings in /usr/local/lib/python3.7/dist-packages (from bleach->nbconvert->jupyter==1.0.0->-r requirements.txt (line 7)) (0.5.1)\n",
            "Requirement already satisfied: qtpy>=2.0.1 in /usr/local/lib/python3.7/dist-packages (from qtconsole->jupyter==1.0.0->-r requirements.txt (line 7)) (2.1.0)\n",
            "Requirement already satisfied: packaging in /usr/local/lib/python3.7/dist-packages (from qtpy>=2.0.1->qtconsole->jupyter==1.0.0->-r requirements.txt (line 7)) (21.3)\n",
            "Installing collected packages: missingno\n",
            "  Attempting uninstall: missingno\n",
            "    Found existing installation: missingno 0.5.1\n",
            "    Uninstalling missingno-0.5.1:\n",
            "      Successfully uninstalled missingno-0.5.1\n",
            "Successfully installed missingno-0.4.2\n",
            "Looking in indexes: https://pypi.org/simple, https://us-python.pkg.dev/colab-wheels/public/simple/\n",
            "Processing /content/impactdeal-2022\n",
            "\u001b[33m  DEPRECATION: A future pip version will change local packages to be built in-place without first copying to a temporary directory. We recommend you use --use-feature=in-tree-build to test your packages with this new behavior before it becomes the default.\n",
            "   pip 21.3 will remove support for this functionality. You can find discussion regarding this at https://github.com/pypa/pip/issues/7555.\u001b[0m\n",
            "Requirement already satisfied: pandas>=1.3.5 in /usr/local/lib/python3.7/dist-packages (from impactdeal==0.0.1) (1.3.5)\n",
            "Requirement already satisfied: numpy>=1.17.3 in /usr/local/lib/python3.7/dist-packages (from pandas>=1.3.5->impactdeal==0.0.1) (1.21.6)\n",
            "Requirement already satisfied: python-dateutil>=2.7.3 in /usr/local/lib/python3.7/dist-packages (from pandas>=1.3.5->impactdeal==0.0.1) (2.8.2)\n",
            "Requirement already satisfied: pytz>=2017.3 in /usr/local/lib/python3.7/dist-packages (from pandas>=1.3.5->impactdeal==0.0.1) (2022.1)\n",
            "Requirement already satisfied: six>=1.5 in /usr/local/lib/python3.7/dist-packages (from python-dateutil>=2.7.3->pandas>=1.3.5->impactdeal==0.0.1) (1.15.0)\n",
            "Building wheels for collected packages: impactdeal\n",
            "  Building wheel for impactdeal (setup.py) ... \u001b[?25l\u001b[?25hdone\n",
            "  Created wheel for impactdeal: filename=impactdeal-0.0.1-py3-none-any.whl size=19133 sha256=b27fb7d3b327c13dd08436b68dc05fbd27b6601ea2885e6fe656e06569b351ec\n",
            "  Stored in directory: /root/.cache/pip/wheels/82/a3/b4/2758fcb1a01645aa5e4359436779931ba2683d8e4a5de55048\n",
            "Successfully built impactdeal\n",
            "Installing collected packages: impactdeal\n",
            "Successfully installed impactdeal-0.0.1\n"
          ]
        }
      ],
      "source": [
        "!git clone https://github.com/darioka/impactdeal-2022.git\n",
        "%cd impactdeal-2022\n",
        "!pip install -r requirements.txt\n",
        "!pip install ."
      ]
    },
    {
      "cell_type": "markdown",
      "id": "0ff57114",
      "metadata": {
        "id": "0ff57114"
      },
      "source": [
        "# Data Exploration - EPC Rating (full)\n",
        "\n",
        "\n",
        "In this notebook you will explore a dataset with known EPC ratings from three major cities in the UK.\n",
        "The data has been downloaded, subsampled and pseudonimized from https://epc.opendatacommunities.org/.\n",
        "\n",
        "Remember that our final goal with this dataset will be to train a machine learning model that predicts the energy rating of a dwelling, based on the other features of this dataset. But for the moment, we just need to understand what information it contains and become confident with it.\n",
        "\n",
        "## Loading the dataset\n",
        "\n",
        "The dataset is **known_epc_ratings.csv.gz**. The format is CSV but it's compressed with gzip, as it contains quite a few lines. But no worries, pandas can detect compression and handle it."
      ]
    },
    {
      "cell_type": "code",
      "execution_count": 2,
      "id": "c6c3936b",
      "metadata": {
        "colab": {
          "base_uri": "https://localhost:8080/"
        },
        "id": "c6c3936b",
        "outputId": "1802f7e1-58c3-4b37-84b9-07300ada0307"
      },
      "outputs": [
        {
          "output_type": "stream",
          "name": "stderr",
          "text": [
            "/usr/local/lib/python3.7/dist-packages/IPython/core/interactiveshell.py:2882: DtypeWarning: Columns (14) have mixed types.Specify dtype option on import or set low_memory=False.\n",
            "  exec(code_obj, self.user_global_ns, self.user_ns)\n"
          ]
        }
      ],
      "source": [
        "import pandas as pd\n",
        "\n",
        "df = pd.read_csv(\"data/known_epc_ratings.csv.gz\")"
      ]
    },
    {
      "cell_type": "markdown",
      "id": "2b883dd6",
      "metadata": {
        "id": "2b883dd6"
      },
      "source": [
        "## First look at the dataset\n",
        "\n",
        "Here is where you get to know the dataset. In this section, try to give answers to very simple questions like:\n",
        "\n",
        "* How many rows/columns?\n",
        "* What are their data types?\n",
        "* What are the meaning of the columns?\n",
        "* Are data types consistent with column descriptions?\n",
        "* What is the column with the EPC rating? How many classes are there?\n",
        "\n",
        "In particular, make sure to check the column descriptions ([column_description.tsv](https://github.com/darioka/impactdeal-2022/blob/main/data/column_description.tsv)) and compare them with actual data! This kind of sanity checks are often very useful with real-world datasets.\n",
        "\n",
        "Also, be flexible! The dataset is big (many columns, many more rows) and it's not very easy to \"take a look at it\"... why don't you [sample](https://pandas.pydata.org/docs/reference/api/pandas.DataFrame.sample.html) a hundred rows, export them to a standard [csv](https://pandas.pydata.org/docs/reference/api/pandas.DataFrame.to_csv.html) and read them with your favorite Excel-like tool?"
      ]
    },
    {
      "cell_type": "code",
      "execution_count": 3,
      "id": "6a60eae4",
      "metadata": {
        "colab": {
          "base_uri": "https://localhost:8080/"
        },
        "id": "6a60eae4",
        "outputId": "0e20c892-0970-4f0c-8b44-5392f74103e3"
      },
      "outputs": [
        {
          "output_type": "execute_result",
          "data": {
            "text/plain": [
              "(992766, 42)"
            ]
          },
          "metadata": {},
          "execution_count": 3
        }
      ],
      "source": [
        "df.shape"
      ]
    },
    {
      "cell_type": "code",
      "execution_count": 4,
      "id": "fc37ee22",
      "metadata": {
        "colab": {
          "base_uri": "https://localhost:8080/"
        },
        "id": "fc37ee22",
        "outputId": "73ea0c43-7aeb-40ae-f133-3209df86144e"
      },
      "outputs": [
        {
          "output_type": "execute_result",
          "data": {
            "text/plain": [
              "D    39.464385\n",
              "C    28.274034\n",
              "E    18.245689\n",
              "B     8.929295\n",
              "F     3.765338\n",
              "G     1.205621\n",
              "A     0.115637\n",
              "Name: CURRENT_ENERGY_RATING, dtype: float64"
            ]
          },
          "metadata": {},
          "execution_count": 4
        }
      ],
      "source": [
        "df[\"CURRENT_ENERGY_RATING\"].value_counts(normalize=True)*100"
      ]
    },
    {
      "cell_type": "markdown",
      "id": "86032536",
      "metadata": {
        "id": "86032536"
      },
      "source": [
        "Finally, let's create lists with the name of the columns, divided by their type. It will be useful later, when we will do different kinds of analyses depending on data types.\n",
        "\n",
        "For you convenience, lists have already been created and the next cell will import them. Notice that, besides numerical and categorical columns, we make two more groups:\n",
        "\n",
        "* **ids**: uniquely identify a single sample or a small set of them. No useful information can be inferred from them.\n",
        "\n",
        "* **dates**: cannot be treated naively as numbers nor as categories."
      ]
    },
    {
      "cell_type": "code",
      "execution_count": 5,
      "id": "b387f756",
      "metadata": {
        "id": "b387f756"
      },
      "outputs": [],
      "source": [
        "from impactdeal.config.column_names import TARGET, IDS, DATES, NUMERICAL, CATEGORICAL"
      ]
    },
    {
      "cell_type": "code",
      "source": [
        "TARGET"
      ],
      "metadata": {
        "colab": {
          "base_uri": "https://localhost:8080/",
          "height": 36
        },
        "id": "wu1MpSwMPcy7",
        "outputId": "02209239-d3e3-4155-d38d-c10754145004"
      },
      "id": "wu1MpSwMPcy7",
      "execution_count": 6,
      "outputs": [
        {
          "output_type": "execute_result",
          "data": {
            "text/plain": [
              "'CURRENT_ENERGY_RATING'"
            ],
            "application/vnd.google.colaboratory.intrinsic+json": {
              "type": "string"
            }
          },
          "metadata": {},
          "execution_count": 6
        }
      ]
    },
    {
      "cell_type": "code",
      "source": [
        "IDS"
      ],
      "metadata": {
        "colab": {
          "base_uri": "https://localhost:8080/"
        },
        "id": "WuFYJeLZPeTz",
        "outputId": "041a2730-9c0f-432b-a340-a6227dc91b7d"
      },
      "id": "WuFYJeLZPeTz",
      "execution_count": 7,
      "outputs": [
        {
          "output_type": "execute_result",
          "data": {
            "text/plain": [
              "['LMK_KEY', 'BUILDING_REFERENCE_NUMBER', 'POSTCODE']"
            ]
          },
          "metadata": {},
          "execution_count": 7
        }
      ]
    },
    {
      "cell_type": "code",
      "source": [
        "DATES"
      ],
      "metadata": {
        "colab": {
          "base_uri": "https://localhost:8080/"
        },
        "id": "OUyD03wDPfQc",
        "outputId": "e6dfad03-22e7-4415-80bf-f87e362b9956"
      },
      "id": "OUyD03wDPfQc",
      "execution_count": 8,
      "outputs": [
        {
          "output_type": "execute_result",
          "data": {
            "text/plain": [
              "['INSPECTION_DATE']"
            ]
          },
          "metadata": {},
          "execution_count": 8
        }
      ]
    },
    {
      "cell_type": "code",
      "source": [
        "NUMERICAL"
      ],
      "metadata": {
        "colab": {
          "base_uri": "https://localhost:8080/"
        },
        "id": "z3KLg29_PgGc",
        "outputId": "092b17a9-04d2-4006-bd71-b893dc2d18ff"
      },
      "id": "z3KLg29_PgGc",
      "execution_count": 9,
      "outputs": [
        {
          "output_type": "execute_result",
          "data": {
            "text/plain": [
              "['TOTAL_FLOOR_AREA',\n",
              " 'FLAT_STOREY_COUNT',\n",
              " 'MULTI_GLAZE_PROPORTION',\n",
              " 'EXTENSION_COUNT',\n",
              " 'NUMBER_HABITABLE_ROOMS',\n",
              " 'NUMBER_HEATED_ROOMS',\n",
              " 'LOW_ENERGY_LIGHTING',\n",
              " 'NUMBER_OPEN_FIREPLACES',\n",
              " 'WIND_TURBINE_COUNT',\n",
              " 'UNHEATED_CORRIDOR_LENGTH',\n",
              " 'FLOOR_HEIGHT',\n",
              " 'FIXED_LIGHTING_OUTLETS_COUNT',\n",
              " 'LOW_ENERGY_FIXED_LIGHT_COUNT']"
            ]
          },
          "metadata": {},
          "execution_count": 9
        }
      ]
    },
    {
      "cell_type": "code",
      "source": [
        "CATEGORICAL"
      ],
      "metadata": {
        "colab": {
          "base_uri": "https://localhost:8080/"
        },
        "id": "Up44vaPmPg6L",
        "outputId": "caca848c-8261-4dc0-d5b2-19efeffb62ba"
      },
      "id": "Up44vaPmPg6L",
      "execution_count": 10,
      "outputs": [
        {
          "output_type": "execute_result",
          "data": {
            "text/plain": [
              "['CITY',\n",
              " 'PROPERTY_TYPE',\n",
              " 'BUILT_FORM',\n",
              " 'CONSTRUCTION_AGE_BAND',\n",
              " 'ENERGY_TARIFF',\n",
              " 'MAINS_GAS_FLAG',\n",
              " 'FLOOR_LEVEL',\n",
              " 'FLAT_TOP_STOREY',\n",
              " 'MAIN_HEATING_CONTROLS',\n",
              " 'GLAZED_TYPE',\n",
              " 'GLAZED_AREA',\n",
              " 'HOTWATER_DESCRIPTION',\n",
              " 'FLOOR_DESCRIPTION',\n",
              " 'WINDOWS_DESCRIPTION',\n",
              " 'WALLS_DESCRIPTION',\n",
              " 'SECONDHEAT_DESCRIPTION',\n",
              " 'ROOF_DESCRIPTION',\n",
              " 'MAINHEAT_DESCRIPTION',\n",
              " 'MAINHEATCONT_DESCRIPTION',\n",
              " 'LIGHTING_DESCRIPTION',\n",
              " 'MAIN_FUEL',\n",
              " 'HEAT_LOSS_CORRIDOR',\n",
              " 'SOLAR_WATER_HEATING_FLAG',\n",
              " 'MECHANICAL_VENTILATION']"
            ]
          },
          "metadata": {},
          "execution_count": 10
        }
      ]
    },
    {
      "cell_type": "code",
      "execution_count": 11,
      "id": "df1e2a65",
      "metadata": {
        "scrolled": true,
        "id": "df1e2a65"
      },
      "outputs": [],
      "source": [
        "from impactdeal.cleaning import normalize_missing\n"
      ]
    },
    {
      "cell_type": "code",
      "execution_count": 12,
      "id": "0ad40e3d",
      "metadata": {
        "id": "0ad40e3d"
      },
      "outputs": [],
      "source": [
        "new_df = normalize_missing(df, CATEGORICAL)"
      ]
    },
    {
      "cell_type": "code",
      "execution_count": 13,
      "id": "f6099a5f",
      "metadata": {
        "colab": {
          "base_uri": "https://localhost:8080/"
        },
        "id": "f6099a5f",
        "outputId": "f09d772a-6143-4a64-9ee4-8ad5c08945b2"
      },
      "outputs": [
        {
          "output_type": "execute_result",
          "data": {
            "text/plain": [
              "FLAT_STOREY_COUNT               0.909687\n",
              "UNHEATED_CORRIDOR_LENGTH        0.841468\n",
              "HEAT_LOSS_CORRIDOR              0.695223\n",
              "FLAT_TOP_STOREY                 0.678890\n",
              "FLOOR_LEVEL                     0.638202\n",
              "LOW_ENERGY_FIXED_LIGHT_COUNT    0.604011\n",
              "FLOOR_HEIGHT                    0.583757\n",
              "FIXED_LIGHTING_OUTLETS_COUNT    0.540350\n",
              "SOLAR_WATER_HEATING_FLAG        0.385311\n",
              "MAIN_HEATING_CONTROLS           0.173837\n",
              "GLAZED_TYPE                     0.134881\n",
              "ENERGY_TARIFF                   0.109262\n",
              "MAINS_GAS_FLAG                  0.100579\n",
              "EXTENSION_COUNT                 0.095486\n",
              "GLAZED_AREA                     0.095486\n",
              "NUMBER_HEATED_ROOMS             0.095486\n",
              "MECHANICAL_VENTILATION          0.095486\n",
              "NUMBER_HABITABLE_ROOMS          0.095486\n",
              "CONSTRUCTION_AGE_BAND           0.089724\n",
              "MULTI_GLAZE_PROPORTION          0.084327\n",
              "WIND_TURBINE_COUNT              0.058232\n",
              "BUILT_FORM                      0.032507\n",
              "LOW_ENERGY_LIGHTING             0.028054\n",
              "NUMBER_OPEN_FIREPLACES          0.019402\n",
              "MAIN_FUEL                       0.010577\n",
              "SECONDHEAT_DESCRIPTION          0.002080\n",
              "MAINHEATCONT_DESCRIPTION        0.002009\n",
              "HOTWATER_DESCRIPTION            0.002008\n",
              "MAINHEAT_DESCRIPTION            0.002008\n",
              "ROOF_DESCRIPTION                0.001223\n",
              "WINDOWS_DESCRIPTION             0.001218\n",
              "FLOOR_DESCRIPTION               0.000968\n",
              "WALLS_DESCRIPTION               0.000968\n",
              "LIGHTING_DESCRIPTION            0.000931\n",
              "CITY                            0.000000\n",
              "LMK_KEY                         0.000000\n",
              "TOTAL_FLOOR_AREA                0.000000\n",
              "INSPECTION_DATE                 0.000000\n",
              "PROPERTY_TYPE                   0.000000\n",
              "BUILDING_REFERENCE_NUMBER       0.000000\n",
              "POSTCODE                        0.000000\n",
              "CURRENT_ENERGY_RATING           0.000000\n",
              "dtype: float64"
            ]
          },
          "metadata": {},
          "execution_count": 13
        }
      ],
      "source": [
        "new_df.isnull().mean().sort_values(ascending=False)"
      ]
    },
    {
      "cell_type": "markdown",
      "id": "8d11d3a4",
      "metadata": {
        "id": "8d11d3a4"
      },
      "source": [
        "## Exploratory data analysis\n",
        "\n",
        "In the following section, we will try to answer some questions with the help of our dataset:\n",
        "\n",
        "1. What is the evolution in time of the number of EPC rating? Try to visualize the time series.\n",
        "\n",
        "2. Which city has more buildings in the lowest categories? Rank cities by the number of properties with EPC rating lower than E.\n",
        "\n",
        "3. What is the distribution of construction dates?\n",
        "\n",
        "4. How spread is the use of low energy lighting?\n",
        "\n",
        "5. Are there outliers in properties' total floor area? If yes, how should we treat them?\n",
        "\n",
        "6. There are multiple variables with information about the dimension of the property and multiple variables with information about the lighting. What are their correlations? What could we do here?\n",
        "\n",
        "\n",
        "Some hints:\n",
        "* Some of the questions are deliberately ambiguous, because business questions usually are.\n",
        "* For dates, take a look at `pandas` [to_datetime](https://pandas.pydata.org/docs/reference/api/pandas.to_datetime.html) and [datetime methods](https://pandas.pydata.org/docs/user_guide/timeseries.html#time-series-date-functionality).\n",
        "* `COSTRUCTION_AGE_BAND` needs some cleaning. If you are in a hurry, use the function `impactdeal.cleaning.clean_age_band`."
      ]
    },
    {
      "cell_type": "code",
      "execution_count": 14,
      "id": "1672df2f",
      "metadata": {
        "colab": {
          "base_uri": "https://localhost:8080/",
          "height": 265
        },
        "id": "1672df2f",
        "outputId": "536cb3ef-eabb-4c03-d56b-5b35fb7ecca0"
      },
      "outputs": [
        {
          "output_type": "display_data",
          "data": {
            "text/plain": [
              "<Figure size 432x288 with 1 Axes>"
            ],
            "image/png": "[encoded data removed]"
          },
          "metadata": {
            "needs_background": "light"
          }
        }
      ],
      "source": [
        "# 1\n",
        "_ = pd.to_datetime(new_df.INSPECTION_DATE).dt.year.value_counts().sort_index().plot.line()"
      ]
    },
    {
      "cell_type": "code",
      "source": [
        "new_df.groupby(\"CITY\")[TARGET].value_counts(normalize=True).rename(\"freq\").reset_index()"
      ],
      "metadata": {
        "colab": {
          "base_uri": "https://localhost:8080/",
          "height": 708
        },
        "id": "HgL5bKozeXEW",
        "outputId": "079102f7-a163-4cfb-e9a8-c1dc7dc74e49"
      },
      "id": "HgL5bKozeXEW",
      "execution_count": 15,
      "outputs": [
        {
          "output_type": "execute_result",
          "data": {
            "text/plain": [
              "          CITY CURRENT_ENERGY_RATING      freq\n",
              "0   Birmingham                     D  0.412213\n",
              "1   Birmingham                     C  0.238488\n",
              "2   Birmingham                     E  0.217707\n",
              "3   Birmingham                     B  0.072741\n",
              "4   Birmingham                     F  0.044451\n",
              "5   Birmingham                     G  0.013563\n",
              "6   Birmingham                     A  0.000837\n",
              "7        Leeds                     D  0.405677\n",
              "8        Leeds                     C  0.278914\n",
              "9        Leeds                     E  0.177825\n",
              "10       Leeds                     B  0.083378\n",
              "11       Leeds                     F  0.038583\n",
              "12       Leeds                     G  0.013688\n",
              "13       Leeds                     A  0.001935\n",
              "14  Manchester                     C  0.357514\n",
              "15  Manchester                     D  0.352894\n",
              "16  Manchester                     E  0.132633\n",
              "17  Manchester                     B  0.122947\n",
              "18  Manchester                     F  0.025734\n",
              "19  Manchester                     G  0.007605\n",
              "20  Manchester                     A  0.000674"
            ],
            "text/html": [
              "\n",
              "  <div id=\"df-cd938110-292b-44db-9b15-c90e55185d33\">\n",
              "    <div class=\"colab-df-container\">\n",
              "      <div>\n",
              "<style scoped>\n",
              "    .dataframe tbody tr th:only-of-type {\n",
              "        vertical-align: middle;\n",
              "    }\n",
              "\n",
              "    .dataframe tbody tr th {\n",
              "        vertical-align: top;\n",
              "    }\n",
              "\n",
              "    .dataframe thead th {\n",
              "        text-align: right;\n",
              "    }\n",
              "</style>\n",
              "<table border=\"1\" class=\"dataframe\">\n",
              "  <thead>\n",
              "    <tr style=\"text-align: right;\">\n",
              "      <th></th>\n",
              "      <th>CITY</th>\n",
              "      <th>CURRENT_ENERGY_RATING</th>\n",
              "      <th>freq</th>\n",
              "    </tr>\n",
              "  </thead>\n",
              "  <tbody>\n",
              "    <tr>\n",
              "      <th>0</th>\n",
              "      <td>Birmingham</td>\n",
              "      <td>D</td>\n",
              "      <td>0.412213</td>\n",
              "    </tr>\n",
              "    <tr>\n",
              "      <th>1</th>\n",
              "      <td>Birmingham</td>\n",
              "      <td>C</td>\n",
              "      <td>0.238488</td>\n",
              "    </tr>\n",
              "    <tr>\n",
              "      <th>2</th>\n",
              "      <td>Birmingham</td>\n",
              "      <td>E</td>\n",
              "      <td>0.217707</td>\n",
              "    </tr>\n",
              "    <tr>\n",
              "      <th>3</th>\n",
              "      <td>Birmingham</td>\n",
              "      <td>B</td>\n",
              "      <td>0.072741</td>\n",
              "    </tr>\n",
              "    <tr>\n",
              "      <th>4</th>\n",
              "      <td>Birmingham</td>\n",
              "      <td>F</td>\n",
              "      <td>0.044451</td>\n",
              "    </tr>\n",
              "    <tr>\n",
              "      <th>5</th>\n",
              "      <td>Birmingham</td>\n",
              "      <td>G</td>\n",
              "      <td>0.013563</td>\n",
              "    </tr>\n",
              "    <tr>\n",
              "      <th>6</th>\n",
              "      <td>Birmingham</td>\n",
              "      <td>A</td>\n",
              "      <td>0.000837</td>\n",
              "    </tr>\n",
              "    <tr>\n",
              "      <th>7</th>\n",
              "      <td>Leeds</td>\n",
              "      <td>D</td>\n",
              "      <td>0.405677</td>\n",
              "    </tr>\n",
              "    <tr>\n",
              "      <th>8</th>\n",
              "      <td>Leeds</td>\n",
              "      <td>C</td>\n",
              "      <td>0.278914</td>\n",
              "    </tr>\n",
              "    <tr>\n",
              "      <th>9</th>\n",
              "      <td>Leeds</td>\n",
              "      <td>E</td>\n",
              "      <td>0.177825</td>\n",
              "    </tr>\n",
              "    <tr>\n",
              "      <th>10</th>\n",
              "      <td>Leeds</td>\n",
              "      <td>B</td>\n",
              "      <td>0.083378</td>\n",
              "    </tr>\n",
              "    <tr>\n",
              "      <th>11</th>\n",
              "      <td>Leeds</td>\n",
              "      <td>F</td>\n",
              "      <td>0.038583</td>\n",
              "    </tr>\n",
              "    <tr>\n",
              "      <th>12</th>\n",
              "      <td>Leeds</td>\n",
              "      <td>G</td>\n",
              "      <td>0.013688</td>\n",
              "    </tr>\n",
              "    <tr>\n",
              "      <th>13</th>\n",
              "      <td>Leeds</td>\n",
              "      <td>A</td>\n",
              "      <td>0.001935</td>\n",
              "    </tr>\n",
              "    <tr>\n",
              "      <th>14</th>\n",
              "      <td>Manchester</td>\n",
              "      <td>C</td>\n",
              "      <td>0.357514</td>\n",
              "    </tr>\n",
              "    <tr>\n",
              "      <th>15</th>\n",
              "      <td>Manchester</td>\n",
              "      <td>D</td>\n",
              "      <td>0.352894</td>\n",
              "    </tr>\n",
              "    <tr>\n",
              "      <th>16</th>\n",
              "      <td>Manchester</td>\n",
              "      <td>E</td>\n",
              "      <td>0.132633</td>\n",
              "    </tr>\n",
              "    <tr>\n",
              "      <th>17</th>\n",
              "      <td>Manchester</td>\n",
              "      <td>B</td>\n",
              "      <td>0.122947</td>\n",
              "    </tr>\n",
              "    <tr>\n",
              "      <th>18</th>\n",
              "      <td>Manchester</td>\n",
              "      <td>F</td>\n",
              "      <td>0.025734</td>\n",
              "    </tr>\n",
              "    <tr>\n",
              "      <th>19</th>\n",
              "      <td>Manchester</td>\n",
              "      <td>G</td>\n",
              "      <td>0.007605</td>\n",
              "    </tr>\n",
              "    <tr>\n",
              "      <th>20</th>\n",
              "      <td>Manchester</td>\n",
              "      <td>A</td>\n",
              "      <td>0.000674</td>\n",
              "    </tr>\n",
              "  </tbody>\n",
              "</table>\n",
              "</div>\n",
              "      <button class=\"colab-df-convert\" onclick=\"convertToInteractive('df-cd938110-292b-44db-9b15-c90e55185d33')\"\n",
              "              title=\"Convert this dataframe to an interactive table.\"\n",
              "              style=\"display:none;\">\n",
              "        \n",
              "  <svg xmlns=\"http://www.w3.org/2000/svg\" height=\"24px\"viewBox=\"0 0 24 24\"\n",
              "       width=\"24px\">\n",
              "    <path d=\"M0 0h24v24H0V0z\" fill=\"none\"/>\n",
              "    <path d=\"M18.56 5.44l.94 2.06.94-2.06 2.06-.94-2.06-.94-.94-2.06-.94 2.06-2.06.94zm-11 1L8.5 8.5l.94-2.06 2.06-.94-2.06-.94L8.5 2.5l-.94 2.06-2.06.94zm10 10l.94 2.06.94-2.06 2.06-.94-2.06-.94-.94-2.06-.94 2.06-2.06.94z\"/><path d=\"M17.41 7.96l-1.37-1.37c-.4-.4-.92-.59-1.43-.59-.52 0-1.04.2-1.43.59L10.3 9.45l-7.72 7.72c-.78.78-.78 2.05 0 2.83L4 21.41c.39.39.9.59 1.41.59.51 0 1.02-.2 1.41-.59l7.78-7.78 2.81-2.81c.8-.78.8-2.07 0-2.86zM5.41 20L4 18.59l7.72-7.72 1.47 1.35L5.41 20z\"/>\n",
              "  </svg>\n",
              "      </button>\n",
              "      \n",
              "  <style>\n",
              "    .colab-df-container {\n",
              "      display:flex;\n",
              "      flex-wrap:wrap;\n",
              "      gap: 12px;\n",
              "    }\n",
              "\n",
              "    .colab-df-convert {\n",
              "      background-color: #E8F0FE;\n",
              "      border: none;\n",
              "      border-radius: 50%;\n",
              "      cursor: pointer;\n",
              "      display: none;\n",
              "      fill: #1967D2;\n",
              "      height: 32px;\n",
              "      padding: 0 0 0 0;\n",
              "      width: 32px;\n",
              "    }\n",
              "\n",
              "    .colab-df-convert:hover {\n",
              "      background-color: #E2EBFA;\n",
              "      box-shadow: 0px 1px 2px rgba(60, 64, 67, 0.3), 0px 1px 3px 1px rgba(60, 64, 67, 0.15);\n",
              "      fill: #174EA6;\n",
              "    }\n",
              "\n",
              "    [theme=dark] .colab-df-convert {\n",
              "      background-color: #3B4455;\n",
              "      fill: #D2E3FC;\n",
              "    }\n",
              "\n",
              "    [theme=dark] .colab-df-convert:hover {\n",
              "      background-color: #434B5C;\n",
              "      box-shadow: 0px 1px 3px 1px rgba(0, 0, 0, 0.15);\n",
              "      filter: drop-shadow(0px 1px 2px rgba(0, 0, 0, 0.3));\n",
              "      fill: #FFFFFF;\n",
              "    }\n",
              "  </style>\n",
              "\n",
              "      <script>\n",
              "        const buttonEl =\n",
              "          document.querySelector('#df-cd938110-292b-44db-9b15-c90e55185d33 button.colab-df-convert');\n",
              "        buttonEl.style.display =\n",
              "          google.colab.kernel.accessAllowed ? 'block' : 'none';\n",
              "\n",
              "        async function convertToInteractive(key) {\n",
              "          const element = document.querySelector('#df-cd938110-292b-44db-9b15-c90e55185d33');\n",
              "          const dataTable =\n",
              "            await google.colab.kernel.invokeFunction('convertToInteractive',\n",
              "                                                     [key], {});\n",
              "          if (!dataTable) return;\n",
              "\n",
              "          const docLinkHtml = 'Like what you see? Visit the ' +\n",
              "            '<a target=\"_blank\" href=https://colab.research.google.com/notebooks/data_table.ipynb>data table notebook</a>'\n",
              "            + ' to learn more about interactive tables.';\n",
              "          element.innerHTML = '';\n",
              "          dataTable['output_type'] = 'display_data';\n",
              "          await google.colab.output.renderOutput(dataTable, element);\n",
              "          const docLink = document.createElement('div');\n",
              "          docLink.innerHTML = docLinkHtml;\n",
              "          element.appendChild(docLink);\n",
              "        }\n",
              "      </script>\n",
              "    </div>\n",
              "  </div>\n",
              "  "
            ]
          },
          "metadata": {},
          "execution_count": 15
        }
      ]
    },
    {
      "cell_type": "code",
      "execution_count": 16,
      "id": "9432a7dc",
      "metadata": {
        "colab": {
          "base_uri": "https://localhost:8080/",
          "height": 280
        },
        "id": "9432a7dc",
        "outputId": "13ba2911-3b36-41da-fdc2-ee8d08524609"
      },
      "outputs": [
        {
          "output_type": "display_data",
          "data": {
            "text/plain": [
              "<Figure size 432x288 with 1 Axes>"
            ],
            "image/png": "[encoded data removed]"
          },
          "metadata": {
            "needs_background": "light"
          }
        }
      ],
      "source": [
        "# 2\n",
        "\n",
        "import seaborn as sns\n",
        "\n",
        "_ = sns.barplot(\n",
        "    data=new_df.groupby(\"CITY\")[TARGET].value_counts(normalize=True).rename(\"freq\").reset_index().sort_values([\"CITY\", TARGET]),\n",
        "    x=TARGET,\n",
        "    hue=\"CITY\",\n",
        "    y=\"freq\")"
      ]
    },
    {
      "cell_type": "code",
      "execution_count": 17,
      "id": "9e047532",
      "metadata": {
        "colab": {
          "base_uri": "https://localhost:8080/"
        },
        "id": "9e047532",
        "outputId": "60491009-c02c-4343-d939-5a0d9b337862"
      },
      "outputs": [
        {
          "output_type": "execute_result",
          "data": {
            "text/plain": [
              "Birmingham    23649\n",
              "Leeds         17100\n",
              "Manchester     8601\n",
              "Name: CITY, dtype: int64"
            ]
          },
          "metadata": {},
          "execution_count": 17
        }
      ],
      "source": [
        "# 2\n",
        "\n",
        "new_df.loc[new_df[TARGET].isin([\"F\", \"G\"]), \"CITY\"].value_counts()"
      ]
    },
    {
      "cell_type": "code",
      "execution_count": 19,
      "id": "f9b3ead7",
      "metadata": {
        "colab": {
          "base_uri": "https://localhost:8080/"
        },
        "id": "f9b3ead7",
        "outputId": "bde781e6-1d54-4ff8-c8d9-65362f6085a3"
      },
      "outputs": [
        {
          "output_type": "execute_result",
          "data": {
            "text/plain": [
              "1900-1929       195511\n",
              "1930-1949       166825\n",
              "1950-1966       147326\n",
              "1967-1975        92628\n",
              "1976-1982        42580\n",
              "1983-1990        37914\n",
              "1991-1995        27333\n",
              "1996-2002        43234\n",
              "2003-2006        50972\n",
              "2007 onwards     36382\n",
              "before 1900      62986\n",
              "Name: CONSTRUCTION_AGE_BAND, dtype: int64"
            ]
          },
          "metadata": {},
          "execution_count": 19
        }
      ],
      "source": [
        "# 3\n",
        "\n",
        "from impactdeal.cleaning import clean_age_band\n",
        "\n",
        "new_df = clean_age_band(new_df)\n",
        "new_df[\"CONSTRUCTION_AGE_BAND\"].value_counts().sort_index()"
      ]
    },
    {
      "cell_type": "code",
      "execution_count": 20,
      "id": "9fa7e035",
      "metadata": {
        "scrolled": true,
        "colab": {
          "base_uri": "https://localhost:8080/",
          "height": 326
        },
        "id": "9fa7e035",
        "outputId": "91fb01ab-a2d9-4daa-a276-a770b090182c"
      },
      "outputs": [
        {
          "output_type": "display_data",
          "data": {
            "text/plain": [
              "<Figure size 432x288 with 1 Axes>"
            ],
            "image/png": "[encoded data removed]"
          },
          "metadata": {
            "needs_background": "light"
          }
        }
      ],
      "source": [
        "# 3\n",
        "\n",
        "_ = new_df[\"CONSTRUCTION_AGE_BAND\"].value_counts().sort_index().plot.bar()"
      ]
    },
    {
      "cell_type": "code",
      "execution_count": 21,
      "id": "9ed97d90",
      "metadata": {
        "colab": {
          "base_uri": "https://localhost:8080/"
        },
        "id": "9ed97d90",
        "outputId": "92d2d672-b69d-4727-80bb-cef53c68ad0f"
      },
      "outputs": [
        {
          "output_type": "execute_result",
          "data": {
            "text/plain": [
              "count    964915.000000\n",
              "mean         52.704693\n",
              "std          36.326494\n",
              "min           0.000000\n",
              "25%          20.000000\n",
              "50%          50.000000\n",
              "75%          89.000000\n",
              "max         100.000000\n",
              "Name: LOW_ENERGY_LIGHTING, dtype: float64"
            ]
          },
          "metadata": {},
          "execution_count": 21
        }
      ],
      "source": [
        "# 4\n",
        "new_df[\"LOW_ENERGY_LIGHTING\"].describe()"
      ]
    },
    {
      "cell_type": "code",
      "execution_count": 22,
      "id": "bf87ce6a",
      "metadata": {
        "colab": {
          "base_uri": "https://localhost:8080/",
          "height": 369
        },
        "id": "bf87ce6a",
        "outputId": "0b170715-9c92-477f-c03c-c92c2c65dedd"
      },
      "outputs": [
        {
          "output_type": "display_data",
          "data": {
            "text/plain": [
              "<Figure size 360x360 with 1 Axes>"
            ],
            "image/png": "[encoded data removed]"
          },
          "metadata": {
            "needs_background": "light"
          }
        }
      ],
      "source": [
        "# 4\n",
        "_ = sns.displot(data=new_df[\"LOW_ENERGY_LIGHTING\"], kind=\"hist\")"
      ]
    },
    {
      "cell_type": "code",
      "execution_count": 23,
      "id": "6934bc1c",
      "metadata": {
        "colab": {
          "base_uri": "https://localhost:8080/",
          "height": 265
        },
        "id": "6934bc1c",
        "outputId": "5f567783-a101-42f6-bfe6-e95e0a9ac6d3"
      },
      "outputs": [
        {
          "output_type": "display_data",
          "data": {
            "text/plain": [
              "<Figure size 432x288 with 1 Axes>"
            ],
            "image/png": "[encoded data removed]"
          },
          "metadata": {
            "needs_background": "light"
          }
        }
      ],
      "source": [
        "# 5\n",
        "_ = sns.boxplot(data=new_df.loc[:, \"TOTAL_FLOOR_AREA\"])"
      ]
    },
    {
      "cell_type": "code",
      "source": [
        "df[\"FLAT_STOREY_COUNT\"].isnull().mean()"
      ],
      "metadata": {
        "colab": {
          "base_uri": "https://localhost:8080/"
        },
        "id": "_e4jwNFGrAUR",
        "outputId": "02dd4835-ec83-43fb-d5fd-1694a1a00d80"
      },
      "id": "_e4jwNFGrAUR",
      "execution_count": 24,
      "outputs": [
        {
          "output_type": "execute_result",
          "data": {
            "text/plain": [
              "0.9096866733953419"
            ]
          },
          "metadata": {},
          "execution_count": 24
        }
      ]
    },
    {
      "cell_type": "code",
      "source": [
        "new_df[NUMERICAL].corr()"
      ],
      "metadata": {
        "colab": {
          "base_uri": "https://localhost:8080/",
          "height": 521
        },
        "id": "8HjvtyTlrL-H",
        "outputId": "a7e6c7ff-3fe4-4a7e-c76d-ccd9e5652027"
      },
      "id": "8HjvtyTlrL-H",
      "execution_count": 25,
      "outputs": [
        {
          "output_type": "execute_result",
          "data": {
            "text/plain": [
              "                              TOTAL_FLOOR_AREA  FLAT_STOREY_COUNT  \\\n",
              "TOTAL_FLOOR_AREA                      1.000000           0.091251   \n",
              "FLAT_STOREY_COUNT                     0.091251           1.000000   \n",
              "MULTI_GLAZE_PROPORTION               -0.036779           0.079620   \n",
              "EXTENSION_COUNT                       0.354006          -0.082358   \n",
              "NUMBER_HABITABLE_ROOMS                0.713037           0.002373   \n",
              "NUMBER_HEATED_ROOMS                   0.696131           0.002868   \n",
              "LOW_ENERGY_LIGHTING                  -0.041026          -0.085291   \n",
              "NUMBER_OPEN_FIREPLACES                0.164185          -0.031092   \n",
              "WIND_TURBINE_COUNT                    0.006453           0.003553   \n",
              "UNHEATED_CORRIDOR_LENGTH              0.041661           0.026212   \n",
              "FLOOR_HEIGHT                          0.053189          -0.053037   \n",
              "FIXED_LIGHTING_OUTLETS_COUNT          0.488059                NaN   \n",
              "LOW_ENERGY_FIXED_LIGHT_COUNT          0.275123                NaN   \n",
              "\n",
              "                              MULTI_GLAZE_PROPORTION  EXTENSION_COUNT  \\\n",
              "TOTAL_FLOOR_AREA                           -0.036779         0.354006   \n",
              "FLAT_STOREY_COUNT                           0.079620        -0.082358   \n",
              "MULTI_GLAZE_PROPORTION                      1.000000         0.013838   \n",
              "EXTENSION_COUNT                             0.013838         1.000000   \n",
              "NUMBER_HABITABLE_ROOMS                     -0.009896         0.402299   \n",
              "NUMBER_HEATED_ROOMS                         0.018422         0.398044   \n",
              "LOW_ENERGY_LIGHTING                         0.064049         0.011854   \n",
              "NUMBER_OPEN_FIREPLACES                     -0.095009         0.092294   \n",
              "WIND_TURBINE_COUNT                         -0.001130        -0.004872   \n",
              "UNHEATED_CORRIDOR_LENGTH                    0.000510        -0.014768   \n",
              "FLOOR_HEIGHT                               -0.057240         0.071492   \n",
              "FIXED_LIGHTING_OUTLETS_COUNT                0.002638         0.318705   \n",
              "LOW_ENERGY_FIXED_LIGHT_COUNT                0.024423         0.180175   \n",
              "\n",
              "                              NUMBER_HABITABLE_ROOMS  NUMBER_HEATED_ROOMS  \\\n",
              "TOTAL_FLOOR_AREA                            0.713037             0.696131   \n",
              "FLAT_STOREY_COUNT                           0.002373             0.002868   \n",
              "MULTI_GLAZE_PROPORTION                     -0.009896             0.018422   \n",
              "EXTENSION_COUNT                             0.402299             0.398044   \n",
              "NUMBER_HABITABLE_ROOMS                      1.000000             0.928330   \n",
              "NUMBER_HEATED_ROOMS                         0.928330             1.000000   \n",
              "LOW_ENERGY_LIGHTING                        -0.031837            -0.011690   \n",
              "NUMBER_OPEN_FIREPLACES                      0.162992             0.148911   \n",
              "WIND_TURBINE_COUNT                         -0.003270            -0.002766   \n",
              "UNHEATED_CORRIDOR_LENGTH                    0.028354             0.029246   \n",
              "FLOOR_HEIGHT                                0.056021             0.052099   \n",
              "FIXED_LIGHTING_OUTLETS_COUNT                0.574807             0.560692   \n",
              "LOW_ENERGY_FIXED_LIGHT_COUNT                0.311365             0.314506   \n",
              "\n",
              "                              LOW_ENERGY_LIGHTING  NUMBER_OPEN_FIREPLACES  \\\n",
              "TOTAL_FLOOR_AREA                        -0.041026                0.164185   \n",
              "FLAT_STOREY_COUNT                       -0.085291               -0.031092   \n",
              "MULTI_GLAZE_PROPORTION                   0.064049               -0.095009   \n",
              "EXTENSION_COUNT                          0.011854                0.092294   \n",
              "NUMBER_HABITABLE_ROOMS                  -0.031837                0.162992   \n",
              "NUMBER_HEATED_ROOMS                     -0.011690                0.148911   \n",
              "LOW_ENERGY_LIGHTING                      1.000000               -0.055180   \n",
              "NUMBER_OPEN_FIREPLACES                  -0.055180                1.000000   \n",
              "WIND_TURBINE_COUNT                       0.013677               -0.000771   \n",
              "UNHEATED_CORRIDOR_LENGTH                -0.003367                0.000296   \n",
              "FLOOR_HEIGHT                             0.003096                0.045550   \n",
              "FIXED_LIGHTING_OUTLETS_COUNT            -0.055415                0.107067   \n",
              "LOW_ENERGY_FIXED_LIGHT_COUNT             0.603559                0.010323   \n",
              "\n",
              "                              WIND_TURBINE_COUNT  UNHEATED_CORRIDOR_LENGTH  \\\n",
              "TOTAL_FLOOR_AREA                        0.006453                  0.041661   \n",
              "FLAT_STOREY_COUNT                       0.003553                  0.026212   \n",
              "MULTI_GLAZE_PROPORTION                 -0.001130                  0.000510   \n",
              "EXTENSION_COUNT                        -0.004872                 -0.014768   \n",
              "NUMBER_HABITABLE_ROOMS                 -0.003270                  0.028354   \n",
              "NUMBER_HEATED_ROOMS                    -0.002766                  0.029246   \n",
              "LOW_ENERGY_LIGHTING                     0.013677                 -0.003367   \n",
              "NUMBER_OPEN_FIREPLACES                 -0.000771                  0.000296   \n",
              "WIND_TURBINE_COUNT                      1.000000                 -0.000971   \n",
              "UNHEATED_CORRIDOR_LENGTH               -0.000971                  1.000000   \n",
              "FLOOR_HEIGHT                           -0.000716                  0.002734   \n",
              "FIXED_LIGHTING_OUTLETS_COUNT           -0.002042                  0.045717   \n",
              "LOW_ENERGY_FIXED_LIGHT_COUNT           -0.005417                 -0.000951   \n",
              "\n",
              "                              FLOOR_HEIGHT  FIXED_LIGHTING_OUTLETS_COUNT  \\\n",
              "TOTAL_FLOOR_AREA                  0.053189                      0.488059   \n",
              "FLAT_STOREY_COUNT                -0.053037                           NaN   \n",
              "MULTI_GLAZE_PROPORTION           -0.057240                      0.002638   \n",
              "EXTENSION_COUNT                   0.071492                      0.318705   \n",
              "NUMBER_HABITABLE_ROOMS            0.056021                      0.574807   \n",
              "NUMBER_HEATED_ROOMS               0.052099                      0.560692   \n",
              "LOW_ENERGY_LIGHTING               0.003096                     -0.055415   \n",
              "NUMBER_OPEN_FIREPLACES            0.045550                      0.107067   \n",
              "WIND_TURBINE_COUNT               -0.000716                     -0.002042   \n",
              "UNHEATED_CORRIDOR_LENGTH          0.002734                      0.045717   \n",
              "FLOOR_HEIGHT                      1.000000                     -0.001331   \n",
              "FIXED_LIGHTING_OUTLETS_COUNT     -0.001331                      1.000000   \n",
              "LOW_ENERGY_FIXED_LIGHT_COUNT      0.008724                      0.580035   \n",
              "\n",
              "                              LOW_ENERGY_FIXED_LIGHT_COUNT  \n",
              "TOTAL_FLOOR_AREA                                  0.275123  \n",
              "FLAT_STOREY_COUNT                                      NaN  \n",
              "MULTI_GLAZE_PROPORTION                            0.024423  \n",
              "EXTENSION_COUNT                                   0.180175  \n",
              "NUMBER_HABITABLE_ROOMS                            0.311365  \n",
              "NUMBER_HEATED_ROOMS                               0.314506  \n",
              "LOW_ENERGY_LIGHTING                               0.603559  \n",
              "NUMBER_OPEN_FIREPLACES                            0.010323  \n",
              "WIND_TURBINE_COUNT                               -0.005417  \n",
              "UNHEATED_CORRIDOR_LENGTH                         -0.000951  \n",
              "FLOOR_HEIGHT                                      0.008724  \n",
              "FIXED_LIGHTING_OUTLETS_COUNT                      0.580035  \n",
              "LOW_ENERGY_FIXED_LIGHT_COUNT                      1.000000  "
            ],
            "text/html": [
              "\n",
              "  <div id=\"df-507ffd7b-a48b-4239-bbc2-ac6edb8ac0b9\">\n",
              "    <div class=\"colab-df-container\">\n",
              "      <div>\n",
              "<style scoped>\n",
              "    .dataframe tbody tr th:only-of-type {\n",
              "        vertical-align: middle;\n",
              "    }\n",
              "\n",
              "    .dataframe tbody tr th {\n",
              "        vertical-align: top;\n",
              "    }\n",
              "\n",
              "    .dataframe thead th {\n",
              "        text-align: right;\n",
              "    }\n",
              "</style>\n",
              "<table border=\"1\" class=\"dataframe\">\n",
              "  <thead>\n",
              "    <tr style=\"text-align: right;\">\n",
              "      <th></th>\n",
              "      <th>TOTAL_FLOOR_AREA</th>\n",
              "      <th>FLAT_STOREY_COUNT</th>\n",
              "      <th>MULTI_GLAZE_PROPORTION</th>\n",
              "      <th>EXTENSION_COUNT</th>\n",
              "      <th>NUMBER_HABITABLE_ROOMS</th>\n",
              "      <th>NUMBER_HEATED_ROOMS</th>\n",
              "      <th>LOW_ENERGY_LIGHTING</th>\n",
              "      <th>NUMBER_OPEN_FIREPLACES</th>\n",
              "      <th>WIND_TURBINE_COUNT</th>\n",
              "      <th>UNHEATED_CORRIDOR_LENGTH</th>\n",
              "      <th>FLOOR_HEIGHT</th>\n",
              "      <th>FIXED_LIGHTING_OUTLETS_COUNT</th>\n",
              "      <th>LOW_ENERGY_FIXED_LIGHT_COUNT</th>\n",
              "    </tr>\n",
              "  </thead>\n",
              "  <tbody>\n",
              "    <tr>\n",
              "      <th>TOTAL_FLOOR_AREA</th>\n",
              "      <td>1.000000</td>\n",
              "      <td>0.091251</td>\n",
              "      <td>-0.036779</td>\n",
              "      <td>0.354006</td>\n",
              "      <td>0.713037</td>\n",
              "      <td>0.696131</td>\n",
              "      <td>-0.041026</td>\n",
              "      <td>0.164185</td>\n",
              "      <td>0.006453</td>\n",
              "      <td>0.041661</td>\n",
              "      <td>0.053189</td>\n",
              "      <td>0.488059</td>\n",
              "      <td>0.275123</td>\n",
              "    </tr>\n",
              "    <tr>\n",
              "      <th>FLAT_STOREY_COUNT</th>\n",
              "      <td>0.091251</td>\n",
              "      <td>1.000000</td>\n",
              "      <td>0.079620</td>\n",
              "      <td>-0.082358</td>\n",
              "      <td>0.002373</td>\n",
              "      <td>0.002868</td>\n",
              "      <td>-0.085291</td>\n",
              "      <td>-0.031092</td>\n",
              "      <td>0.003553</td>\n",
              "      <td>0.026212</td>\n",
              "      <td>-0.053037</td>\n",
              "      <td>NaN</td>\n",
              "      <td>NaN</td>\n",
              "    </tr>\n",
              "    <tr>\n",
              "      <th>MULTI_GLAZE_PROPORTION</th>\n",
              "      <td>-0.036779</td>\n",
              "      <td>0.079620</td>\n",
              "      <td>1.000000</td>\n",
              "      <td>0.013838</td>\n",
              "      <td>-0.009896</td>\n",
              "      <td>0.018422</td>\n",
              "      <td>0.064049</td>\n",
              "      <td>-0.095009</td>\n",
              "      <td>-0.001130</td>\n",
              "      <td>0.000510</td>\n",
              "      <td>-0.057240</td>\n",
              "      <td>0.002638</td>\n",
              "      <td>0.024423</td>\n",
              "    </tr>\n",
              "    <tr>\n",
              "      <th>EXTENSION_COUNT</th>\n",
              "      <td>0.354006</td>\n",
              "      <td>-0.082358</td>\n",
              "      <td>0.013838</td>\n",
              "      <td>1.000000</td>\n",
              "      <td>0.402299</td>\n",
              "      <td>0.398044</td>\n",
              "      <td>0.011854</td>\n",
              "      <td>0.092294</td>\n",
              "      <td>-0.004872</td>\n",
              "      <td>-0.014768</td>\n",
              "      <td>0.071492</td>\n",
              "      <td>0.318705</td>\n",
              "      <td>0.180175</td>\n",
              "    </tr>\n",
              "    <tr>\n",
              "      <th>NUMBER_HABITABLE_ROOMS</th>\n",
              "      <td>0.713037</td>\n",
              "      <td>0.002373</td>\n",
              "      <td>-0.009896</td>\n",
              "      <td>0.402299</td>\n",
              "      <td>1.000000</td>\n",
              "      <td>0.928330</td>\n",
              "      <td>-0.031837</td>\n",
              "      <td>0.162992</td>\n",
              "      <td>-0.003270</td>\n",
              "      <td>0.028354</td>\n",
              "      <td>0.056021</td>\n",
              "      <td>0.574807</td>\n",
              "      <td>0.311365</td>\n",
              "    </tr>\n",
              "    <tr>\n",
              "      <th>NUMBER_HEATED_ROOMS</th>\n",
              "      <td>0.696131</td>\n",
              "      <td>0.002868</td>\n",
              "      <td>0.018422</td>\n",
              "      <td>0.398044</td>\n",
              "      <td>0.928330</td>\n",
              "      <td>1.000000</td>\n",
              "      <td>-0.011690</td>\n",
              "      <td>0.148911</td>\n",
              "      <td>-0.002766</td>\n",
              "      <td>0.029246</td>\n",
              "      <td>0.052099</td>\n",
              "      <td>0.560692</td>\n",
              "      <td>0.314506</td>\n",
              "    </tr>\n",
              "    <tr>\n",
              "      <th>LOW_ENERGY_LIGHTING</th>\n",
              "      <td>-0.041026</td>\n",
              "      <td>-0.085291</td>\n",
              "      <td>0.064049</td>\n",
              "      <td>0.011854</td>\n",
              "      <td>-0.031837</td>\n",
              "      <td>-0.011690</td>\n",
              "      <td>1.000000</td>\n",
              "      <td>-0.055180</td>\n",
              "      <td>0.013677</td>\n",
              "      <td>-0.003367</td>\n",
              "      <td>0.003096</td>\n",
              "      <td>-0.055415</td>\n",
              "      <td>0.603559</td>\n",
              "    </tr>\n",
              "    <tr>\n",
              "      <th>NUMBER_OPEN_FIREPLACES</th>\n",
              "      <td>0.164185</td>\n",
              "      <td>-0.031092</td>\n",
              "      <td>-0.095009</td>\n",
              "      <td>0.092294</td>\n",
              "      <td>0.162992</td>\n",
              "      <td>0.148911</td>\n",
              "      <td>-0.055180</td>\n",
              "      <td>1.000000</td>\n",
              "      <td>-0.000771</td>\n",
              "      <td>0.000296</td>\n",
              "      <td>0.045550</td>\n",
              "      <td>0.107067</td>\n",
              "      <td>0.010323</td>\n",
              "    </tr>\n",
              "    <tr>\n",
              "      <th>WIND_TURBINE_COUNT</th>\n",
              "      <td>0.006453</td>\n",
              "      <td>0.003553</td>\n",
              "      <td>-0.001130</td>\n",
              "      <td>-0.004872</td>\n",
              "      <td>-0.003270</td>\n",
              "      <td>-0.002766</td>\n",
              "      <td>0.013677</td>\n",
              "      <td>-0.000771</td>\n",
              "      <td>1.000000</td>\n",
              "      <td>-0.000971</td>\n",
              "      <td>-0.000716</td>\n",
              "      <td>-0.002042</td>\n",
              "      <td>-0.005417</td>\n",
              "    </tr>\n",
              "    <tr>\n",
              "      <th>UNHEATED_CORRIDOR_LENGTH</th>\n",
              "      <td>0.041661</td>\n",
              "      <td>0.026212</td>\n",
              "      <td>0.000510</td>\n",
              "      <td>-0.014768</td>\n",
              "      <td>0.028354</td>\n",
              "      <td>0.029246</td>\n",
              "      <td>-0.003367</td>\n",
              "      <td>0.000296</td>\n",
              "      <td>-0.000971</td>\n",
              "      <td>1.000000</td>\n",
              "      <td>0.002734</td>\n",
              "      <td>0.045717</td>\n",
              "      <td>-0.000951</td>\n",
              "    </tr>\n",
              "    <tr>\n",
              "      <th>FLOOR_HEIGHT</th>\n",
              "      <td>0.053189</td>\n",
              "      <td>-0.053037</td>\n",
              "      <td>-0.057240</td>\n",
              "      <td>0.071492</td>\n",
              "      <td>0.056021</td>\n",
              "      <td>0.052099</td>\n",
              "      <td>0.003096</td>\n",
              "      <td>0.045550</td>\n",
              "      <td>-0.000716</td>\n",
              "      <td>0.002734</td>\n",
              "      <td>1.000000</td>\n",
              "      <td>-0.001331</td>\n",
              "      <td>0.008724</td>\n",
              "    </tr>\n",
              "    <tr>\n",
              "      <th>FIXED_LIGHTING_OUTLETS_COUNT</th>\n",
              "      <td>0.488059</td>\n",
              "      <td>NaN</td>\n",
              "      <td>0.002638</td>\n",
              "      <td>0.318705</td>\n",
              "      <td>0.574807</td>\n",
              "      <td>0.560692</td>\n",
              "      <td>-0.055415</td>\n",
              "      <td>0.107067</td>\n",
              "      <td>-0.002042</td>\n",
              "      <td>0.045717</td>\n",
              "      <td>-0.001331</td>\n",
              "      <td>1.000000</td>\n",
              "      <td>0.580035</td>\n",
              "    </tr>\n",
              "    <tr>\n",
              "      <th>LOW_ENERGY_FIXED_LIGHT_COUNT</th>\n",
              "      <td>0.275123</td>\n",
              "      <td>NaN</td>\n",
              "      <td>0.024423</td>\n",
              "      <td>0.180175</td>\n",
              "      <td>0.311365</td>\n",
              "      <td>0.314506</td>\n",
              "      <td>0.603559</td>\n",
              "      <td>0.010323</td>\n",
              "      <td>-0.005417</td>\n",
              "      <td>-0.000951</td>\n",
              "      <td>0.008724</td>\n",
              "      <td>0.580035</td>\n",
              "      <td>1.000000</td>\n",
              "    </tr>\n",
              "  </tbody>\n",
              "</table>\n",
              "</div>\n",
              "      <button class=\"colab-df-convert\" onclick=\"convertToInteractive('df-507ffd7b-a48b-4239-bbc2-ac6edb8ac0b9')\"\n",
              "              title=\"Convert this dataframe to an interactive table.\"\n",
              "              style=\"display:none;\">\n",
              "        \n",
              "  <svg xmlns=\"http://www.w3.org/2000/svg\" height=\"24px\"viewBox=\"0 0 24 24\"\n",
              "       width=\"24px\">\n",
              "    <path d=\"M0 0h24v24H0V0z\" fill=\"none\"/>\n",
              "    <path d=\"M18.56 5.44l.94 2.06.94-2.06 2.06-.94-2.06-.94-.94-2.06-.94 2.06-2.06.94zm-11 1L8.5 8.5l.94-2.06 2.06-.94-2.06-.94L8.5 2.5l-.94 2.06-2.06.94zm10 10l.94 2.06.94-2.06 2.06-.94-2.06-.94-.94-2.06-.94 2.06-2.06.94z\"/><path d=\"M17.41 7.96l-1.37-1.37c-.4-.4-.92-.59-1.43-.59-.52 0-1.04.2-1.43.59L10.3 9.45l-7.72 7.72c-.78.78-.78 2.05 0 2.83L4 21.41c.39.39.9.59 1.41.59.51 0 1.02-.2 1.41-.59l7.78-7.78 2.81-2.81c.8-.78.8-2.07 0-2.86zM5.41 20L4 18.59l7.72-7.72 1.47 1.35L5.41 20z\"/>\n",
              "  </svg>\n",
              "      </button>\n",
              "      \n",
              "  <style>\n",
              "    .colab-df-container {\n",
              "      display:flex;\n",
              "      flex-wrap:wrap;\n",
              "      gap: 12px;\n",
              "    }\n",
              "\n",
              "    .colab-df-convert {\n",
              "      background-color: #E8F0FE;\n",
              "      border: none;\n",
              "      border-radius: 50%;\n",
              "      cursor: pointer;\n",
              "      display: none;\n",
              "      fill: #1967D2;\n",
              "      height: 32px;\n",
              "      padding: 0 0 0 0;\n",
              "      width: 32px;\n",
              "    }\n",
              "\n",
              "    .colab-df-convert:hover {\n",
              "      background-color: #E2EBFA;\n",
              "      box-shadow: 0px 1px 2px rgba(60, 64, 67, 0.3), 0px 1px 3px 1px rgba(60, 64, 67, 0.15);\n",
              "      fill: #174EA6;\n",
              "    }\n",
              "\n",
              "    [theme=dark] .colab-df-convert {\n",
              "      background-color: #3B4455;\n",
              "      fill: #D2E3FC;\n",
              "    }\n",
              "\n",
              "    [theme=dark] .colab-df-convert:hover {\n",
              "      background-color: #434B5C;\n",
              "      box-shadow: 0px 1px 3px 1px rgba(0, 0, 0, 0.15);\n",
              "      filter: drop-shadow(0px 1px 2px rgba(0, 0, 0, 0.3));\n",
              "      fill: #FFFFFF;\n",
              "    }\n",
              "  </style>\n",
              "\n",
              "      <script>\n",
              "        const buttonEl =\n",
              "          document.querySelector('#df-507ffd7b-a48b-4239-bbc2-ac6edb8ac0b9 button.colab-df-convert');\n",
              "        buttonEl.style.display =\n",
              "          google.colab.kernel.accessAllowed ? 'block' : 'none';\n",
              "\n",
              "        async function convertToInteractive(key) {\n",
              "          const element = document.querySelector('#df-507ffd7b-a48b-4239-bbc2-ac6edb8ac0b9');\n",
              "          const dataTable =\n",
              "            await google.colab.kernel.invokeFunction('convertToInteractive',\n",
              "                                                     [key], {});\n",
              "          if (!dataTable) return;\n",
              "\n",
              "          const docLinkHtml = 'Like what you see? Visit the ' +\n",
              "            '<a target=\"_blank\" href=https://colab.research.google.com/notebooks/data_table.ipynb>data table notebook</a>'\n",
              "            + ' to learn more about interactive tables.';\n",
              "          element.innerHTML = '';\n",
              "          dataTable['output_type'] = 'display_data';\n",
              "          await google.colab.output.renderOutput(dataTable, element);\n",
              "          const docLink = document.createElement('div');\n",
              "          docLink.innerHTML = docLinkHtml;\n",
              "          element.appendChild(docLink);\n",
              "        }\n",
              "      </script>\n",
              "    </div>\n",
              "  </div>\n",
              "  "
            ]
          },
          "metadata": {},
          "execution_count": 25
        }
      ]
    },
    {
      "cell_type": "code",
      "source": [
        "df[[\"LOW_ENERGY_LIGHTING\", \"FIXED_LIGHTING_OUTLETS_COUNT\", \"LOW_ENERGY_FIXED_LIGHT_COUNT\"]].isnull().mean()"
      ],
      "metadata": {
        "colab": {
          "base_uri": "https://localhost:8080/"
        },
        "id": "e7y_YfEhsxHc",
        "outputId": "7ddf1bc7-2566-4786-ae66-fd53b001d3a4"
      },
      "id": "e7y_YfEhsxHc",
      "execution_count": 26,
      "outputs": [
        {
          "output_type": "execute_result",
          "data": {
            "text/plain": [
              "LOW_ENERGY_LIGHTING             0.028054\n",
              "FIXED_LIGHTING_OUTLETS_COUNT    0.540350\n",
              "LOW_ENERGY_FIXED_LIGHT_COUNT    0.604011\n",
              "dtype: float64"
            ]
          },
          "metadata": {},
          "execution_count": 26
        }
      ]
    },
    {
      "cell_type": "code",
      "execution_count": 27,
      "id": "64e36645",
      "metadata": {
        "colab": {
          "base_uri": "https://localhost:8080/",
          "height": 998
        },
        "id": "64e36645",
        "outputId": "08a207e9-e826-4ae5-c3c9-6fe34558bbad"
      },
      "outputs": [
        {
          "output_type": "execute_result",
          "data": {
            "text/plain": [
              "<matplotlib.axes._subplots.AxesSubplot at 0x7fa5a79ee990>"
            ]
          },
          "metadata": {},
          "execution_count": 27
        },
        {
          "output_type": "display_data",
          "data": {
            "text/plain": [
              "<Figure size 1440x1008 with 2 Axes>"
            ],
            "image/png": "[encoded data removed]"
          },
          "metadata": {
            "needs_background": "light"
          }
        }
      ],
      "source": [
        "# 6\n",
        "\n",
        "import matplotlib.pyplot as plt\n",
        "\n",
        "plt.figure(figsize=(20,14))\n",
        "\n",
        "sns.heatmap(new_df[NUMERICAL].corr(), annot=True)"
      ]
    },
    {
      "cell_type": "code",
      "source": [
        ""
      ],
      "metadata": {
        "id": "n5W4lb0GrLMV"
      },
      "id": "n5W4lb0GrLMV",
      "execution_count": 27,
      "outputs": []
    }
  ],
  "metadata": {
    "kernelspec": {
      "display_name": "Python 3 (ipykernel)",
      "language": "python",
      "name": "python3"
    },
    "language_info": {
      "codemirror_mode": {
        "name": "ipython",
        "version": 3
      },
      "file_extension": ".py",
      "mimetype": "text/x-python",
      "name": "python",
      "nbconvert_exporter": "python",
      "pygments_lexer": "ipython3",
      "version": "3.7.13"
    },
    "colab": {
      "name": "EPC_01_exploration_full.ipynb",
      "provenance": [],
      "include_colab_link": true
    }
  },
  "nbformat": 4,
  "nbformat_minor": 5
}