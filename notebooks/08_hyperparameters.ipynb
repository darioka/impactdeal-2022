{
 "cells": [
  {
   "cell_type": "code",
   "execution_count": 1,
   "id": "4d708533",
   "metadata": {},
   "outputs": [],
   "source": [
    "#!git clone https://github.com/darioka/impactdeal-2022.git\n",
    "#%cd impactdeal-2022\n",
    "#!pip install -r requirements.txt\n",
    "#!pip install ."
   ]
  },
  {
   "cell_type": "markdown",
   "id": "02dbae40",
   "metadata": {},
   "source": [
    "# Hyperparameters\n",
    "\n",
    "Looking at the documentations of many advanced machine learning models, we always find that a lot of options can be specified. These parameters are **not learned** by the model on the data and are called **hyperparameters**.\n",
    "They are specific for every model and control how the model learns.\n",
    "\n",
    "\n",
    "## Table of Contents\n",
    "\n",
    "1. [Preprocessing](#Preprocessing)\n",
    "2. [Hyperparameter tuning on validation data](#Hyperparameter-tuning-on-validation-data)\n",
    "3. [Cross validation](#Cross-validation)\n",
    "4. [Grid search](#Grid-search)\n",
    "5. [Randomized search](#Randomized-search)\n",
    "6. [Conclusions](#Conclusions)"
   ]
  },
  {
   "cell_type": "markdown",
   "id": "3efcffea",
   "metadata": {},
   "source": [
    "## Preprocessing\n",
    "\n",
    "We are now going prepare the dataset to train the `scikit-learn` [HistGradientBoostingClassifier](https://scikit-learn.org/stable/modules/generated/sklearn.ensemble.HistGradientBoostingClassifier.html).\n",
    "\n",
    "First, let's load it in the usual way. Then let's encode categorical variables. This time however we will leave missing values as they are: we want to exploit the model's native support for missing data."
   ]
  },
  {
   "cell_type": "code",
   "execution_count": 2,
   "id": "003b87ab",
   "metadata": {},
   "outputs": [],
   "source": [
    "import pandas as pd\n",
    "\n",
    "from sklearn.datasets import fetch_openml\n",
    "from sklearn.model_selection import train_test_split\n",
    "\n",
    "from sklearn.preprocessing import OrdinalEncoder\n",
    "\n",
    "\n",
    "X, y = fetch_openml(data_id=1590, return_X_y=True, as_frame=True)\n",
    "X_train, X_test, y_train, y_test = train_test_split(X, y, test_size=0.3, stratify=y, random_state=42)\n",
    "\n",
    "numerical_cols = [\"age\", \"education-num\", \"capital-gain\", \"capital-loss\", \"hours-per-week\"]\n",
    "categorical_cols = [\"workclass\", \"occupation\", \"sex\", \"marital-status\", \"race\"]\n",
    "\n",
    "oe = OrdinalEncoder()\n",
    "\n",
    "cat_X_train = pd.DataFrame(\n",
    "    oe.fit_transform(X_train[categorical_cols]),\n",
    "    columns=categorical_cols, index=X_train.index\n",
    ")\n",
    "cat_X_test = pd.DataFrame(\n",
    "    oe.transform(X_test[categorical_cols]),\n",
    "    columns=categorical_cols, index=X_test.index\n",
    ")\n",
    "\n",
    "preprocessed_X_train = pd.concat([X_train[numerical_cols], cat_X_train], axis=1)\n",
    "preprocessed_X_test = pd.concat([X_test[numerical_cols], cat_X_test], axis=1)"
   ]
  },
  {
   "cell_type": "markdown",
   "id": "105e6a2d",
   "metadata": {},
   "source": [
    "Now, how do we choose the right hyperparameters? There are no best values in general, everything depends on the problem at hand. Instead of choosing randomly, we could try to **find the hyperparameters that give the best performances**. The procedure could have the following steps:\n",
    "\n",
    "1. Repeat $N$ times:\n",
    "    1. choose a combinations of hyperameters,\n",
    "    2. fit the model on the training dataset,\n",
    "    3. evaluate the model on an independent dataset\n",
    "2. Choose the model with the best performances.\n",
    "\n",
    "Point (1.C) is fundamental: as we know, we cannot measure performances on the same dataset we used for training because they are overly optimistic. But we cannot use the test set either! If we exploit it to \"learn\" which are the best hyperparameters, we could use it for the final assessment on model performance. In other words, if we want it to be a valid test set, we should never use it to extract any kind of information, including hyperparameter search.\n",
    "\n",
    "What should we do then? We have two possibilities:\n",
    "1. Split the dataset once more, creating a **validation dataset**,\n",
    "2. Use **cross validation**.\n",
    "\n",
    "\n",
    "## Hyperparameter tuning on validation data\n",
    "\n",
    "The simplest solution is to exclude a part of the data from the training set and use it for evaluating the model with the chosen hyperparameters.\n",
    "\n",
    "Let's try this technique, focusing on one hyperparameter to tune: `max_leaf_nodes`. Leaves nodes are nodes where the actual decisions \"happen\", therefore, similarly to `max_depth`, this parameter controls how deep a tree can grow (remember that given that in this model trees grow leaf-wise, like [LightGBM](https://lightgbm.readthedocs.io/) and differently from [XGBoost](https://xgboost.readthedocs.io/))."
   ]
  },
  {
   "cell_type": "code",
   "execution_count": 3,
   "id": "b9ec26cd",
   "metadata": {},
   "outputs": [
    {
     "data": {
      "text/plain": [
       "[0.8581456566247441, 0.8689675343667739, 0.8704299502778591]"
      ]
     },
     "execution_count": 3,
     "metadata": {},
     "output_type": "execute_result"
    }
   ],
   "source": [
    "from sklearn.ensemble import HistGradientBoostingClassifier\n",
    "\n",
    "preprocessed_X_train_train, preprocessed_X_train_val, y_train_train, y_train_val = train_test_split(\n",
    "    preprocessed_X_train, y_train, test_size=0.2, random_state=42, stratify=y_train)\n",
    "\n",
    "max_leaf_nodes = [3, 30, 60]\n",
    "val_scores = []\n",
    "for x in max_leaf_nodes:\n",
    "    model = HistGradientBoostingClassifier(\n",
    "        categorical_features=preprocessed_X_train.columns.isin(categorical_cols),  # native support for categorical\n",
    "        max_leaf_nodes=x,\n",
    "        random_state=42\n",
    "    )\n",
    "    model.fit(preprocessed_X_train_train, y_train_train)\n",
    "    val_scores.append(model.score(preprocessed_X_train_val, y_train_val))\n",
    "\n",
    "val_scores"
   ]
  },
  {
   "cell_type": "markdown",
   "id": "25c68486",
   "metadata": {},
   "source": [
    "Given that the best parameter seems to be `max_leaf_nodes=30`, now we can train the model on the full training data and assess its performance on the test dataset."
   ]
  },
  {
   "cell_type": "code",
   "execution_count": 4,
   "id": "4b717bb0",
   "metadata": {},
   "outputs": [
    {
     "name": "stdout",
     "output_type": "stream",
     "text": [
      "              precision    recall  f1-score   support\n",
      "\n",
      "        >50K       0.79      0.65      0.72      3506\n",
      "       <=50K       0.90      0.95      0.92     11147\n",
      "\n",
      "    accuracy                           0.88     14653\n",
      "   macro avg       0.84      0.80      0.82     14653\n",
      "weighted avg       0.87      0.88      0.87     14653\n",
      "\n"
     ]
    },
    {
     "data": {
      "image/png": "[encoded data removed]",
      "text/plain": [
       "<Figure size 432x288 with 2 Axes>"
      ]
     },
     "metadata": {
      "needs_background": "light"
     },
     "output_type": "display_data"
    }
   ],
   "source": [
    "from sklearn.metrics import classification_report, ConfusionMatrixDisplay\n",
    "\n",
    "model = HistGradientBoostingClassifier(\n",
    "        categorical_features=preprocessed_X_train.columns.isin(categorical_cols),\n",
    "        max_leaf_nodes=30,\n",
    "        random_state=42\n",
    "    )\n",
    "model.fit(preprocessed_X_train, y_train)\n",
    "\n",
    "y_pred = model.predict(preprocessed_X_test)\n",
    "ConfusionMatrixDisplay.from_predictions(y_test, y_pred, labels=[\">50K\", \"<=50K\"], normalize=\"true\")\n",
    "\n",
    "print(classification_report(y_test, y_pred, labels=[\">50K\", \"<=50K\"]))"
   ]
  },
  {
   "attachments": {
    "cross_validation.png": {
     "image/png": "[encoded data removed]"
    }
   },
   "cell_type": "markdown",
   "id": "565973a9",
   "metadata": {},
   "source": [
    "## Cross validation\n",
    "\n",
    "The train-test-validation split is by far the simplest method to create independent datasets, but it has a major downside: it strongly depends on the way we make this split. After all, the split we do is just one realization of all the possible random splits we could do. This impacts even more if the amount of data is small.\n",
    "\n",
    "A powerful technique to overcome this problem is **cross validation**. Instead of splitting just once, we repeat the split several times, training the model on the training set and computing scores on the other. At the end, the results of each iteration. This is also a more statistically robust way to assess the generalization performance of a model, as we can also measure its variability across different splits.\n",
    "\n",
    "There are several cross-validation strategies, but the most used one is **K-fold cross validation**.\n",
    "1. Split the dataset in $K$ parts (usually 5 or 10),\n",
    "2. For each one subset $k$:\n",
    "    1. Train the model on the other $K-1$ parts,\n",
    "    2. Evaluate on the model on subset $k$.\n",
    "3. Collect the $K$ results.\n",
    "\n",
    "\n",
    "![cross_validation.png](attachment:cross_validation.png)\n",
    "\n",
    "\n",
    "In `scikit-learn` we could use the function [cross_validate](https://scikit-learn.org/stable/modules/generated/sklearn.model_selection.cross_validate.html) to make all the dirty job for us."
   ]
  },
  {
   "cell_type": "code",
   "execution_count": 5,
   "id": "9fa96763",
   "metadata": {
    "scrolled": true
   },
   "outputs": [
    {
     "name": "stderr",
     "output_type": "stream",
     "text": [
      "[Parallel(n_jobs=1)]: Using backend SequentialBackend with 1 concurrent workers.\n"
     ]
    },
    {
     "name": "stdout",
     "output_type": "stream",
     "text": [
      "[CV] END ......................................., score=0.861 total time=   0.4s\n"
     ]
    },
    {
     "name": "stderr",
     "output_type": "stream",
     "text": [
      "[Parallel(n_jobs=1)]: Done   1 out of   1 | elapsed:    0.4s remaining:    0.0s\n"
     ]
    },
    {
     "name": "stdout",
     "output_type": "stream",
     "text": [
      "[CV] END ......................................., score=0.863 total time=   0.3s\n"
     ]
    },
    {
     "name": "stderr",
     "output_type": "stream",
     "text": [
      "[Parallel(n_jobs=1)]: Done   2 out of   2 | elapsed:    0.7s remaining:    0.0s\n"
     ]
    },
    {
     "name": "stdout",
     "output_type": "stream",
     "text": [
      "[CV] END ......................................., score=0.865 total time=   0.5s\n",
      "[CV] END ......................................., score=0.853 total time=   0.3s\n",
      "[CV] END ......................................., score=0.856 total time=   0.3s\n"
     ]
    },
    {
     "name": "stderr",
     "output_type": "stream",
     "text": [
      "[Parallel(n_jobs=1)]: Done   5 out of   5 | elapsed:    1.8s finished\n",
      "[Parallel(n_jobs=1)]: Using backend SequentialBackend with 1 concurrent workers.\n"
     ]
    },
    {
     "name": "stdout",
     "output_type": "stream",
     "text": [
      "[CV] END ......................................., score=0.872 total time=   0.7s\n"
     ]
    },
    {
     "name": "stderr",
     "output_type": "stream",
     "text": [
      "[Parallel(n_jobs=1)]: Done   1 out of   1 | elapsed:    0.7s remaining:    0.0s\n"
     ]
    },
    {
     "name": "stdout",
     "output_type": "stream",
     "text": [
      "[CV] END ......................................., score=0.871 total time=   0.7s\n"
     ]
    },
    {
     "name": "stderr",
     "output_type": "stream",
     "text": [
      "[Parallel(n_jobs=1)]: Done   2 out of   2 | elapsed:    1.4s remaining:    0.0s\n"
     ]
    },
    {
     "name": "stdout",
     "output_type": "stream",
     "text": [
      "[CV] END ......................................., score=0.872 total time=   0.9s\n",
      "[CV] END ......................................., score=0.864 total time=   0.8s\n",
      "[CV] END ......................................., score=0.870 total time=   0.6s\n"
     ]
    },
    {
     "name": "stderr",
     "output_type": "stream",
     "text": [
      "[Parallel(n_jobs=1)]: Done   5 out of   5 | elapsed:    3.7s finished\n",
      "[Parallel(n_jobs=1)]: Using backend SequentialBackend with 1 concurrent workers.\n"
     ]
    },
    {
     "name": "stdout",
     "output_type": "stream",
     "text": [
      "[CV] END ......................................., score=0.870 total time=   1.0s\n"
     ]
    },
    {
     "name": "stderr",
     "output_type": "stream",
     "text": [
      "[Parallel(n_jobs=1)]: Done   1 out of   1 | elapsed:    1.0s remaining:    0.0s\n"
     ]
    },
    {
     "name": "stdout",
     "output_type": "stream",
     "text": [
      "[CV] END ......................................., score=0.868 total time=   1.0s\n"
     ]
    },
    {
     "name": "stderr",
     "output_type": "stream",
     "text": [
      "[Parallel(n_jobs=1)]: Done   2 out of   2 | elapsed:    2.0s remaining:    0.0s\n"
     ]
    },
    {
     "name": "stdout",
     "output_type": "stream",
     "text": [
      "[CV] END ......................................., score=0.872 total time=   0.9s\n",
      "[CV] END ......................................., score=0.863 total time=   0.7s\n",
      "[CV] END ......................................., score=0.872 total time=   0.8s\n"
     ]
    },
    {
     "name": "stderr",
     "output_type": "stream",
     "text": [
      "[Parallel(n_jobs=1)]: Done   5 out of   5 | elapsed:    4.5s finished\n"
     ]
    },
    {
     "data": {
      "text/plain": [
       "[0.8581456566247441, 0.8689675343667739, 0.8704299502778591]"
      ]
     },
     "execution_count": 5,
     "metadata": {},
     "output_type": "execute_result"
    }
   ],
   "source": [
    "from sklearn.model_selection import cross_validate\n",
    "\n",
    "max_leaf_nodes = [3, 30, 60]\n",
    "\n",
    "cv_scores = []\n",
    "for x in max_leaf_nodes:\n",
    "    model = HistGradientBoostingClassifier(\n",
    "        categorical_features=preprocessed_X_train.columns.isin(categorical_cols),  # native support for categorical\n",
    "        max_leaf_nodes=x,\n",
    "        random_state=42\n",
    "    )\n",
    "    cv_scores.append(\n",
    "        cross_validate(estimator=model, X=preprocessed_X_train, y=y_train, cv=5, scoring=\"accuracy\", verbose=3))\n",
    "\n",
    "val_scores"
   ]
  },
  {
   "cell_type": "markdown",
   "id": "b4408b31",
   "metadata": {},
   "source": [
    "## Grid search\n",
    "\n",
    "So far, our hyperparameter tuning has been somewhat manual: we arbitrarily chose some parameters and train/evaluate a model one by one with a `for` loop over all of them.\n",
    "\n",
    "This approach is called **grid search** and can be done in an easiest way with [GridSearchCV](https://scikit-learn.org/stable/modules/generated/sklearn.model_selection.GridSearchCV.html). We can appreciate it tuning multiple parameters at the same time, as we don't need to manually create all combinations. In practice, we just need to specify the model and the parameters we want to check and `GridSearchCV` will do the rest."
   ]
  },
  {
   "cell_type": "code",
   "execution_count": 6,
   "id": "c957e69b",
   "metadata": {
    "scrolled": true
   },
   "outputs": [
    {
     "name": "stdout",
     "output_type": "stream",
     "text": [
      "Fitting 5 folds for each of 9 candidates, totalling 45 fits\n",
      "[CV 1/5] END learning_rate=0.01, max_leaf_nodes=3;, score=(train=0.790, test=0.792) total time=   0.3s\n",
      "[CV 2/5] END learning_rate=0.01, max_leaf_nodes=3;, score=(train=0.790, test=0.791) total time=   0.3s\n",
      "[CV 3/5] END learning_rate=0.01, max_leaf_nodes=3;, score=(train=0.790, test=0.792) total time=   0.3s\n",
      "[CV 4/5] END learning_rate=0.01, max_leaf_nodes=3;, score=(train=0.790, test=0.789) total time=   0.3s\n",
      "[CV 5/5] END learning_rate=0.01, max_leaf_nodes=3;, score=(train=0.794, test=0.788) total time=   0.3s\n",
      "[CV 1/5] END learning_rate=0.01, max_leaf_nodes=30;, score=(train=0.854, test=0.851) total time=   0.7s\n",
      "[CV 2/5] END learning_rate=0.01, max_leaf_nodes=30;, score=(train=0.854, test=0.857) total time=   0.8s\n",
      "[CV 3/5] END learning_rate=0.01, max_leaf_nodes=30;, score=(train=0.854, test=0.856) total time=   0.7s\n",
      "[CV 4/5] END learning_rate=0.01, max_leaf_nodes=30;, score=(train=0.857, test=0.849) total time=   0.7s\n",
      "[CV 5/5] END learning_rate=0.01, max_leaf_nodes=30;, score=(train=0.856, test=0.846) total time=   0.7s\n",
      "[CV 1/5] END learning_rate=0.01, max_leaf_nodes=60;, score=(train=0.857, test=0.852) total time=   1.1s\n",
      "[CV 2/5] END learning_rate=0.01, max_leaf_nodes=60;, score=(train=0.857, test=0.857) total time=   1.1s\n",
      "[CV 3/5] END learning_rate=0.01, max_leaf_nodes=60;, score=(train=0.856, test=0.860) total time=   1.1s\n",
      "[CV 4/5] END learning_rate=0.01, max_leaf_nodes=60;, score=(train=0.862, test=0.851) total time=   1.0s\n",
      "[CV 5/5] END learning_rate=0.01, max_leaf_nodes=60;, score=(train=0.862, test=0.850) total time=   1.1s\n",
      "[CV 1/5] END learning_rate=0.1, max_leaf_nodes=3;, score=(train=0.860, test=0.861) total time=   0.3s\n",
      "[CV 2/5] END learning_rate=0.1, max_leaf_nodes=3;, score=(train=0.860, test=0.863) total time=   0.3s\n",
      "[CV 3/5] END learning_rate=0.1, max_leaf_nodes=3;, score=(train=0.859, test=0.865) total time=   0.3s\n",
      "[CV 4/5] END learning_rate=0.1, max_leaf_nodes=3;, score=(train=0.862, test=0.853) total time=   0.3s\n",
      "[CV 5/5] END learning_rate=0.1, max_leaf_nodes=3;, score=(train=0.861, test=0.856) total time=   0.4s\n",
      "[CV 1/5] END learning_rate=0.1, max_leaf_nodes=30;, score=(train=0.881, test=0.872) total time=   0.6s\n",
      "[CV 2/5] END learning_rate=0.1, max_leaf_nodes=30;, score=(train=0.883, test=0.871) total time=   0.6s\n",
      "[CV 3/5] END learning_rate=0.1, max_leaf_nodes=30;, score=(train=0.882, test=0.872) total time=   0.8s\n",
      "[CV 4/5] END learning_rate=0.1, max_leaf_nodes=30;, score=(train=0.884, test=0.864) total time=   0.9s\n",
      "[CV 5/5] END learning_rate=0.1, max_leaf_nodes=30;, score=(train=0.882, test=0.870) total time=   0.6s\n",
      "[CV 1/5] END learning_rate=0.1, max_leaf_nodes=60;, score=(train=0.889, test=0.870) total time=   1.0s\n",
      "[CV 2/5] END learning_rate=0.1, max_leaf_nodes=60;, score=(train=0.889, test=0.868) total time=   1.0s\n",
      "[CV 3/5] END learning_rate=0.1, max_leaf_nodes=60;, score=(train=0.889, test=0.872) total time=   1.1s\n",
      "[CV 4/5] END learning_rate=0.1, max_leaf_nodes=60;, score=(train=0.887, test=0.863) total time=   0.8s\n",
      "[CV 5/5] END learning_rate=0.1, max_leaf_nodes=60;, score=(train=0.890, test=0.872) total time=   0.9s\n",
      "[CV 1/5] END learning_rate=1, max_leaf_nodes=3;, score=(train=0.872, test=0.871) total time=   0.3s\n",
      "[CV 2/5] END learning_rate=1, max_leaf_nodes=3;, score=(train=0.873, test=0.870) total time=   0.3s\n",
      "[CV 3/5] END learning_rate=1, max_leaf_nodes=3;, score=(train=0.871, test=0.871) total time=   0.2s\n",
      "[CV 4/5] END learning_rate=1, max_leaf_nodes=3;, score=(train=0.875, test=0.865) total time=   0.3s\n",
      "[CV 5/5] END learning_rate=1, max_leaf_nodes=3;, score=(train=0.857, test=0.851) total time=   0.1s\n",
      "[CV 1/5] END learning_rate=1, max_leaf_nodes=30;, score=(train=0.878, test=0.864) total time=   0.2s\n",
      "[CV 2/5] END learning_rate=1, max_leaf_nodes=30;, score=(train=0.874, test=0.858) total time=   0.1s\n",
      "[CV 3/5] END learning_rate=1, max_leaf_nodes=30;, score=(train=0.871, test=0.861) total time=   0.1s\n",
      "[CV 4/5] END learning_rate=1, max_leaf_nodes=30;, score=(train=0.873, test=0.853) total time=   0.1s\n",
      "[CV 5/5] END learning_rate=1, max_leaf_nodes=30;, score=(train=0.881, test=0.857) total time=   0.1s\n",
      "[CV 1/5] END learning_rate=1, max_leaf_nodes=60;, score=(train=0.883, test=0.858) total time=   0.2s\n",
      "[CV 2/5] END learning_rate=1, max_leaf_nodes=60;, score=(train=0.883, test=0.855) total time=   0.2s\n",
      "[CV 3/5] END learning_rate=1, max_leaf_nodes=60;, score=(train=0.880, test=0.852) total time=   0.2s\n",
      "[CV 4/5] END learning_rate=1, max_leaf_nodes=60;, score=(train=0.875, test=0.837) total time=   0.2s\n",
      "[CV 5/5] END learning_rate=1, max_leaf_nodes=60;, score=(train=0.885, test=0.853) total time=   0.2s\n"
     ]
    },
    {
     "data": {
      "text/plain": [
       "GridSearchCV(cv=5,\n",
       "             estimator=HistGradientBoostingClassifier(categorical_features=array([False, False, False, False, False,  True,  True,  True,  True,\n",
       "        True]),\n",
       "                                                      random_state=42),\n",
       "             param_grid={'learning_rate': [0.01, 0.1, 1],\n",
       "                         'max_leaf_nodes': [3, 30, 60]},\n",
       "             return_train_score=True, verbose=3)"
      ]
     },
     "execution_count": 6,
     "metadata": {},
     "output_type": "execute_result"
    }
   ],
   "source": [
    "from sklearn.model_selection import GridSearchCV\n",
    "\n",
    "param_grid = {  # parameters you want to change\n",
    "    \"learning_rate\": [0.01, 0.1, 1],\n",
    "    \"max_leaf_nodes\": [3, 30, 60]\n",
    "}\n",
    "model = HistGradientBoostingClassifier(  # parameters you don't want to change\n",
    "    categorical_features=preprocessed_X_train.columns.isin(categorical_cols),\n",
    "    random_state=42\n",
    ")\n",
    "grid_search_cv = GridSearchCV(model, param_grid=param_grid, cv=5, refit=True, return_train_score=True, verbose=3)\n",
    "grid_search_cv.fit(preprocessed_X_train, y_train)"
   ]
  },
  {
   "cell_type": "code",
   "execution_count": 7,
   "id": "2f8c6c3d",
   "metadata": {},
   "outputs": [
    {
     "data": {
      "text/html": [
       "<div>\n",
       "<style scoped>\n",
       "    .dataframe tbody tr th:only-of-type {\n",
       "        vertical-align: middle;\n",
       "    }\n",
       "\n",
       "    .dataframe tbody tr th {\n",
       "        vertical-align: top;\n",
       "    }\n",
       "\n",
       "    .dataframe thead th {\n",
       "        text-align: right;\n",
       "    }\n",
       "</style>\n",
       "<table border=\"1\" class=\"dataframe\">\n",
       "  <thead>\n",
       "    <tr style=\"text-align: right;\">\n",
       "      <th></th>\n",
       "      <th>mean_fit_time</th>\n",
       "      <th>std_fit_time</th>\n",
       "      <th>mean_score_time</th>\n",
       "      <th>std_score_time</th>\n",
       "      <th>param_learning_rate</th>\n",
       "      <th>param_max_leaf_nodes</th>\n",
       "      <th>split0_test_score</th>\n",
       "      <th>split1_test_score</th>\n",
       "      <th>split2_test_score</th>\n",
       "      <th>split3_test_score</th>\n",
       "      <th>...</th>\n",
       "      <th>mean_test_score</th>\n",
       "      <th>std_test_score</th>\n",
       "      <th>rank_test_score</th>\n",
       "      <th>split0_train_score</th>\n",
       "      <th>split1_train_score</th>\n",
       "      <th>split2_train_score</th>\n",
       "      <th>split3_train_score</th>\n",
       "      <th>split4_train_score</th>\n",
       "      <th>mean_train_score</th>\n",
       "      <th>std_train_score</th>\n",
       "    </tr>\n",
       "  </thead>\n",
       "  <tbody>\n",
       "    <tr>\n",
       "      <th>0</th>\n",
       "      <td>0.282843</td>\n",
       "      <td>0.006379</td>\n",
       "      <td>0.031146</td>\n",
       "      <td>0.000456</td>\n",
       "      <td>0.01</td>\n",
       "      <td>3</td>\n",
       "      <td>0.791606</td>\n",
       "      <td>0.791459</td>\n",
       "      <td>0.792044</td>\n",
       "      <td>0.788681</td>\n",
       "      <td>...</td>\n",
       "      <td>0.790283</td>\n",
       "      <td>0.001781</td>\n",
       "      <td>9</td>\n",
       "      <td>0.789697</td>\n",
       "      <td>0.789733</td>\n",
       "      <td>0.789551</td>\n",
       "      <td>0.790428</td>\n",
       "      <td>0.793580</td>\n",
       "      <td>0.790598</td>\n",
       "      <td>0.001522</td>\n",
       "    </tr>\n",
       "    <tr>\n",
       "      <th>1</th>\n",
       "      <td>0.665018</td>\n",
       "      <td>0.032622</td>\n",
       "      <td>0.044128</td>\n",
       "      <td>0.001003</td>\n",
       "      <td>0.01</td>\n",
       "      <td>30</td>\n",
       "      <td>0.850687</td>\n",
       "      <td>0.856683</td>\n",
       "      <td>0.856391</td>\n",
       "      <td>0.848932</td>\n",
       "      <td>...</td>\n",
       "      <td>0.851707</td>\n",
       "      <td>0.004240</td>\n",
       "      <td>7</td>\n",
       "      <td>0.853570</td>\n",
       "      <td>0.853863</td>\n",
       "      <td>0.853753</td>\n",
       "      <td>0.856970</td>\n",
       "      <td>0.856427</td>\n",
       "      <td>0.854917</td>\n",
       "      <td>0.001468</td>\n",
       "    </tr>\n",
       "    <tr>\n",
       "      <th>2</th>\n",
       "      <td>1.029424</td>\n",
       "      <td>0.023212</td>\n",
       "      <td>0.049187</td>\n",
       "      <td>0.000957</td>\n",
       "      <td>0.01</td>\n",
       "      <td>60</td>\n",
       "      <td>0.852004</td>\n",
       "      <td>0.857268</td>\n",
       "      <td>0.859608</td>\n",
       "      <td>0.850687</td>\n",
       "      <td>...</td>\n",
       "      <td>0.853842</td>\n",
       "      <td>0.003898</td>\n",
       "      <td>6</td>\n",
       "      <td>0.857373</td>\n",
       "      <td>0.856861</td>\n",
       "      <td>0.856239</td>\n",
       "      <td>0.861504</td>\n",
       "      <td>0.861911</td>\n",
       "      <td>0.858778</td>\n",
       "      <td>0.002423</td>\n",
       "    </tr>\n",
       "    <tr>\n",
       "      <th>3</th>\n",
       "      <td>0.284761</td>\n",
       "      <td>0.018680</td>\n",
       "      <td>0.029855</td>\n",
       "      <td>0.002560</td>\n",
       "      <td>0.1</td>\n",
       "      <td>3</td>\n",
       "      <td>0.861363</td>\n",
       "      <td>0.862825</td>\n",
       "      <td>0.864727</td>\n",
       "      <td>0.852881</td>\n",
       "      <td>...</td>\n",
       "      <td>0.859516</td>\n",
       "      <td>0.004460</td>\n",
       "      <td>4</td>\n",
       "      <td>0.860042</td>\n",
       "      <td>0.860334</td>\n",
       "      <td>0.859420</td>\n",
       "      <td>0.862199</td>\n",
       "      <td>0.861107</td>\n",
       "      <td>0.860620</td>\n",
       "      <td>0.000958</td>\n",
       "    </tr>\n",
       "    <tr>\n",
       "      <th>4</th>\n",
       "      <td>0.648432</td>\n",
       "      <td>0.149293</td>\n",
       "      <td>0.042076</td>\n",
       "      <td>0.002692</td>\n",
       "      <td>0.1</td>\n",
       "      <td>30</td>\n",
       "      <td>0.872039</td>\n",
       "      <td>0.870722</td>\n",
       "      <td>0.872477</td>\n",
       "      <td>0.864288</td>\n",
       "      <td>...</td>\n",
       "      <td>0.869929</td>\n",
       "      <td>0.002947</td>\n",
       "      <td>1</td>\n",
       "      <td>0.880626</td>\n",
       "      <td>0.883076</td>\n",
       "      <td>0.882052</td>\n",
       "      <td>0.884282</td>\n",
       "      <td>0.881691</td>\n",
       "      <td>0.882345</td>\n",
       "      <td>0.001245</td>\n",
       "    </tr>\n",
       "    <tr>\n",
       "      <th>5</th>\n",
       "      <td>0.884730</td>\n",
       "      <td>0.110262</td>\n",
       "      <td>0.052478</td>\n",
       "      <td>0.007970</td>\n",
       "      <td>0.1</td>\n",
       "      <td>60</td>\n",
       "      <td>0.869991</td>\n",
       "      <td>0.867505</td>\n",
       "      <td>0.872477</td>\n",
       "      <td>0.863410</td>\n",
       "      <td>...</td>\n",
       "      <td>0.869022</td>\n",
       "      <td>0.003286</td>\n",
       "      <td>2</td>\n",
       "      <td>0.889072</td>\n",
       "      <td>0.889108</td>\n",
       "      <td>0.888816</td>\n",
       "      <td>0.886768</td>\n",
       "      <td>0.889661</td>\n",
       "      <td>0.888685</td>\n",
       "      <td>0.000997</td>\n",
       "    </tr>\n",
       "    <tr>\n",
       "      <th>6</th>\n",
       "      <td>0.207024</td>\n",
       "      <td>0.058373</td>\n",
       "      <td>0.025514</td>\n",
       "      <td>0.004548</td>\n",
       "      <td>1</td>\n",
       "      <td>3</td>\n",
       "      <td>0.870576</td>\n",
       "      <td>0.869845</td>\n",
       "      <td>0.870722</td>\n",
       "      <td>0.864580</td>\n",
       "      <td>...</td>\n",
       "      <td>0.865278</td>\n",
       "      <td>0.007650</td>\n",
       "      <td>3</td>\n",
       "      <td>0.871668</td>\n",
       "      <td>0.873350</td>\n",
       "      <td>0.870645</td>\n",
       "      <td>0.875434</td>\n",
       "      <td>0.856720</td>\n",
       "      <td>0.869563</td>\n",
       "      <td>0.006624</td>\n",
       "    </tr>\n",
       "    <tr>\n",
       "      <th>7</th>\n",
       "      <td>0.120258</td>\n",
       "      <td>0.009836</td>\n",
       "      <td>0.017822</td>\n",
       "      <td>0.000401</td>\n",
       "      <td>1</td>\n",
       "      <td>30</td>\n",
       "      <td>0.864142</td>\n",
       "      <td>0.857999</td>\n",
       "      <td>0.861217</td>\n",
       "      <td>0.852588</td>\n",
       "      <td>...</td>\n",
       "      <td>0.858580</td>\n",
       "      <td>0.003918</td>\n",
       "      <td>5</td>\n",
       "      <td>0.877628</td>\n",
       "      <td>0.873606</td>\n",
       "      <td>0.871083</td>\n",
       "      <td>0.873460</td>\n",
       "      <td>0.881252</td>\n",
       "      <td>0.875406</td>\n",
       "      <td>0.003601</td>\n",
       "    </tr>\n",
       "    <tr>\n",
       "      <th>8</th>\n",
       "      <td>0.153597</td>\n",
       "      <td>0.007413</td>\n",
       "      <td>0.019069</td>\n",
       "      <td>0.001731</td>\n",
       "      <td>1</td>\n",
       "      <td>60</td>\n",
       "      <td>0.857561</td>\n",
       "      <td>0.855221</td>\n",
       "      <td>0.852442</td>\n",
       "      <td>0.837379</td>\n",
       "      <td>...</td>\n",
       "      <td>0.851093</td>\n",
       "      <td>0.007098</td>\n",
       "      <td>8</td>\n",
       "      <td>0.882673</td>\n",
       "      <td>0.883076</td>\n",
       "      <td>0.880187</td>\n",
       "      <td>0.874959</td>\n",
       "      <td>0.885018</td>\n",
       "      <td>0.881183</td>\n",
       "      <td>0.003471</td>\n",
       "    </tr>\n",
       "  </tbody>\n",
       "</table>\n",
       "<p>9 rows × 21 columns</p>\n",
       "</div>"
      ],
      "text/plain": [
       "   mean_fit_time  std_fit_time  mean_score_time  std_score_time  \\\n",
       "0       0.282843      0.006379         0.031146        0.000456   \n",
       "1       0.665018      0.032622         0.044128        0.001003   \n",
       "2       1.029424      0.023212         0.049187        0.000957   \n",
       "3       0.284761      0.018680         0.029855        0.002560   \n",
       "4       0.648432      0.149293         0.042076        0.002692   \n",
       "5       0.884730      0.110262         0.052478        0.007970   \n",
       "6       0.207024      0.058373         0.025514        0.004548   \n",
       "7       0.120258      0.009836         0.017822        0.000401   \n",
       "8       0.153597      0.007413         0.019069        0.001731   \n",
       "\n",
       "  param_learning_rate param_max_leaf_nodes  split0_test_score  \\\n",
       "0                0.01                    3           0.791606   \n",
       "1                0.01                   30           0.850687   \n",
       "2                0.01                   60           0.852004   \n",
       "3                 0.1                    3           0.861363   \n",
       "4                 0.1                   30           0.872039   \n",
       "5                 0.1                   60           0.869991   \n",
       "6                   1                    3           0.870576   \n",
       "7                   1                   30           0.864142   \n",
       "8                   1                   60           0.857561   \n",
       "\n",
       "   split1_test_score  split2_test_score  split3_test_score  ...  \\\n",
       "0           0.791459           0.792044           0.788681  ...   \n",
       "1           0.856683           0.856391           0.848932  ...   \n",
       "2           0.857268           0.859608           0.850687  ...   \n",
       "3           0.862825           0.864727           0.852881  ...   \n",
       "4           0.870722           0.872477           0.864288  ...   \n",
       "5           0.867505           0.872477           0.863410  ...   \n",
       "6           0.869845           0.870722           0.864580  ...   \n",
       "7           0.857999           0.861217           0.852588  ...   \n",
       "8           0.855221           0.852442           0.837379  ...   \n",
       "\n",
       "   mean_test_score  std_test_score  rank_test_score  split0_train_score  \\\n",
       "0         0.790283        0.001781                9            0.789697   \n",
       "1         0.851707        0.004240                7            0.853570   \n",
       "2         0.853842        0.003898                6            0.857373   \n",
       "3         0.859516        0.004460                4            0.860042   \n",
       "4         0.869929        0.002947                1            0.880626   \n",
       "5         0.869022        0.003286                2            0.889072   \n",
       "6         0.865278        0.007650                3            0.871668   \n",
       "7         0.858580        0.003918                5            0.877628   \n",
       "8         0.851093        0.007098                8            0.882673   \n",
       "\n",
       "   split1_train_score  split2_train_score  split3_train_score  \\\n",
       "0            0.789733            0.789551            0.790428   \n",
       "1            0.853863            0.853753            0.856970   \n",
       "2            0.856861            0.856239            0.861504   \n",
       "3            0.860334            0.859420            0.862199   \n",
       "4            0.883076            0.882052            0.884282   \n",
       "5            0.889108            0.888816            0.886768   \n",
       "6            0.873350            0.870645            0.875434   \n",
       "7            0.873606            0.871083            0.873460   \n",
       "8            0.883076            0.880187            0.874959   \n",
       "\n",
       "   split4_train_score  mean_train_score  std_train_score  \n",
       "0            0.793580          0.790598         0.001522  \n",
       "1            0.856427          0.854917         0.001468  \n",
       "2            0.861911          0.858778         0.002423  \n",
       "3            0.861107          0.860620         0.000958  \n",
       "4            0.881691          0.882345         0.001245  \n",
       "5            0.889661          0.888685         0.000997  \n",
       "6            0.856720          0.869563         0.006624  \n",
       "7            0.881252          0.875406         0.003601  \n",
       "8            0.885018          0.881183         0.003471  \n",
       "\n",
       "[9 rows x 21 columns]"
      ]
     },
     "execution_count": 7,
     "metadata": {},
     "output_type": "execute_result"
    }
   ],
   "source": [
    "grid_search_results = pd.DataFrame(grid_search_cv.cv_results_).drop(columns=[\"params\"])\n",
    "grid_search_results"
   ]
  },
  {
   "cell_type": "code",
   "execution_count": 8,
   "id": "6a57c92b",
   "metadata": {},
   "outputs": [
    {
     "data": {
      "image/png": "[encoded data removed]",
      "text/plain": [
       "<Figure size 720x432 with 1 Axes>"
      ]
     },
     "metadata": {
      "needs_background": "light"
     },
     "output_type": "display_data"
    }
   ],
   "source": [
    "import seaborn as sns\n",
    "import matplotlib.pyplot as plt\n",
    "\n",
    "fig, ax = plt.subplots(figsize=(10,6))\n",
    "sns.scatterplot(\n",
    "    data=grid_search_results,\n",
    "    x=\"param_learning_rate\",\n",
    "    y=\"param_max_leaf_nodes\",\n",
    "    hue=\"mean_test_score\",\n",
    "    palette=\"viridis\",\n",
    "    s=200)\n",
    "ax.set_xscale(\"log\")\n",
    "plt.suptitle(\"GridSearch for HistGradientBoosting on Adult dataset\")\n",
    "plt.title(f\"best_params={grid_search_cv.best_params_} -  best_score={grid_search_cv.best_score_:.6f}\")\n",
    "plt.show()"
   ]
  },
  {
   "attachments": {
    "random_search.png": {
     "image/png": "[encoded data removed]"
    }
   },
   "cell_type": "markdown",
   "id": "d7417b3e",
   "metadata": {},
   "source": [
    "## Randomized search\n",
    "\n",
    "There are two issues with grid search that we want to address now:\n",
    "1. The time needed for a grid search scale with the number of combinations of hyperparameters, which can quickly become unfeasible.\n",
    "2. The regularity of the grid lower our chances to find good regions in parameter space.\n",
    "\n",
    "The second point is the most important one. Looking at the previous example, the model could have better performance if `learning_rate` lies between `0.01` and `0.1`, but we will never know unless we explicitly make a finer grid.\n",
    "\n",
    "Surprisingly enough, it turns out that searching the space completely at random is a more efficient way to find good regions of hyperparameters. In practice, after definining the intervals of the parameters we want to search, this procedure picks random combinations for a given number of iterations. The whole space is now sampled more efficiently and our chances to miss interesting regions are lower, especially if hyperamenters are not equally important.\n",
    "\n",
    "![random_search.png](attachment:random_search.png)\n",
    "\n",
    "In `scikit-learn` we can use the class [RandomizedSearchCV](https://scikit-learn.org/stable/modules/generated/sklearn.model_selection.RandomizedSearchCV.html#sklearn.model_selection.RandomizedSearchCV) to implement a randomized search for hyperparameter tuning."
   ]
  },
  {
   "cell_type": "code",
   "execution_count": 9,
   "id": "af1d6ec6",
   "metadata": {
    "scrolled": true
   },
   "outputs": [
    {
     "name": "stdout",
     "output_type": "stream",
     "text": [
      "Fitting 5 folds for each of 40 candidates, totalling 200 fits\n",
      "[CV] END learning_rate=0.05611516415334504, max_leaf_nodes=31; total time=   0.7s\n",
      "[CV] END learning_rate=0.05611516415334504, max_leaf_nodes=31; total time=   1.0s\n",
      "[CV] END learning_rate=0.05611516415334504, max_leaf_nodes=31; total time=   0.7s\n",
      "[CV] END learning_rate=0.05611516415334504, max_leaf_nodes=31; total time=   0.7s\n",
      "[CV] END learning_rate=0.05611516415334504, max_leaf_nodes=31; total time=   0.7s\n",
      "[CV] END learning_rate=0.02327392228062871, max_leaf_nodes=10; total time=   0.4s\n",
      "[CV] END learning_rate=0.02327392228062871, max_leaf_nodes=10; total time=   0.4s\n",
      "[CV] END learning_rate=0.02327392228062871, max_leaf_nodes=10; total time=   0.4s\n",
      "[CV] END learning_rate=0.02327392228062871, max_leaf_nodes=10; total time=   0.4s\n",
      "[CV] END learning_rate=0.02327392228062871, max_leaf_nodes=10; total time=   0.4s\n",
      "[CV] END learning_rate=0.15751320499779722, max_leaf_nodes=41; total time=   0.4s\n",
      "[CV] END learning_rate=0.15751320499779722, max_leaf_nodes=41; total time=   0.4s\n",
      "[CV] END learning_rate=0.15751320499779722, max_leaf_nodes=41; total time=   0.5s\n",
      "[CV] END learning_rate=0.15751320499779722, max_leaf_nodes=41; total time=   0.4s\n",
      "[CV] END learning_rate=0.15751320499779722, max_leaf_nodes=41; total time=   0.5s\n",
      "[CV] END learning_rate=0.07792297153882992, max_leaf_nodes=25; total time=   0.6s\n",
      "[CV] END learning_rate=0.07792297153882992, max_leaf_nodes=25; total time=   0.6s\n",
      "[CV] END learning_rate=0.07792297153882992, max_leaf_nodes=25; total time=   0.6s\n",
      "[CV] END learning_rate=0.07792297153882992, max_leaf_nodes=25; total time=   0.6s\n",
      "[CV] END learning_rate=0.07792297153882992, max_leaf_nodes=25; total time=   0.8s\n",
      "[CV] END learning_rate=0.013066739238053278, max_leaf_nodes=26; total time=   0.9s\n",
      "[CV] END learning_rate=0.013066739238053278, max_leaf_nodes=26; total time=   0.9s\n",
      "[CV] END learning_rate=0.013066739238053278, max_leaf_nodes=26; total time=   0.6s\n",
      "[CV] END learning_rate=0.013066739238053278, max_leaf_nodes=26; total time=   0.6s\n",
      "[CV] END learning_rate=0.013066739238053278, max_leaf_nodes=26; total time=   0.6s\n",
      "[CV] END learning_rate=0.046496174473363315, max_leaf_nodes=42; total time=   0.9s\n",
      "[CV] END learning_rate=0.046496174473363315, max_leaf_nodes=42; total time=   0.8s\n",
      "[CV] END learning_rate=0.046496174473363315, max_leaf_nodes=42; total time=   0.8s\n",
      "[CV] END learning_rate=0.046496174473363315, max_leaf_nodes=42; total time=   0.8s\n",
      "[CV] END learning_rate=0.046496174473363315, max_leaf_nodes=42; total time=   0.9s\n",
      "[CV] END learning_rate=0.2607024758370766, max_leaf_nodes=24; total time=   0.2s\n",
      "[CV] END learning_rate=0.2607024758370766, max_leaf_nodes=24; total time=   0.3s\n",
      "[CV] END learning_rate=0.2607024758370766, max_leaf_nodes=24; total time=   0.3s\n",
      "[CV] END learning_rate=0.2607024758370766, max_leaf_nodes=24; total time=   0.5s\n",
      "[CV] END learning_rate=0.2607024758370766, max_leaf_nodes=24; total time=   0.3s\n",
      "[CV] END learning_rate=0.012966511753760401, max_leaf_nodes=26; total time=   0.9s\n",
      "[CV] END learning_rate=0.012966511753760401, max_leaf_nodes=26; total time=   0.7s\n",
      "[CV] END learning_rate=0.012966511753760401, max_leaf_nodes=26; total time=   0.8s\n",
      "[CV] END learning_rate=0.012966511753760401, max_leaf_nodes=26; total time=   0.6s\n",
      "[CV] END learning_rate=0.012966511753760401, max_leaf_nodes=26; total time=   0.6s\n",
      "[CV] END learning_rate=0.4622589001020828, max_leaf_nodes=40; total time=   0.2s\n",
      "[CV] END learning_rate=0.4622589001020828, max_leaf_nodes=40; total time=   0.2s\n",
      "[CV] END learning_rate=0.4622589001020828, max_leaf_nodes=40; total time=   0.2s\n",
      "[CV] END learning_rate=0.4622589001020828, max_leaf_nodes=40; total time=   0.2s\n",
      "[CV] END learning_rate=0.4622589001020828, max_leaf_nodes=40; total time=   0.2s\n",
      "[CV] END learning_rate=0.010035927878780911, max_leaf_nodes=23; total time=   0.6s\n",
      "[CV] END learning_rate=0.010035927878780911, max_leaf_nodes=23; total time=   0.6s\n",
      "[CV] END learning_rate=0.010035927878780911, max_leaf_nodes=23; total time=   1.0s\n",
      "[CV] END learning_rate=0.010035927878780911, max_leaf_nodes=23; total time=   0.6s\n",
      "[CV] END learning_rate=0.010035927878780911, max_leaf_nodes=23; total time=   0.7s\n",
      "[CV] END learning_rate=0.17177621112338376, max_leaf_nodes=24; total time=   0.3s\n",
      "[CV] END learning_rate=0.17177621112338376, max_leaf_nodes=24; total time=   0.5s\n",
      "[CV] END learning_rate=0.17177621112338376, max_leaf_nodes=24; total time=   0.5s\n",
      "[CV] END learning_rate=0.17177621112338376, max_leaf_nodes=24; total time=   0.5s\n",
      "[CV] END learning_rate=0.17177621112338376, max_leaf_nodes=24; total time=   0.4s\n",
      "[CV] END learning_rate=0.010330768043240403, max_leaf_nodes=27; total time=   0.8s\n",
      "[CV] END learning_rate=0.010330768043240403, max_leaf_nodes=27; total time=   0.6s\n",
      "[CV] END learning_rate=0.010330768043240403, max_leaf_nodes=27; total time=   0.6s\n",
      "[CV] END learning_rate=0.010330768043240403, max_leaf_nodes=27; total time=   0.9s\n",
      "[CV] END learning_rate=0.010330768043240403, max_leaf_nodes=27; total time=   0.6s\n",
      "[CV] END learning_rate=0.03823475224675185, max_leaf_nodes=44; total time=   0.8s\n",
      "[CV] END learning_rate=0.03823475224675185, max_leaf_nodes=44; total time=   0.8s\n",
      "[CV] END learning_rate=0.03823475224675185, max_leaf_nodes=44; total time=   0.8s\n",
      "[CV] END learning_rate=0.03823475224675185, max_leaf_nodes=44; total time=   0.8s\n",
      "[CV] END learning_rate=0.03823475224675185, max_leaf_nodes=44; total time=   0.8s\n",
      "[CV] END learning_rate=0.01239742034078414, max_leaf_nodes=18; total time=   0.5s\n",
      "[CV] END learning_rate=0.01239742034078414, max_leaf_nodes=18; total time=   0.5s\n",
      "[CV] END learning_rate=0.01239742034078414, max_leaf_nodes=18; total time=   0.5s\n",
      "[CV] END learning_rate=0.01239742034078414, max_leaf_nodes=18; total time=   0.5s\n",
      "[CV] END learning_rate=0.01239742034078414, max_leaf_nodes=18; total time=   0.5s\n",
      "[CV] END learning_rate=0.029210748185657137, max_leaf_nodes=49; total time=   0.8s\n",
      "[CV] END learning_rate=0.029210748185657137, max_leaf_nodes=49; total time=   0.8s\n",
      "[CV] END learning_rate=0.029210748185657137, max_leaf_nodes=49; total time=   0.9s\n",
      "[CV] END learning_rate=0.029210748185657137, max_leaf_nodes=49; total time=   0.8s\n",
      "[CV] END learning_rate=0.029210748185657137, max_leaf_nodes=49; total time=   0.8s\n",
      "[CV] END ..learning_rate=0.17249321573179, max_leaf_nodes=46; total time=   0.4s\n",
      "[CV] END ..learning_rate=0.17249321573179, max_leaf_nodes=46; total time=   0.5s\n",
      "[CV] END ..learning_rate=0.17249321573179, max_leaf_nodes=46; total time=   0.5s\n",
      "[CV] END ..learning_rate=0.17249321573179, max_leaf_nodes=46; total time=   0.5s\n",
      "[CV] END ..learning_rate=0.17249321573179, max_leaf_nodes=46; total time=   0.6s\n",
      "[CV] END learning_rate=0.10677482709481348, max_leaf_nodes=59; total time=   0.7s\n",
      "[CV] END learning_rate=0.10677482709481348, max_leaf_nodes=59; total time=   0.7s\n",
      "[CV] END learning_rate=0.10677482709481348, max_leaf_nodes=59; total time=   0.8s\n",
      "[CV] END learning_rate=0.10677482709481348, max_leaf_nodes=59; total time=   0.7s\n",
      "[CV] END learning_rate=0.10677482709481348, max_leaf_nodes=59; total time=   0.7s\n",
      "[CV] END learning_rate=0.012385137298860928, max_leaf_nodes=53; total time=   0.9s\n",
      "[CV] END learning_rate=0.012385137298860928, max_leaf_nodes=53; total time=   0.9s\n",
      "[CV] END learning_rate=0.012385137298860928, max_leaf_nodes=53; total time=   0.9s\n",
      "[CV] END learning_rate=0.012385137298860928, max_leaf_nodes=53; total time=   0.9s\n",
      "[CV] END learning_rate=0.012385137298860928, max_leaf_nodes=53; total time=   0.9s\n",
      "[CV] END learning_rate=0.22941144328643984, max_leaf_nodes=11; total time=   0.2s\n",
      "[CV] END learning_rate=0.22941144328643984, max_leaf_nodes=11; total time=   0.4s\n",
      "[CV] END learning_rate=0.22941144328643984, max_leaf_nodes=11; total time=   0.4s\n",
      "[CV] END learning_rate=0.22941144328643984, max_leaf_nodes=11; total time=   0.3s\n",
      "[CV] END learning_rate=0.22941144328643984, max_leaf_nodes=11; total time=   0.3s\n",
      "[CV] END learning_rate=0.013492834268013246, max_leaf_nodes=6; total time=   0.3s\n",
      "[CV] END learning_rate=0.013492834268013246, max_leaf_nodes=6; total time=   0.3s\n",
      "[CV] END learning_rate=0.013492834268013246, max_leaf_nodes=6; total time=   0.4s\n",
      "[CV] END learning_rate=0.013492834268013246, max_leaf_nodes=6; total time=   0.3s\n"
     ]
    },
    {
     "name": "stdout",
     "output_type": "stream",
     "text": [
      "[CV] END learning_rate=0.013492834268013246, max_leaf_nodes=6; total time=   0.3s\n",
      "[CV] END .learning_rate=0.766308268025585, max_leaf_nodes=16; total time=   0.1s\n",
      "[CV] END .learning_rate=0.766308268025585, max_leaf_nodes=16; total time=   0.1s\n",
      "[CV] END .learning_rate=0.766308268025585, max_leaf_nodes=16; total time=   0.1s\n",
      "[CV] END .learning_rate=0.766308268025585, max_leaf_nodes=16; total time=   0.1s\n",
      "[CV] END .learning_rate=0.766308268025585, max_leaf_nodes=16; total time=   0.1s\n",
      "[CV] END learning_rate=0.41380401125610133, max_leaf_nodes=11; total time=   0.2s\n",
      "[CV] END learning_rate=0.41380401125610133, max_leaf_nodes=11; total time=   0.2s\n",
      "[CV] END learning_rate=0.41380401125610133, max_leaf_nodes=11; total time=   0.2s\n",
      "[CV] END learning_rate=0.41380401125610133, max_leaf_nodes=11; total time=   0.2s\n",
      "[CV] END learning_rate=0.41380401125610133, max_leaf_nodes=11; total time=   0.2s\n",
      "[CV] END learning_rate=0.01076297928574797, max_leaf_nodes=4; total time=   0.3s\n",
      "[CV] END learning_rate=0.01076297928574797, max_leaf_nodes=4; total time=   0.3s\n",
      "[CV] END learning_rate=0.01076297928574797, max_leaf_nodes=4; total time=   0.3s\n",
      "[CV] END learning_rate=0.01076297928574797, max_leaf_nodes=4; total time=   0.3s\n",
      "[CV] END learning_rate=0.01076297928574797, max_leaf_nodes=4; total time=   0.5s\n",
      "[CV] END learning_rate=0.2335963502626159, max_leaf_nodes=49; total time=   0.3s\n",
      "[CV] END learning_rate=0.2335963502626159, max_leaf_nodes=49; total time=   0.3s\n",
      "[CV] END learning_rate=0.2335963502626159, max_leaf_nodes=49; total time=   0.4s\n",
      "[CV] END learning_rate=0.2335963502626159, max_leaf_nodes=49; total time=   0.4s\n",
      "[CV] END learning_rate=0.2335963502626159, max_leaf_nodes=49; total time=   0.3s\n",
      "[CV] END learning_rate=0.23255572624036785, max_leaf_nodes=46; total time=   0.4s\n",
      "[CV] END learning_rate=0.23255572624036785, max_leaf_nodes=46; total time=   0.4s\n",
      "[CV] END learning_rate=0.23255572624036785, max_leaf_nodes=46; total time=   0.4s\n",
      "[CV] END learning_rate=0.23255572624036785, max_leaf_nodes=46; total time=   0.3s\n",
      "[CV] END learning_rate=0.23255572624036785, max_leaf_nodes=46; total time=   0.3s\n",
      "[CV] END learning_rate=0.09780337016659404, max_leaf_nodes=49; total time=   0.8s\n",
      "[CV] END learning_rate=0.09780337016659404, max_leaf_nodes=49; total time=   0.8s\n",
      "[CV] END learning_rate=0.09780337016659404, max_leaf_nodes=49; total time=   0.8s\n",
      "[CV] END learning_rate=0.09780337016659404, max_leaf_nodes=49; total time=   0.7s\n",
      "[CV] END learning_rate=0.09780337016659404, max_leaf_nodes=49; total time=   0.7s\n",
      "[CV] END learning_rate=0.022219245475399153, max_leaf_nodes=19; total time=   0.5s\n",
      "[CV] END learning_rate=0.022219245475399153, max_leaf_nodes=19; total time=   0.5s\n",
      "[CV] END learning_rate=0.022219245475399153, max_leaf_nodes=19; total time=   0.5s\n",
      "[CV] END learning_rate=0.022219245475399153, max_leaf_nodes=19; total time=   0.5s\n",
      "[CV] END learning_rate=0.022219245475399153, max_leaf_nodes=19; total time=   0.5s\n",
      "[CV] END learning_rate=0.03292759134423616, max_leaf_nodes=42; total time=   0.8s\n",
      "[CV] END learning_rate=0.03292759134423616, max_leaf_nodes=42; total time=   0.8s\n",
      "[CV] END learning_rate=0.03292759134423616, max_leaf_nodes=42; total time=   0.8s\n",
      "[CV] END learning_rate=0.03292759134423616, max_leaf_nodes=42; total time=   0.8s\n",
      "[CV] END learning_rate=0.03292759134423616, max_leaf_nodes=42; total time=   0.8s\n",
      "[CV] END .learning_rate=0.3241326804195627, max_leaf_nodes=8; total time=   0.2s\n",
      "[CV] END .learning_rate=0.3241326804195627, max_leaf_nodes=8; total time=   0.2s\n",
      "[CV] END .learning_rate=0.3241326804195627, max_leaf_nodes=8; total time=   0.3s\n",
      "[CV] END .learning_rate=0.3241326804195627, max_leaf_nodes=8; total time=   0.2s\n",
      "[CV] END .learning_rate=0.3241326804195627, max_leaf_nodes=8; total time=   0.2s\n",
      "[CV] END learning_rate=0.026054534945804002, max_leaf_nodes=6; total time=   0.3s\n",
      "[CV] END learning_rate=0.026054534945804002, max_leaf_nodes=6; total time=   0.3s\n",
      "[CV] END learning_rate=0.026054534945804002, max_leaf_nodes=6; total time=   0.3s\n",
      "[CV] END learning_rate=0.026054534945804002, max_leaf_nodes=6; total time=   0.3s\n",
      "[CV] END learning_rate=0.026054534945804002, max_leaf_nodes=6; total time=   0.3s\n",
      "[CV] END learning_rate=0.023426581058204037, max_leaf_nodes=20; total time=   0.5s\n",
      "[CV] END learning_rate=0.023426581058204037, max_leaf_nodes=20; total time=   0.5s\n",
      "[CV] END learning_rate=0.023426581058204037, max_leaf_nodes=20; total time=   0.5s\n",
      "[CV] END learning_rate=0.023426581058204037, max_leaf_nodes=20; total time=   0.5s\n",
      "[CV] END learning_rate=0.023426581058204037, max_leaf_nodes=20; total time=   0.5s\n",
      "[CV] END learning_rate=0.3550304858128306, max_leaf_nodes=36; total time=   0.2s\n",
      "[CV] END learning_rate=0.3550304858128306, max_leaf_nodes=36; total time=   0.2s\n",
      "[CV] END learning_rate=0.3550304858128306, max_leaf_nodes=36; total time=   0.2s\n",
      "[CV] END learning_rate=0.3550304858128306, max_leaf_nodes=36; total time=   0.2s\n",
      "[CV] END learning_rate=0.3550304858128306, max_leaf_nodes=36; total time=   0.2s\n",
      "[CV] END learning_rate=0.06170217483403151, max_leaf_nodes=38; total time=   0.7s\n",
      "[CV] END learning_rate=0.06170217483403151, max_leaf_nodes=38; total time=   0.7s\n",
      "[CV] END learning_rate=0.06170217483403151, max_leaf_nodes=38; total time=   0.7s\n",
      "[CV] END learning_rate=0.06170217483403151, max_leaf_nodes=38; total time=   0.7s\n",
      "[CV] END learning_rate=0.06170217483403151, max_leaf_nodes=38; total time=   0.8s\n",
      "[CV] END learning_rate=0.15696396388661138, max_leaf_nodes=50; total time=   0.5s\n",
      "[CV] END learning_rate=0.15696396388661138, max_leaf_nodes=50; total time=   0.5s\n",
      "[CV] END learning_rate=0.15696396388661138, max_leaf_nodes=50; total time=   0.6s\n",
      "[CV] END learning_rate=0.15696396388661138, max_leaf_nodes=50; total time=   0.6s\n",
      "[CV] END learning_rate=0.15696396388661138, max_leaf_nodes=50; total time=   0.6s\n",
      "[CV] END learning_rate=0.04498643077694103, max_leaf_nodes=16; total time=   0.7s\n",
      "[CV] END learning_rate=0.04498643077694103, max_leaf_nodes=16; total time=   0.5s\n",
      "[CV] END learning_rate=0.04498643077694103, max_leaf_nodes=16; total time=   0.5s\n",
      "[CV] END learning_rate=0.04498643077694103, max_leaf_nodes=16; total time=   0.6s\n",
      "[CV] END learning_rate=0.04498643077694103, max_leaf_nodes=16; total time=   0.5s\n",
      "[CV] END learning_rate=0.02465844721448737, max_leaf_nodes=59; total time=   0.9s\n",
      "[CV] END learning_rate=0.02465844721448737, max_leaf_nodes=59; total time=   1.1s\n",
      "[CV] END learning_rate=0.02465844721448737, max_leaf_nodes=59; total time=   1.1s\n",
      "[CV] END learning_rate=0.02465844721448737, max_leaf_nodes=59; total time=   1.3s\n",
      "[CV] END learning_rate=0.02465844721448737, max_leaf_nodes=59; total time=   1.2s\n",
      "[CV] END learning_rate=0.8362652463906238, max_leaf_nodes=23; total time=   0.1s\n",
      "[CV] END learning_rate=0.8362652463906238, max_leaf_nodes=23; total time=   0.2s\n",
      "[CV] END learning_rate=0.8362652463906238, max_leaf_nodes=23; total time=   0.2s\n",
      "[CV] END learning_rate=0.8362652463906238, max_leaf_nodes=23; total time=   0.1s\n",
      "[CV] END learning_rate=0.8362652463906238, max_leaf_nodes=23; total time=   0.1s\n",
      "[CV] END learning_rate=0.05989003672254299, max_leaf_nodes=20; total time=   0.6s\n",
      "[CV] END learning_rate=0.05989003672254299, max_leaf_nodes=20; total time=   0.6s\n",
      "[CV] END learning_rate=0.05989003672254299, max_leaf_nodes=20; total time=   0.8s\n",
      "[CV] END learning_rate=0.05989003672254299, max_leaf_nodes=20; total time=   0.6s\n",
      "[CV] END learning_rate=0.05989003672254299, max_leaf_nodes=20; total time=   0.6s\n",
      "[CV] END learning_rate=0.12005610926192105, max_leaf_nodes=26; total time=   0.5s\n",
      "[CV] END learning_rate=0.12005610926192105, max_leaf_nodes=26; total time=   0.6s\n",
      "[CV] END learning_rate=0.12005610926192105, max_leaf_nodes=26; total time=   0.6s\n",
      "[CV] END learning_rate=0.12005610926192105, max_leaf_nodes=26; total time=   0.5s\n",
      "[CV] END learning_rate=0.12005610926192105, max_leaf_nodes=26; total time=   0.6s\n",
      "[CV] END learning_rate=0.0517019178636699, max_leaf_nodes=47; total time=   0.8s\n",
      "[CV] END learning_rate=0.0517019178636699, max_leaf_nodes=47; total time=   0.8s\n",
      "[CV] END learning_rate=0.0517019178636699, max_leaf_nodes=47; total time=   0.8s\n",
      "[CV] END learning_rate=0.0517019178636699, max_leaf_nodes=47; total time=   0.8s\n",
      "[CV] END learning_rate=0.0517019178636699, max_leaf_nodes=47; total time=   0.8s\n"
     ]
    },
    {
     "data": {
      "text/plain": [
       "RandomizedSearchCV(estimator=HistGradientBoostingClassifier(categorical_features=array([False, False, False, False, False,  True,  True,  True,  True,\n",
       "        True]),\n",
       "                                                            random_state=42),\n",
       "                   n_iter=40,\n",
       "                   param_distributions={'learning_rate': <scipy.stats._distn_infrastructure.rv_frozen object at 0x7f0a0cb6dc90>,\n",
       "                                        'max_leaf_nodes': <scipy.stats._distn_infrastructure.rv_frozen object at 0x7f0a0ced9710>},\n",
       "                   random_state=42, verbose=2)"
      ]
     },
     "execution_count": 9,
     "metadata": {},
     "output_type": "execute_result"
    }
   ],
   "source": [
    "from scipy.stats import loguniform, randint\n",
    "from sklearn.model_selection import RandomizedSearchCV\n",
    "\n",
    "param_distributions = {\n",
    "    \"max_leaf_nodes\": randint(3, 60),     # uniform distribution of integers between 3 and 100\n",
    "    \"learning_rate\": loguniform(0.01, 1),  # searching across different orders of magnitude is better in log space\n",
    "}\n",
    "model = HistGradientBoostingClassifier(\n",
    "    categorical_features=preprocessed_X_train.columns.isin(categorical_cols),\n",
    "    random_state=42\n",
    ")\n",
    "random_search_cv = RandomizedSearchCV(\n",
    "    model, param_distributions=param_distributions,\n",
    "    n_iter=40, random_state=42, verbose=2\n",
    ")\n",
    "random_search_cv.fit(preprocessed_X_train, y_train)"
   ]
  },
  {
   "cell_type": "code",
   "execution_count": 10,
   "id": "690df6d6",
   "metadata": {},
   "outputs": [
    {
     "data": {
      "image/png": "[encoded data removed]",
      "text/plain": [
       "<Figure size 720x432 with 1 Axes>"
      ]
     },
     "metadata": {
      "needs_background": "light"
     },
     "output_type": "display_data"
    }
   ],
   "source": [
    "random_search_results = pd.DataFrame(random_search_cv.cv_results_).drop(columns=[\"params\"])\n",
    "\n",
    "import seaborn as sns\n",
    "import matplotlib.pyplot as plt\n",
    "\n",
    "fig, ax = plt.subplots(figsize=(10,6))\n",
    "sns.scatterplot(\n",
    "    data=random_search_results,\n",
    "    x=\"param_learning_rate\",\n",
    "    y=\"param_max_leaf_nodes\",\n",
    "    hue=\"mean_test_score\",\n",
    "    palette=\"viridis\",\n",
    "    s=200)\n",
    "ax.set_xscale(\"log\")\n",
    "plt.suptitle(\"GridSearch for HistGradientBoosting on Adult dataset\")\n",
    "plt.title(f\"best_params={random_search_cv.best_params_} -  best_score={random_search_cv.best_score_:.6f}\")\n",
    "plt.show()"
   ]
  },
  {
   "cell_type": "markdown",
   "id": "40e79adc",
   "metadata": {},
   "source": [
    "## Conclusions\n",
    "\n",
    "In this notebook we have learned how to do a hyperparameter search, understanding the difference between a grid and a randomized search. We could also appreciate the limitations of simple train-test-validation splitting and use cross validation as a more statistically robust procedure to assess the performance of a model."
   ]
  }
 ],
 "metadata": {
  "kernelspec": {
   "display_name": "Python 3 (ipykernel)",
   "language": "python",
   "name": "python3"
  },
  "language_info": {
   "codemirror_mode": {
    "name": "ipython",
    "version": 3
   },
   "file_extension": ".py",
   "mimetype": "text/x-python",
   "name": "python",
   "nbconvert_exporter": "python",
   "pygments_lexer": "ipython3",
   "version": "3.7.13"
  }
 },
 "nbformat": 4,
 "nbformat_minor": 5
}
