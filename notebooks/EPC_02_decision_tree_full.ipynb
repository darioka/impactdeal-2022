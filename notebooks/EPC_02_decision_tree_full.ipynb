{
  "cells": [
    {
      "cell_type": "markdown",
      "metadata": {
        "id": "view-in-github",
        "colab_type": "text"
      },
      "source": [
        "<a href=\"https://colab.research.google.com/github/darioka/impactdeal-2022/blob/main/notebooks/EPC_02_decision_tree_full.ipynb\" target=\"_parent\"><img src=\"https://colab.research.google.com/assets/colab-badge.svg\" alt=\"Open In Colab\"/></a>"
      ]
    },
    {
      "cell_type": "code",
      "execution_count": 1,
      "id": "5e1ee0de",
      "metadata": {
        "colab": {
          "base_uri": "https://localhost:8080/"
        },
        "id": "5e1ee0de",
        "outputId": "e0bad982-f0c5-4838-a9eb-84927bff3dd7"
      },
      "outputs": [
        {
          "output_type": "stream",
          "name": "stdout",
          "text": [
            "Cloning into 'impactdeal-2022'...\n",
            "remote: Enumerating objects: 157, done.\u001b[K\n",
            "remote: Counting objects: 100% (16/16), done.\u001b[K\n",
            "remote: Compressing objects: 100% (15/15), done.\u001b[K\n",
            "remote: Total 157 (delta 2), reused 8 (delta 1), pack-reused 141\u001b[K\n",
            "Receiving objects: 100% (157/157), 71.29 MiB | 32.78 MiB/s, done.\n",
            "Resolving deltas: 100% (76/76), done.\n",
            "/content/impactdeal-2022\n",
            "Looking in indexes: https://pypi.org/simple, https://us-python.pkg.dev/colab-wheels/public/simple/\n",
            "Requirement already satisfied: numpy==1.21.6 in /usr/local/lib/python3.7/dist-packages (from -r requirements.txt (line 1)) (1.21.6)\n",
            "Requirement already satisfied: pandas==1.3.5 in /usr/local/lib/python3.7/dist-packages (from -r requirements.txt (line 2)) (1.3.5)\n",
            "Requirement already satisfied: scipy==1.4.1 in /usr/local/lib/python3.7/dist-packages (from -r requirements.txt (line 3)) (1.4.1)\n",
            "Requirement already satisfied: scikit-learn==1.0.2 in /usr/local/lib/python3.7/dist-packages (from -r requirements.txt (line 4)) (1.0.2)\n",
            "Requirement already satisfied: matplotlib==3.2.2 in /usr/local/lib/python3.7/dist-packages (from -r requirements.txt (line 5)) (3.2.2)\n",
            "Requirement already satisfied: seaborn==0.11.2 in /usr/local/lib/python3.7/dist-packages (from -r requirements.txt (line 6)) (0.11.2)\n",
            "Requirement already satisfied: jupyter==1.0.0 in /usr/local/lib/python3.7/dist-packages (from -r requirements.txt (line 7)) (1.0.0)\n",
            "Collecting missingno==0.4.2\n",
            "  Downloading missingno-0.4.2-py3-none-any.whl (9.7 kB)\n",
            "Requirement already satisfied: tqdm==4.64.0 in /usr/local/lib/python3.7/dist-packages (from -r requirements.txt (line 9)) (4.64.0)\n",
            "Requirement already satisfied: pytz>=2017.3 in /usr/local/lib/python3.7/dist-packages (from pandas==1.3.5->-r requirements.txt (line 2)) (2022.1)\n",
            "Requirement already satisfied: python-dateutil>=2.7.3 in /usr/local/lib/python3.7/dist-packages (from pandas==1.3.5->-r requirements.txt (line 2)) (2.8.2)\n",
            "Requirement already satisfied: joblib>=0.11 in /usr/local/lib/python3.7/dist-packages (from scikit-learn==1.0.2->-r requirements.txt (line 4)) (1.1.0)\n",
            "Requirement already satisfied: threadpoolctl>=2.0.0 in /usr/local/lib/python3.7/dist-packages (from scikit-learn==1.0.2->-r requirements.txt (line 4)) (3.1.0)\n",
            "Requirement already satisfied: cycler>=0.10 in /usr/local/lib/python3.7/dist-packages (from matplotlib==3.2.2->-r requirements.txt (line 5)) (0.11.0)\n",
            "Requirement already satisfied: kiwisolver>=1.0.1 in /usr/local/lib/python3.7/dist-packages (from matplotlib==3.2.2->-r requirements.txt (line 5)) (1.4.2)\n",
            "Requirement already satisfied: pyparsing!=2.0.4,!=2.1.2,!=2.1.6,>=2.0.1 in /usr/local/lib/python3.7/dist-packages (from matplotlib==3.2.2->-r requirements.txt (line 5)) (3.0.9)\n",
            "Requirement already satisfied: ipywidgets in /usr/local/lib/python3.7/dist-packages (from jupyter==1.0.0->-r requirements.txt (line 7)) (7.7.0)\n",
            "Requirement already satisfied: nbconvert in /usr/local/lib/python3.7/dist-packages (from jupyter==1.0.0->-r requirements.txt (line 7)) (5.6.1)\n",
            "Requirement already satisfied: qtconsole in /usr/local/lib/python3.7/dist-packages (from jupyter==1.0.0->-r requirements.txt (line 7)) (5.3.1)\n",
            "Requirement already satisfied: ipykernel in /usr/local/lib/python3.7/dist-packages (from jupyter==1.0.0->-r requirements.txt (line 7)) (4.10.1)\n",
            "Requirement already satisfied: notebook in /usr/local/lib/python3.7/dist-packages (from jupyter==1.0.0->-r requirements.txt (line 7)) (5.3.1)\n",
            "Requirement already satisfied: jupyter-console in /usr/local/lib/python3.7/dist-packages (from jupyter==1.0.0->-r requirements.txt (line 7)) (5.2.0)\n",
            "Requirement already satisfied: typing-extensions in /usr/local/lib/python3.7/dist-packages (from kiwisolver>=1.0.1->matplotlib==3.2.2->-r requirements.txt (line 5)) (4.2.0)\n",
            "Requirement already satisfied: six>=1.5 in /usr/local/lib/python3.7/dist-packages (from python-dateutil>=2.7.3->pandas==1.3.5->-r requirements.txt (line 2)) (1.15.0)\n",
            "Requirement already satisfied: tornado>=4.0 in /usr/local/lib/python3.7/dist-packages (from ipykernel->jupyter==1.0.0->-r requirements.txt (line 7)) (5.1.1)\n",
            "Requirement already satisfied: traitlets>=4.1.0 in /usr/local/lib/python3.7/dist-packages (from ipykernel->jupyter==1.0.0->-r requirements.txt (line 7)) (5.1.1)\n",
            "Requirement already satisfied: jupyter-client in /usr/local/lib/python3.7/dist-packages (from ipykernel->jupyter==1.0.0->-r requirements.txt (line 7)) (5.3.5)\n",
            "Requirement already satisfied: ipython>=4.0.0 in /usr/local/lib/python3.7/dist-packages (from ipykernel->jupyter==1.0.0->-r requirements.txt (line 7)) (5.5.0)\n",
            "Requirement already satisfied: decorator in /usr/local/lib/python3.7/dist-packages (from ipython>=4.0.0->ipykernel->jupyter==1.0.0->-r requirements.txt (line 7)) (4.4.2)\n",
            "Requirement already satisfied: simplegeneric>0.8 in /usr/local/lib/python3.7/dist-packages (from ipython>=4.0.0->ipykernel->jupyter==1.0.0->-r requirements.txt (line 7)) (0.8.1)\n",
            "Requirement already satisfied: pexpect in /usr/local/lib/python3.7/dist-packages (from ipython>=4.0.0->ipykernel->jupyter==1.0.0->-r requirements.txt (line 7)) (4.8.0)\n",
            "Requirement already satisfied: prompt-toolkit<2.0.0,>=1.0.4 in /usr/local/lib/python3.7/dist-packages (from ipython>=4.0.0->ipykernel->jupyter==1.0.0->-r requirements.txt (line 7)) (1.0.18)\n",
            "Requirement already satisfied: setuptools>=18.5 in /usr/local/lib/python3.7/dist-packages (from ipython>=4.0.0->ipykernel->jupyter==1.0.0->-r requirements.txt (line 7)) (57.4.0)\n",
            "Requirement already satisfied: pygments in /usr/local/lib/python3.7/dist-packages (from ipython>=4.0.0->ipykernel->jupyter==1.0.0->-r requirements.txt (line 7)) (2.6.1)\n",
            "Requirement already satisfied: pickleshare in /usr/local/lib/python3.7/dist-packages (from ipython>=4.0.0->ipykernel->jupyter==1.0.0->-r requirements.txt (line 7)) (0.7.5)\n",
            "Requirement already satisfied: wcwidth in /usr/local/lib/python3.7/dist-packages (from prompt-toolkit<2.0.0,>=1.0.4->ipython>=4.0.0->ipykernel->jupyter==1.0.0->-r requirements.txt (line 7)) (0.2.5)\n",
            "Requirement already satisfied: ipython-genutils~=0.2.0 in /usr/local/lib/python3.7/dist-packages (from ipywidgets->jupyter==1.0.0->-r requirements.txt (line 7)) (0.2.0)\n",
            "Requirement already satisfied: jupyterlab-widgets>=1.0.0 in /usr/local/lib/python3.7/dist-packages (from ipywidgets->jupyter==1.0.0->-r requirements.txt (line 7)) (1.1.0)\n",
            "Requirement already satisfied: widgetsnbextension~=3.6.0 in /usr/local/lib/python3.7/dist-packages (from ipywidgets->jupyter==1.0.0->-r requirements.txt (line 7)) (3.6.0)\n",
            "Requirement already satisfied: nbformat>=4.2.0 in /usr/local/lib/python3.7/dist-packages (from ipywidgets->jupyter==1.0.0->-r requirements.txt (line 7)) (5.4.0)\n",
            "Requirement already satisfied: jupyter-core in /usr/local/lib/python3.7/dist-packages (from nbformat>=4.2.0->ipywidgets->jupyter==1.0.0->-r requirements.txt (line 7)) (4.10.0)\n",
            "Requirement already satisfied: jsonschema>=2.6 in /usr/local/lib/python3.7/dist-packages (from nbformat>=4.2.0->ipywidgets->jupyter==1.0.0->-r requirements.txt (line 7)) (4.3.3)\n",
            "Requirement already satisfied: fastjsonschema in /usr/local/lib/python3.7/dist-packages (from nbformat>=4.2.0->ipywidgets->jupyter==1.0.0->-r requirements.txt (line 7)) (2.15.3)\n",
            "Requirement already satisfied: pyrsistent!=0.17.0,!=0.17.1,!=0.17.2,>=0.14.0 in /usr/local/lib/python3.7/dist-packages (from jsonschema>=2.6->nbformat>=4.2.0->ipywidgets->jupyter==1.0.0->-r requirements.txt (line 7)) (0.18.1)\n",
            "Requirement already satisfied: importlib-resources>=1.4.0 in /usr/local/lib/python3.7/dist-packages (from jsonschema>=2.6->nbformat>=4.2.0->ipywidgets->jupyter==1.0.0->-r requirements.txt (line 7)) (5.7.1)\n",
            "Requirement already satisfied: attrs>=17.4.0 in /usr/local/lib/python3.7/dist-packages (from jsonschema>=2.6->nbformat>=4.2.0->ipywidgets->jupyter==1.0.0->-r requirements.txt (line 7)) (21.4.0)\n",
            "Requirement already satisfied: importlib-metadata in /usr/local/lib/python3.7/dist-packages (from jsonschema>=2.6->nbformat>=4.2.0->ipywidgets->jupyter==1.0.0->-r requirements.txt (line 7)) (4.11.4)\n",
            "Requirement already satisfied: zipp>=3.1.0 in /usr/local/lib/python3.7/dist-packages (from importlib-resources>=1.4.0->jsonschema>=2.6->nbformat>=4.2.0->ipywidgets->jupyter==1.0.0->-r requirements.txt (line 7)) (3.8.0)\n",
            "Requirement already satisfied: Send2Trash in /usr/local/lib/python3.7/dist-packages (from notebook->jupyter==1.0.0->-r requirements.txt (line 7)) (1.8.0)\n",
            "Requirement already satisfied: jinja2 in /usr/local/lib/python3.7/dist-packages (from notebook->jupyter==1.0.0->-r requirements.txt (line 7)) (2.11.3)\n",
            "Requirement already satisfied: terminado>=0.8.1 in /usr/local/lib/python3.7/dist-packages (from notebook->jupyter==1.0.0->-r requirements.txt (line 7)) (0.13.3)\n",
            "Requirement already satisfied: pyzmq>=13 in /usr/local/lib/python3.7/dist-packages (from jupyter-client->ipykernel->jupyter==1.0.0->-r requirements.txt (line 7)) (23.1.0)\n",
            "Requirement already satisfied: ptyprocess in /usr/local/lib/python3.7/dist-packages (from terminado>=0.8.1->notebook->jupyter==1.0.0->-r requirements.txt (line 7)) (0.7.0)\n",
            "Requirement already satisfied: MarkupSafe>=0.23 in /usr/local/lib/python3.7/dist-packages (from jinja2->notebook->jupyter==1.0.0->-r requirements.txt (line 7)) (2.0.1)\n",
            "Requirement already satisfied: defusedxml in /usr/local/lib/python3.7/dist-packages (from nbconvert->jupyter==1.0.0->-r requirements.txt (line 7)) (0.7.1)\n",
            "Requirement already satisfied: mistune<2,>=0.8.1 in /usr/local/lib/python3.7/dist-packages (from nbconvert->jupyter==1.0.0->-r requirements.txt (line 7)) (0.8.4)\n",
            "Requirement already satisfied: bleach in /usr/local/lib/python3.7/dist-packages (from nbconvert->jupyter==1.0.0->-r requirements.txt (line 7)) (5.0.0)\n",
            "Requirement already satisfied: entrypoints>=0.2.2 in /usr/local/lib/python3.7/dist-packages (from nbconvert->jupyter==1.0.0->-r requirements.txt (line 7)) (0.4)\n",
            "Requirement already satisfied: pandocfilters>=1.4.1 in /usr/local/lib/python3.7/dist-packages (from nbconvert->jupyter==1.0.0->-r requirements.txt (line 7)) (1.5.0)\n",
            "Requirement already satisfied: testpath in /usr/local/lib/python3.7/dist-packages (from nbconvert->jupyter==1.0.0->-r requirements.txt (line 7)) (0.6.0)\n",
            "Requirement already satisfied: webencodings in /usr/local/lib/python3.7/dist-packages (from bleach->nbconvert->jupyter==1.0.0->-r requirements.txt (line 7)) (0.5.1)\n",
            "Requirement already satisfied: qtpy>=2.0.1 in /usr/local/lib/python3.7/dist-packages (from qtconsole->jupyter==1.0.0->-r requirements.txt (line 7)) (2.1.0)\n",
            "Requirement already satisfied: packaging in /usr/local/lib/python3.7/dist-packages (from qtpy>=2.0.1->qtconsole->jupyter==1.0.0->-r requirements.txt (line 7)) (21.3)\n",
            "Installing collected packages: missingno\n",
            "  Attempting uninstall: missingno\n",
            "    Found existing installation: missingno 0.5.1\n",
            "    Uninstalling missingno-0.5.1:\n",
            "      Successfully uninstalled missingno-0.5.1\n",
            "Successfully installed missingno-0.4.2\n",
            "Looking in indexes: https://pypi.org/simple, https://us-python.pkg.dev/colab-wheels/public/simple/\n",
            "Processing /content/impactdeal-2022\n",
            "\u001b[33m  DEPRECATION: A future pip version will change local packages to be built in-place without first copying to a temporary directory. We recommend you use --use-feature=in-tree-build to test your packages with this new behavior before it becomes the default.\n",
            "   pip 21.3 will remove support for this functionality. You can find discussion regarding this at https://github.com/pypa/pip/issues/7555.\u001b[0m\n",
            "Requirement already satisfied: pandas>=1.3.5 in /usr/local/lib/python3.7/dist-packages (from impactdeal==0.0.1) (1.3.5)\n",
            "Requirement already satisfied: python-dateutil>=2.7.3 in /usr/local/lib/python3.7/dist-packages (from pandas>=1.3.5->impactdeal==0.0.1) (2.8.2)\n",
            "Requirement already satisfied: pytz>=2017.3 in /usr/local/lib/python3.7/dist-packages (from pandas>=1.3.5->impactdeal==0.0.1) (2022.1)\n",
            "Requirement already satisfied: numpy>=1.17.3 in /usr/local/lib/python3.7/dist-packages (from pandas>=1.3.5->impactdeal==0.0.1) (1.21.6)\n",
            "Requirement already satisfied: six>=1.5 in /usr/local/lib/python3.7/dist-packages (from python-dateutil>=2.7.3->pandas>=1.3.5->impactdeal==0.0.1) (1.15.0)\n",
            "Building wheels for collected packages: impactdeal\n",
            "  Building wheel for impactdeal (setup.py) ... \u001b[?25l\u001b[?25hdone\n",
            "  Created wheel for impactdeal: filename=impactdeal-0.0.1-py3-none-any.whl size=19167 sha256=ba316f99189573fef28a5bf6bc889b36da57ff70f1bc315b4c31b2d0629eb5b7\n",
            "  Stored in directory: /root/.cache/pip/wheels/82/a3/b4/2758fcb1a01645aa5e4359436779931ba2683d8e4a5de55048\n",
            "Successfully built impactdeal\n",
            "Installing collected packages: impactdeal\n",
            "Successfully installed impactdeal-0.0.1\n"
          ]
        }
      ],
      "source": [
        "!git clone https://github.com/darioka/impactdeal-2022.git\n",
        "%cd impactdeal-2022\n",
        "!pip install -r requirements.txt\n",
        "!pip install ."
      ]
    },
    {
      "cell_type": "markdown",
      "id": "76d0d684",
      "metadata": {
        "id": "76d0d684"
      },
      "source": [
        "# Decision Trees - EPC Rating\n",
        "\n",
        "In this notebook you will fit a `DecisionTreeClassifier` on the EPC rating dataset. You will experience for yourself what it means to work with real world data!\n",
        "\n",
        "## Loading the data\n",
        "\n",
        "As we did for the exploration, let's load the dataset `known_epc_ratings.csv.gz`. If you remember, there is a column with datetime values. It could be useful to convert it to the correct datetime data type during loading. Take a look at `parse_dates` and `infer_datetime_format` of the `pandas`'s documentation about the `read_csv` command."
      ]
    },
    {
      "cell_type": "code",
      "execution_count": 2,
      "id": "f185a8d1",
      "metadata": {
        "id": "f185a8d1"
      },
      "outputs": [],
      "source": [
        "# Write your code here!\n",
        "\n",
        "# ...\n",
        "\n",
        "# raw_df ="
      ]
    },
    {
      "cell_type": "code",
      "execution_count": 3,
      "id": "71d383c8",
      "metadata": {
        "colab": {
          "base_uri": "https://localhost:8080/"
        },
        "id": "71d383c8",
        "outputId": "47f79e6f-390f-406c-b0de-8e403c6eaf2e"
      },
      "outputs": [
        {
          "output_type": "stream",
          "name": "stderr",
          "text": [
            "/usr/local/lib/python3.7/dist-packages/IPython/core/interactiveshell.py:2882: DtypeWarning: Columns (14) have mixed types.Specify dtype option on import or set low_memory=False.\n",
            "  exec(code_obj, self.user_global_ns, self.user_ns)\n"
          ]
        }
      ],
      "source": [
        "import pandas as pd\n",
        "\n",
        "raw_df = pd.read_csv(\"data/known_epc_ratings.csv.gz\", parse_dates=[\"INSPECTION_DATE\"], infer_datetime_format=True)"
      ]
    },
    {
      "cell_type": "markdown",
      "id": "2e9b750e",
      "metadata": {
        "id": "2e9b750e"
      },
      "source": [
        "## The problem\n",
        "\n",
        "We remember from the exploration here we don't have a binary classification problem, but a **multiclass classification**. Fortunately, there will be no difference in how we train a `DecisionTreeClassifier`. There will be some differences though in the way we interpret the performance metrics.\n",
        "\n",
        "Let's now discuss more deeply about the EPC rating dataset. There is small discrepancy between what we want to do, that is to predict the EPC rating *for each property*, and what the dataset is: a collection of data *for each EPC assessment*. In other words, **the dataset may contain multiple EPC ratings for each property**. There are several reasons why we must take that into account:\n",
        "1. Older EPC ratings may have been updated and could contain incorrect data.\n",
        "2. If a property has two EPC ratings, say A and B, what should the model output for that property? A or B?\n",
        "3. If a property has two EPC ratings, when we split the data, one of the sample could be in the training set and the other in the test set. This may lead to an overestimation of the performance of a model on the test set.\n",
        "\n",
        "In the following cells, show that there are multiple EPC ratings for the same `BUILDING_REFERENCE_NUMBER`. Then create a new dataframe with only the most recent assessments for each property."
      ]
    },
    {
      "cell_type": "code",
      "execution_count": 4,
      "id": "ee1a8ea3",
      "metadata": {
        "id": "ee1a8ea3"
      },
      "outputs": [],
      "source": [
        "# Write your code here!\n",
        "\n",
        "# ...\n",
        "\n",
        "# df ="
      ]
    },
    {
      "cell_type": "code",
      "execution_count": 5,
      "id": "231603bc",
      "metadata": {
        "id": "231603bc"
      },
      "outputs": [],
      "source": [
        "df = raw_df.sort_values([\"BUILDING_REFERENCE_NUMBER\", \"INSPECTION_DATE\"]).drop_duplicates(subset=\"BUILDING_REFERENCE_NUMBER\", keep=\"last\")"
      ]
    },
    {
      "cell_type": "code",
      "execution_count": 6,
      "id": "d54e7b71",
      "metadata": {
        "colab": {
          "base_uri": "https://localhost:8080/"
        },
        "id": "d54e7b71",
        "outputId": "d47fa88e-2bd6-4698-ef07-be48e68939cb"
      },
      "outputs": [
        {
          "output_type": "execute_result",
          "data": {
            "text/plain": [
              "((992766, 42), (766277, 42))"
            ]
          },
          "metadata": {},
          "execution_count": 6
        }
      ],
      "source": [
        "raw_df.shape, df.shape"
      ]
    },
    {
      "cell_type": "code",
      "execution_count": 7,
      "id": "45e72814",
      "metadata": {
        "colab": {
          "base_uri": "https://localhost:8080/"
        },
        "id": "45e72814",
        "outputId": "08a313f1-5d9e-4bb5-bda6-8260da0dbeee"
      },
      "outputs": [
        {
          "output_type": "execute_result",
          "data": {
            "text/plain": [
              "2000         1\n",
              "2003         1\n",
              "2004         1\n",
              "2006         9\n",
              "2007        21\n",
              "2008     32372\n",
              "2009    102255\n",
              "2010     70380\n",
              "2011     60665\n",
              "2012     57198\n",
              "2013    101946\n",
              "2014    105282\n",
              "2015     80993\n",
              "2016     74688\n",
              "2017     47795\n",
              "2018     55599\n",
              "2019     65925\n",
              "2020     63946\n",
              "2021     73689\n",
              "Name: INSPECTION_DATE, dtype: int64"
            ]
          },
          "metadata": {},
          "execution_count": 7
        }
      ],
      "source": [
        "raw_df[\"INSPECTION_DATE\"].dt.year.value_counts().sort_index()"
      ]
    },
    {
      "cell_type": "code",
      "execution_count": 8,
      "id": "b232d50d",
      "metadata": {
        "colab": {
          "base_uri": "https://localhost:8080/"
        },
        "id": "b232d50d",
        "outputId": "0f757e44-d821-464f-ef4f-aa9c16dcf14e"
      },
      "outputs": [
        {
          "output_type": "execute_result",
          "data": {
            "text/plain": [
              "2003        1\n",
              "2004        1\n",
              "2006        4\n",
              "2007       11\n",
              "2008    12213\n",
              "2009    51611\n",
              "2010    45266\n",
              "2011    45826\n",
              "2012    44319\n",
              "2013    70794\n",
              "2014    75803\n",
              "2015    64545\n",
              "2016    61530\n",
              "2017    44291\n",
              "2018    51920\n",
              "2019    63594\n",
              "2020    62467\n",
              "2021    72081\n",
              "Name: INSPECTION_DATE, dtype: int64"
            ]
          },
          "metadata": {},
          "execution_count": 8
        }
      ],
      "source": [
        "df[\"INSPECTION_DATE\"].dt.year.value_counts().sort_index()"
      ]
    },
    {
      "cell_type": "markdown",
      "id": "7f48ad65",
      "metadata": {
        "id": "7f48ad65"
      },
      "source": [
        "## Cleaning\n",
        "\n",
        "During exploration we saw that the dataset has some issues with data quality. Some cleaning functions have been provided for your conveniennce. You can find them in the `cleaning` module of the package `impactdeal`."
      ]
    },
    {
      "cell_type": "code",
      "execution_count": 9,
      "id": "66fdc135",
      "metadata": {
        "colab": {
          "base_uri": "https://localhost:8080/"
        },
        "id": "66fdc135",
        "outputId": "313a4fc6-717e-4ee8-cc57-0a166c75feb3"
      },
      "outputs": [
        {
          "output_type": "execute_result",
          "data": {
            "text/plain": [
              "CITY                                 0\n",
              "LMK_KEY                              0\n",
              "POSTCODE                             0\n",
              "BUILDING_REFERENCE_NUMBER            0\n",
              "PROPERTY_TYPE                        0\n",
              "BUILT_FORM                         611\n",
              "CONSTRUCTION_AGE_BAND             8910\n",
              "INSPECTION_DATE                      0\n",
              "TOTAL_FLOOR_AREA                     0\n",
              "ENERGY_TARIFF                       26\n",
              "MAINS_GAS_FLAG                   87776\n",
              "FLOOR_LEVEL                      50206\n",
              "FLAT_TOP_STOREY                 521033\n",
              "FLAT_STOREY_COUNT               719653\n",
              "MAIN_HEATING_CONTROLS           162994\n",
              "MULTI_GLAZE_PROPORTION           73690\n",
              "GLAZED_TYPE                      15880\n",
              "GLAZED_AREA                      15818\n",
              "EXTENSION_COUNT                  86123\n",
              "NUMBER_HABITABLE_ROOMS           86123\n",
              "NUMBER_HEATED_ROOMS              86123\n",
              "LOW_ENERGY_LIGHTING              25158\n",
              "NUMBER_OPEN_FIREPLACES           15329\n",
              "HOTWATER_DESCRIPTION                 0\n",
              "FLOOR_DESCRIPTION                   29\n",
              "WINDOWS_DESCRIPTION                223\n",
              "WALLS_DESCRIPTION                   29\n",
              "SECONDHEAT_DESCRIPTION              63\n",
              "ROOF_DESCRIPTION                   186\n",
              "MAINHEAT_DESCRIPTION                 0\n",
              "MAINHEATCONT_DESCRIPTION             1\n",
              "LIGHTING_DESCRIPTION                 0\n",
              "MAIN_FUEL                         2493\n",
              "WIND_TURBINE_COUNT               54040\n",
              "HEAT_LOSS_CORRIDOR               62597\n",
              "UNHEATED_CORRIDOR_LENGTH        646970\n",
              "FLOOR_HEIGHT                    475019\n",
              "SOLAR_WATER_HEATING_FLAG        292205\n",
              "MECHANICAL_VENTILATION           15818\n",
              "FIXED_LIGHTING_OUTLETS_COUNT    400271\n",
              "LOW_ENERGY_FIXED_LIGHT_COUNT    462010\n",
              "CURRENT_ENERGY_RATING                0\n",
              "dtype: int64"
            ]
          },
          "metadata": {},
          "execution_count": 9
        }
      ],
      "source": [
        "df.isnull().sum()"
      ]
    },
    {
      "cell_type": "code",
      "execution_count": 10,
      "id": "c27232d2",
      "metadata": {
        "id": "c27232d2"
      },
      "outputs": [],
      "source": [
        "from impactdeal.config.column_names import TARGET, NUMERICAL, CATEGORICAL\n",
        "from impactdeal import cleaning\n",
        "\n",
        "# all missing values in the categorical columns will be replaced with np.nan\n",
        "df = cleaning.normalize_missing(df, CATEGORICAL)\n",
        "\n",
        "# specific cleaning steps for some of the features\n",
        "df = cleaning.clean_age_band(df)\n",
        "df = cleaning.clean_floor_level(df)\n",
        "df = cleaning.clean_mainheat(df)"
      ]
    },
    {
      "cell_type": "code",
      "execution_count": 11,
      "id": "d42560ea",
      "metadata": {
        "colab": {
          "base_uri": "https://localhost:8080/"
        },
        "id": "d42560ea",
        "outputId": "b7170385-3ef6-4990-e89a-120b2f9345b2"
      },
      "outputs": [
        {
          "output_type": "execute_result",
          "data": {
            "text/plain": [
              "CITY                                 0\n",
              "LMK_KEY                              0\n",
              "POSTCODE                             0\n",
              "BUILDING_REFERENCE_NUMBER            0\n",
              "PROPERTY_TYPE                        0\n",
              "BUILT_FORM                       24679\n",
              "CONSTRUCTION_AGE_BAND            78992\n",
              "INSPECTION_DATE                      0\n",
              "TOTAL_FLOOR_AREA                     0\n",
              "ENERGY_TARIFF                    86654\n",
              "MAINS_GAS_FLAG                   87776\n",
              "FLOOR_LEVEL                     485363\n",
              "FLAT_TOP_STOREY                 521033\n",
              "FLAT_STOREY_COUNT               719653\n",
              "MAIN_HEATING_CONTROLS           163003\n",
              "MULTI_GLAZE_PROPORTION           73690\n",
              "GLAZED_TYPE                     112416\n",
              "GLAZED_AREA                      86123\n",
              "EXTENSION_COUNT                  86123\n",
              "NUMBER_HABITABLE_ROOMS           86123\n",
              "NUMBER_HEATED_ROOMS              86123\n",
              "LOW_ENERGY_LIGHTING              25158\n",
              "NUMBER_OPEN_FIREPLACES           15329\n",
              "HOTWATER_DESCRIPTION              1363\n",
              "FLOOR_DESCRIPTION                  671\n",
              "WINDOWS_DESCRIPTION                865\n",
              "WALLS_DESCRIPTION                  671\n",
              "SECONDHEAT_DESCRIPTION            1426\n",
              "ROOF_DESCRIPTION                   828\n",
              "MAINHEAT_DESCRIPTION              1363\n",
              "MAINHEATCONT_DESCRIPTION          1364\n",
              "LIGHTING_DESCRIPTION               642\n",
              "MAIN_FUEL                         9348\n",
              "WIND_TURBINE_COUNT               54040\n",
              "HEAT_LOSS_CORRIDOR              536851\n",
              "UNHEATED_CORRIDOR_LENGTH        646970\n",
              "FLOOR_HEIGHT                    475019\n",
              "SOLAR_WATER_HEATING_FLAG        292205\n",
              "MECHANICAL_VENTILATION           86123\n",
              "FIXED_LIGHTING_OUTLETS_COUNT    400271\n",
              "LOW_ENERGY_FIXED_LIGHT_COUNT    462010\n",
              "CURRENT_ENERGY_RATING                0\n",
              "dtype: int64"
            ]
          },
          "metadata": {},
          "execution_count": 11
        }
      ],
      "source": [
        "df.isnull().sum()"
      ]
    },
    {
      "cell_type": "markdown",
      "id": "90d34375",
      "metadata": {
        "id": "90d34375"
      },
      "source": [
        "## Preprocessing\n",
        "\n",
        "Here we start we the preprocessing steps that will lead us to model training.\n",
        "\n",
        "### Train-test split\n",
        "\n",
        "First of all, let's define `X` as a dataframe with the features we want to use, namely `NUMERICAL` and `CATEGORICAL`, and `y` as the series with the `TARGET`.\n",
        "\n",
        "Then split `X` and `y` in train (70%) and test (30%), stratifying on `y`."
      ]
    },
    {
      "cell_type": "code",
      "execution_count": 12,
      "id": "21ed16a3",
      "metadata": {
        "id": "21ed16a3"
      },
      "outputs": [],
      "source": [
        "# Write your code here!\n",
        "\n",
        "# ...\n",
        "\n",
        "# X = \n",
        "# y = \n",
        "\n",
        "# X_train, X_test, y_train, y_test ="
      ]
    },
    {
      "cell_type": "code",
      "execution_count": 13,
      "id": "8432ca76",
      "metadata": {
        "id": "8432ca76"
      },
      "outputs": [],
      "source": [
        "from sklearn.model_selection import train_test_split\n",
        "\n",
        "X = df[NUMERICAL + CATEGORICAL]\n",
        "y = df[TARGET]\n",
        "\n",
        "X_train, X_test, y_train, y_test = train_test_split(X, y, test_size=0.3, stratify=y, random_state=42)"
      ]
    },
    {
      "cell_type": "markdown",
      "id": "4d21961d",
      "metadata": {
        "id": "4d21961d"
      },
      "source": [
        "### Dropping columns\n",
        "\n",
        "As we saw during exploration, some of the features we have hardly convey information. This is the case with columns that mostly contain missing data. Additionally, we noticed that there are multiple variables with information about lighting in the property, that they are correlated and some of them have many missing values.\n",
        "\n",
        "For simplicity, let's also discard all textual columns (the ones whose name ends with `DESCRIPTION`). Being free text, if we treat them as simple categories we could have a huge amount of classes. This is not helpful for any model. There are are methods to treat text, that we will see in future modules."
      ]
    },
    {
      "cell_type": "code",
      "execution_count": 14,
      "id": "33c361bc",
      "metadata": {
        "id": "33c361bc"
      },
      "outputs": [],
      "source": [
        "# Write your code here!\n",
        "\n",
        "# ...\n",
        "\n",
        "# numerical_cols = [...]\n",
        "# categorical_cols = [...]\n",
        "\n",
        "# X_train = \n",
        "# X_test = "
      ]
    },
    {
      "cell_type": "code",
      "execution_count": 15,
      "id": "2e86824c",
      "metadata": {
        "colab": {
          "base_uri": "https://localhost:8080/"
        },
        "id": "2e86824c",
        "outputId": "cb0b4b88-faaf-47dd-fa31-67676a213edb"
      },
      "outputs": [
        {
          "output_type": "stream",
          "name": "stdout",
          "text": [
            "Dropped columns: ['FLAT_STOREY_COUNT', 'HEAT_LOSS_CORRIDOR', 'UNHEATED_CORRIDOR_LENGTH', 'LOW_ENERGY_FIXED_LIGHT_COUNT', 'HOTWATER_DESCRIPTION', 'FLOOR_DESCRIPTION', 'WINDOWS_DESCRIPTION', 'WALLS_DESCRIPTION', 'SECONDHEAT_DESCRIPTION', 'ROOF_DESCRIPTION', 'MAINHEAT_DESCRIPTION', 'MAINHEATCONT_DESCRIPTION', 'LIGHTING_DESCRIPTION']\n"
          ]
        }
      ],
      "source": [
        "columns_to_drop = [i for i, x in df.isnull().mean().iteritems() if x > 0.7]\n",
        "columns_to_drop += [\"LOW_ENERGY_FIXED_LIGHT_COUNT\"]\n",
        "columns_to_drop += [x for x in df.columns if x.lower().endswith(\"description\")]\n",
        "print(f\"Dropped columns: {columns_to_drop}\")\n",
        "\n",
        "categorical_cols = [x for x in CATEGORICAL if x not in columns_to_drop]\n",
        "numerical_cols = [x for x in NUMERICAL if x not in columns_to_drop]\n",
        "\n",
        "X_train = X_train[numerical_cols + categorical_cols]\n",
        "X_test = X_test[numerical_cols + categorical_cols]"
      ]
    },
    {
      "cell_type": "markdown",
      "id": "994fff67",
      "metadata": {
        "id": "994fff67"
      },
      "source": [
        "### Missing values\n",
        "\n",
        "In this dataset, missing values can be found both in numerical and categorical columns. We saw that a good way to encode missing values for categorical columns is to treat them as another category. For numerical values instead our solution will be [imputation](https://en.wikipedia.org/wiki/Imputation_(statistics)).\n",
        "\n",
        "A common imputation method is mean imputation, where one replaces missing data in a column with the mean value of that column. This is an assumption, of course, and sometimes better assumptions could be made trying to understand the data collection process.\n",
        "\n",
        "In our case, for example, if `MULTI_GLAZE_PROPORTION` is null it seems reasonable to think that the property has no multiple glazing, which would be equivalent to set `MULTI_GLAZE_PROPORTION=0`. This could be a more conservative assumption compared to the mean.\n",
        "\n",
        "In the following cells, decide for which features it would be better to use a constant value imputation and for which ones a mean imputation. Then apply the transformations using `scikit-lean` [SimpleImputer](https://scikit-learn.org/stable/modules/generated/sklearn.impute.SimpleImputer.html)."
      ]
    },
    {
      "cell_type": "code",
      "execution_count": 16,
      "id": "01852afc",
      "metadata": {
        "id": "01852afc"
      },
      "outputs": [],
      "source": [
        "# Write your code here!\n",
        "\n",
        "# ...\n",
        "\n",
        "# zero_imputed_cols = [...]\n",
        "# mean_imputed_cols = [...]\n",
        "\n",
        "# ...\n",
        "\n",
        "# X_train[zero_imputed_cols] = \n",
        "# X_train[mean_imputed_cols] = \n",
        "# X_test[zero_imputed_cols] = \n",
        "# X_test[mean_imputed_cols] = \n",
        "\n",
        "# ..."
      ]
    },
    {
      "cell_type": "code",
      "execution_count": 17,
      "id": "7baf265a",
      "metadata": {
        "id": "7baf265a"
      },
      "outputs": [],
      "source": [
        "from sklearn.impute import SimpleImputer\n",
        "\n",
        "zero_imputed_cols = [\n",
        "    \"MULTI_GLAZE_PROPORTION\",\n",
        "    \"EXTENSION_COUNT\",\n",
        "    \"LOW_ENERGY_LIGHTING\",\n",
        "    \"NUMBER_OPEN_FIREPLACES\",\n",
        "    \"WIND_TURBINE_COUNT\"\n",
        "]\n",
        "mean_imputed_cols = [\"NUMBER_HABITABLE_ROOMS\", \"NUMBER_HEATED_ROOMS\", \"FLOOR_HEIGHT\", \"FIXED_LIGHTING_OUTLETS_COUNT\"]\n",
        "\n",
        "zero_imputer = SimpleImputer(strategy=\"constant\", fill_value=0)\n",
        "mean_imputer = SimpleImputer(strategy=\"mean\")\n",
        "\n",
        "X_train[zero_imputed_cols] = zero_imputer.fit_transform(X_train[zero_imputed_cols])\n",
        "X_test[zero_imputed_cols] = zero_imputer.transform(X_test[zero_imputed_cols])\n",
        "\n",
        "X_train[mean_imputed_cols] = zero_imputer.fit_transform(X_train[mean_imputed_cols])\n",
        "X_test[mean_imputed_cols] = zero_imputer.transform(X_test[mean_imputed_cols])"
      ]
    },
    {
      "cell_type": "markdown",
      "id": "ca1d3100",
      "metadata": {
        "id": "ca1d3100"
      },
      "source": [
        "### Categorical encoding\n",
        "\n",
        "Now we will encode categorical variables. However...\n",
        "\n",
        "One problem with categorical variables in real world datasets is rare classes, for several reasons:\n",
        "1. Why are there so few samples with those classes? Instead of valid classes, they could be just errors in the data collection process.\n",
        "2. If only few samples belongs to a category, every machine learning model will struggle to learn anything from them. Having many rare classes is never beneficial for models.\n",
        "3. Having many rare classes does not help interpretation.\n",
        "4. If there are very few examples with a certain class, they might end up in just one of the train o test dataset.\n",
        "\n",
        "For these reasons, before the `OrdinalEncoder` we will add one more preprocessing step that converts rare classes to another constant value, for example `\"other\"` or `np.nan`.\n",
        "\n",
        "Read the docstring of the object `impactdeal.CategoryReducer`, then use it followed by `OrdinalEncoder` to encode all categorical columns in our dataset."
      ]
    },
    {
      "cell_type": "code",
      "execution_count": 18,
      "id": "1ebc6fb3",
      "metadata": {
        "id": "1ebc6fb3"
      },
      "outputs": [],
      "source": [
        "# Write your code here!\n",
        "\n",
        "# ...\n",
        "\n",
        "# X_train[categorical_cols] = \n",
        "# X_test[categorical_cols] = \n",
        "\n",
        "# ..."
      ]
    },
    {
      "cell_type": "code",
      "execution_count": 19,
      "id": "51f6b1d6",
      "metadata": {
        "id": "51f6b1d6"
      },
      "outputs": [],
      "source": [
        "from impactdeal.preprocessing import CategoryReducer\n",
        "from sklearn.preprocessing import OrdinalEncoder\n",
        "\n",
        "reducer = CategoryReducer(size=50)\n",
        "encoder = OrdinalEncoder()\n",
        "\n",
        "X_train[categorical_cols] = reducer.fit_transform(X_train[categorical_cols])\n",
        "X_test[categorical_cols] = reducer.transform(X_test[categorical_cols])\n",
        "\n",
        "X_train[categorical_cols] = encoder.fit_transform(X_train[categorical_cols].astype(str))\n",
        "X_test[categorical_cols] = encoder.transform(X_test[categorical_cols].astype(str))"
      ]
    },
    {
      "cell_type": "code",
      "execution_count": 20,
      "id": "22c167be",
      "metadata": {
        "colab": {
          "base_uri": "https://localhost:8080/"
        },
        "id": "22c167be",
        "outputId": "bc775034-8d15-467f-dc1c-31f1dcd9f0bd"
      },
      "outputs": [
        {
          "output_type": "execute_result",
          "data": {
            "text/plain": [
              "[array(['Birmingham', 'Leeds', 'Manchester'], dtype=object),\n",
              " array(['Bungalow', 'Flat', 'House', 'Maisonette', 'nan'], dtype=object),\n",
              " array(['Detached', 'Enclosed End-Terrace', 'Enclosed Mid-Terrace',\n",
              "        'End-Terrace', 'Mid-Terrace', 'Semi-Detached', 'nan'], dtype=object),\n",
              " array(['1899 and earlier', '1900-1929', '1930-1949', '1950-1966',\n",
              "        '1967-1975', '1976-1982', '1983-1990', '1991-1995', '1996-2002',\n",
              "        '2003-2006', '2007 onwards', 'nan'], dtype=object),\n",
              " array(['24 hour', 'Single', 'dual', 'dual (24 hour)', 'nan',\n",
              "        'off-peak 10 hour', 'off-peak 7 hour', 'standard tariff'],\n",
              "       dtype=object),\n",
              " array(['N', 'Y', 'nan'], dtype=object),\n",
              " array(['0', '10th', '11st', '12nd', '13rd', '14th', '15th', '16th',\n",
              "        '17th', '18th', '19th', '1st', '20th', '2nd', '3rd', '4th', '5th',\n",
              "        '6th', '7th', '8th', '9th', 'above 20th', 'basement', 'mid floor',\n",
              "        'nan', 'top floor'], dtype=object),\n",
              " array(['N', 'Y', 'nan'], dtype=object),\n",
              " array(['2101', '2102', '2103', '2104', '2105', '2106', '2107', '2109',\n",
              "        '2110', '2111', '2204', '2206', '2207', '2301', '2302', '2303',\n",
              "        '2304', '2305', '2306', '2307', '2308', '2309', '2310', '2401',\n",
              "        '2402', '2404', '2501', '2502', '2503', '2504', '2506', '2601',\n",
              "        '2602', '2603', '2604', '2605', '2699', '2701', '2703', '2704',\n",
              "        '2705', '2706', 'nan'], dtype=object),\n",
              " array(['double glazing installed before 2002',\n",
              "        'double glazing installed during or after 2002',\n",
              "        'double glazing, unknown install date', 'double, known data',\n",
              "        'nan', 'secondary glazing', 'single glazing', 'triple glazing'],\n",
              "       dtype=object),\n",
              " array(['Less Than Typical', 'More Than Typical', 'Much Less Than Typical',\n",
              "        'Much More Than Typical', 'Normal', 'nan'], dtype=object),\n",
              " array(['Electricity: electricity, unspecified tariff', 'Gas: mains gas',\n",
              "        'LPG (not community)',\n",
              "        'LPG - this is for backwards compatibility only and should not be used',\n",
              "        'To be used only when there is no heating/hot-water system',\n",
              "        'To be used only when there is no heating/hot-water system or data is from a community network',\n",
              "        'biomass (community)', 'dual fuel - mineral + wood',\n",
              "        'electricity (community)', 'electricity (not community)',\n",
              "        'electricity - this is for backwards compatibility only and should not be used',\n",
              "        'house coal (not community)', 'mains gas (community)',\n",
              "        'mains gas (not community)',\n",
              "        'mains gas - this is for backwards compatibility only and should not be used',\n",
              "        'nan', 'oil (not community)',\n",
              "        'oil - this is for backwards compatibility only and should not be used',\n",
              "        'smokeless coal'], dtype=object),\n",
              " array(['N', 'Y', 'nan'], dtype=object),\n",
              " array(['mechanical, extract only', 'mechanical, supply and extract',\n",
              "        'nan', 'natural'], dtype=object)]"
            ]
          },
          "metadata": {},
          "execution_count": 20
        }
      ],
      "source": [
        "encoder.categories_"
      ]
    },
    {
      "cell_type": "code",
      "execution_count": 21,
      "id": "0ae03716",
      "metadata": {
        "colab": {
          "base_uri": "https://localhost:8080/"
        },
        "id": "0ae03716",
        "outputId": "41f6eb5b-6e09-44b0-e9f3-2b80bc8fc00f"
      },
      "outputs": [
        {
          "output_type": "execute_result",
          "data": {
            "text/plain": [
              "TOTAL_FLOOR_AREA                0\n",
              "MULTI_GLAZE_PROPORTION          0\n",
              "EXTENSION_COUNT                 0\n",
              "NUMBER_HABITABLE_ROOMS          0\n",
              "NUMBER_HEATED_ROOMS             0\n",
              "LOW_ENERGY_LIGHTING             0\n",
              "NUMBER_OPEN_FIREPLACES          0\n",
              "WIND_TURBINE_COUNT              0\n",
              "FLOOR_HEIGHT                    0\n",
              "FIXED_LIGHTING_OUTLETS_COUNT    0\n",
              "CITY                            0\n",
              "PROPERTY_TYPE                   0\n",
              "BUILT_FORM                      0\n",
              "CONSTRUCTION_AGE_BAND           0\n",
              "ENERGY_TARIFF                   0\n",
              "MAINS_GAS_FLAG                  0\n",
              "FLOOR_LEVEL                     0\n",
              "FLAT_TOP_STOREY                 0\n",
              "MAIN_HEATING_CONTROLS           0\n",
              "GLAZED_TYPE                     0\n",
              "GLAZED_AREA                     0\n",
              "MAIN_FUEL                       0\n",
              "SOLAR_WATER_HEATING_FLAG        0\n",
              "MECHANICAL_VENTILATION          0\n",
              "dtype: int64"
            ]
          },
          "metadata": {},
          "execution_count": 21
        }
      ],
      "source": [
        "X_train.isnull().sum()"
      ]
    },
    {
      "cell_type": "markdown",
      "id": "9237696c",
      "metadata": {
        "id": "9237696c"
      },
      "source": [
        "## Model training\n",
        "\n",
        "Finally, we can now train our decision tree. In the following cell, fit a `DecisionTreeClassifier`, then score the model on the test set the visualize the predictions with a confusion matrix."
      ]
    },
    {
      "cell_type": "code",
      "execution_count": 22,
      "id": "0f51381c",
      "metadata": {
        "id": "0f51381c"
      },
      "outputs": [],
      "source": [
        "# Write your code here!\n",
        "\n"
      ]
    },
    {
      "cell_type": "code",
      "execution_count": 23,
      "id": "ff79a1bb",
      "metadata": {
        "colab": {
          "base_uri": "https://localhost:8080/"
        },
        "id": "ff79a1bb",
        "outputId": "71487c3b-f464-4589-cf9a-be9a7d9e0b9c"
      },
      "outputs": [
        {
          "output_type": "execute_result",
          "data": {
            "text/plain": [
              "DecisionTreeClassifier(max_depth=15)"
            ]
          },
          "metadata": {},
          "execution_count": 23
        }
      ],
      "source": [
        "import matplotlib.pyplot as plt\n",
        "from sklearn.tree import DecisionTreeClassifier\n",
        "from sklearn.metrics import classification_report\n",
        "from sklearn.metrics import ConfusionMatrixDisplay\n",
        "\n",
        "\n",
        "model = DecisionTreeClassifier(max_depth=15)\n",
        "model.fit(X_train, y_train)"
      ]
    },
    {
      "cell_type": "markdown",
      "id": "aa449938",
      "metadata": {
        "id": "aa449938"
      },
      "source": [
        "## Model evaluation\n",
        "\n",
        "Now compute the classification performances of the model both on the train and the test sets."
      ]
    },
    {
      "cell_type": "code",
      "execution_count": 24,
      "id": "b7ffe450",
      "metadata": {
        "colab": {
          "base_uri": "https://localhost:8080/",
          "height": 862
        },
        "id": "b7ffe450",
        "outputId": "db124d6a-b700-4b02-fcea-4202aeb5f2b1"
      },
      "outputs": [
        {
          "output_type": "stream",
          "name": "stdout",
          "text": [
            "              precision    recall  f1-score   support\n",
            "\n",
            "           A       0.87      0.24      0.38       690\n",
            "           B       0.86      0.83      0.85     55520\n",
            "           C       0.75      0.70      0.72    162440\n",
            "           D       0.65      0.79      0.72    211341\n",
            "           E       0.64      0.47      0.54     87370\n",
            "           F       0.69      0.41      0.51     14668\n",
            "           G       0.83      0.64      0.72      4364\n",
            "\n",
            "    accuracy                           0.70    536393\n",
            "   macro avg       0.76      0.58      0.63    536393\n",
            "weighted avg       0.71      0.70      0.70    536393\n",
            "\n"
          ]
        },
        {
          "output_type": "display_data",
          "data": {
            "text/plain": [
              "<Figure size 1008x720 with 2 Axes>"
            ],
            "image/png": "[encoded data removed]"
          },
          "metadata": {
            "needs_background": "light"
          }
        }
      ],
      "source": [
        "fig, ax = plt.subplots(figsize=(14,10))\n",
        "ConfusionMatrixDisplay.from_estimator(model, X_train, y_train, ax=ax)\n",
        "\n",
        "print(classification_report(y_train, model.predict(X_train)))"
      ]
    },
    {
      "cell_type": "code",
      "execution_count": 25,
      "id": "a1d0a5d7",
      "metadata": {
        "colab": {
          "base_uri": "https://localhost:8080/",
          "height": 862
        },
        "id": "a1d0a5d7",
        "outputId": "ca28a555-b15a-4db9-864e-c63bc10c00ee"
      },
      "outputs": [
        {
          "output_type": "stream",
          "name": "stdout",
          "text": [
            "              precision    recall  f1-score   support\n",
            "\n",
            "           A       0.70      0.16      0.26       295\n",
            "           B       0.83      0.81      0.82     23795\n",
            "           C       0.71      0.66      0.68     69618\n",
            "           D       0.62      0.75      0.68     90575\n",
            "           E       0.55      0.39      0.46     37444\n",
            "           F       0.45      0.27      0.33      6286\n",
            "           G       0.60      0.46      0.52      1871\n",
            "\n",
            "    accuracy                           0.65    229884\n",
            "   macro avg       0.64      0.50      0.54    229884\n",
            "weighted avg       0.65      0.65      0.65    229884\n",
            "\n"
          ]
        },
        {
          "output_type": "display_data",
          "data": {
            "text/plain": [
              "<Figure size 1008x720 with 2 Axes>"
            ],
            "image/png": "[encoded data removed]"
          },
          "metadata": {
            "needs_background": "light"
          }
        }
      ],
      "source": [
        "fig, ax = plt.subplots(figsize=(14,10))\n",
        "ConfusionMatrixDisplay.from_estimator(model, X_test, y_test, ax=ax)\n",
        "\n",
        "print(classification_report(y_test, model.predict(X_test)))"
      ]
    },
    {
      "cell_type": "markdown",
      "id": "c2cff74b",
      "metadata": {
        "id": "c2cff74b"
      },
      "source": [
        "Finally, let's try to understand deeper implications of this model. For example:\n",
        "\n",
        "* Is the model equally good on old building as well as new buildings?\n",
        "* Are model performances similar in the three cities?\n",
        "\n",
        "This is uncharted terrain... try to show, understand, discuss possible reasons why there are differences in the performances of the model."
      ]
    },
    {
      "cell_type": "code",
      "execution_count": 26,
      "id": "6d433551",
      "metadata": {
        "id": "6d433551"
      },
      "outputs": [],
      "source": [
        "X_test_pred = X_test.copy()\n",
        "X_test_pred[\"prediction\"] = model.predict(X_test)\n",
        "X_test_pred[\"target\"] = y_test\n",
        "X_test_pred[\"correct_prediction\"] = X_test_pred[\"target\"] == X_test_pred[\"prediction\"]"
      ]
    },
    {
      "cell_type": "code",
      "execution_count": 27,
      "id": "a63a11f4",
      "metadata": {
        "colab": {
          "base_uri": "https://localhost:8080/",
          "height": 356
        },
        "id": "a63a11f4",
        "outputId": "f2376a47-b143-40f7-c82f-05f2d4b11265"
      },
      "outputs": [
        {
          "output_type": "execute_result",
          "data": {
            "text/plain": [
              "<matplotlib.axes._subplots.AxesSubplot at 0x7fbf727001d0>"
            ]
          },
          "metadata": {},
          "execution_count": 27
        },
        {
          "output_type": "display_data",
          "data": {
            "text/plain": [
              "<Figure size 432x288 with 1 Axes>"
            ],
            "image/png": "[encoded data removed]"
          },
          "metadata": {
            "needs_background": "light"
          }
        }
      ],
      "source": [
        "X_test_pred.groupby(\"CONSTRUCTION_AGE_BAND\")[\"correct_prediction\"].mean().set_axis(\n",
        "    encoder.categories_[encoder.feature_names_in_.tolist().index(\"CONSTRUCTION_AGE_BAND\")]\n",
        ").plot.bar()"
      ]
    },
    {
      "cell_type": "code",
      "execution_count": 28,
      "id": "fa240254",
      "metadata": {
        "colab": {
          "base_uri": "https://localhost:8080/"
        },
        "id": "fa240254",
        "outputId": "ca8e824f-219a-4ee1-9050-fa5cef28b47f"
      },
      "outputs": [
        {
          "output_type": "stream",
          "name": "stdout",
          "text": [
            "================================================\n",
            "Birmingham\n",
            "------------------------------------------------\n",
            "              precision    recall  f1-score   support\n",
            "\n",
            "           A       0.58      0.16      0.25        93\n",
            "           B       0.84      0.81      0.83      7969\n",
            "           C       0.69      0.63      0.66     23987\n",
            "           D       0.62      0.77      0.68     39002\n",
            "           E       0.57      0.41      0.48     18932\n",
            "           F       0.44      0.23      0.30      3220\n",
            "           G       0.65      0.49      0.56       943\n",
            "\n",
            "    accuracy                           0.64     94146\n",
            "   macro avg       0.63      0.50      0.54     94146\n",
            "weighted avg       0.64      0.64      0.63     94146\n",
            "\n",
            "================================================\n",
            "Leeds\n",
            "------------------------------------------------\n",
            "              precision    recall  f1-score   support\n",
            "\n",
            "           A       0.77      0.13      0.22       154\n",
            "           B       0.82      0.80      0.81      7333\n",
            "           C       0.70      0.63      0.66     23010\n",
            "           D       0.63      0.76      0.69     31371\n",
            "           E       0.53      0.37      0.44     11805\n",
            "           F       0.49      0.36      0.41      2149\n",
            "           G       0.55      0.44      0.49       666\n",
            "\n",
            "    accuracy                           0.65     76488\n",
            "   macro avg       0.64      0.50      0.53     76488\n",
            "weighted avg       0.65      0.65      0.64     76488\n",
            "\n",
            "================================================\n",
            "Manchester\n",
            "------------------------------------------------\n",
            "              precision    recall  f1-score   support\n",
            "\n",
            "           A       0.76      0.27      0.40        48\n",
            "           B       0.84      0.81      0.82      8493\n",
            "           C       0.73      0.71      0.72     22621\n",
            "           D       0.61      0.71      0.66     20202\n",
            "           E       0.52      0.38      0.44      6707\n",
            "           F       0.35      0.19      0.24       917\n",
            "           G       0.59      0.44      0.50       262\n",
            "\n",
            "    accuracy                           0.68     59250\n",
            "   macro avg       0.63      0.50      0.54     59250\n",
            "weighted avg       0.67      0.68      0.67     59250\n",
            "\n"
          ]
        }
      ],
      "source": [
        "for i, grouped_df in X_test_pred.groupby(\"CITY\"):\n",
        "    print(\"================================================\")\n",
        "    print(encoder.categories_[encoder.feature_names_in_.tolist().index(\"CITY\")][int(i)])\n",
        "    print(\"------------------------------------------------\")\n",
        "    print(classification_report(grouped_df[\"target\"], grouped_df[\"prediction\"]))"
      ]
    },
    {
      "cell_type": "code",
      "execution_count": 29,
      "id": "36525092",
      "metadata": {
        "colab": {
          "base_uri": "https://localhost:8080/",
          "height": 279
        },
        "id": "36525092",
        "outputId": "ec0b2fad-9e6c-4ca9-96fe-cb6cefbe864f"
      },
      "outputs": [
        {
          "output_type": "display_data",
          "data": {
            "text/plain": [
              "<Figure size 432x288 with 1 Axes>"
            ],
            "image/png": "[encoded data removed]"
          },
          "metadata": {
            "needs_background": "light"
          }
        }
      ],
      "source": [
        "import seaborn as sns\n",
        "import matplotlib.pyplot as plt\n",
        "\n",
        "_ = sns.barplot(\n",
        "    data=X_test_pred.groupby(\"CITY\")[\"target\"].value_counts(normalize=True).rename(\"freq\").reset_index().sort_values([\"CITY\", \"target\"]),\n",
        "    x=\"target\",\n",
        "    hue=\"CITY\",\n",
        "    y=\"freq\")\n",
        "plt.show()"
      ]
    }
  ],
  "metadata": {
    "kernelspec": {
      "display_name": "Python 3 (ipykernel)",
      "language": "python",
      "name": "python3"
    },
    "language_info": {
      "codemirror_mode": {
        "name": "ipython",
        "version": 3
      },
      "file_extension": ".py",
      "mimetype": "text/x-python",
      "name": "python",
      "nbconvert_exporter": "python",
      "pygments_lexer": "ipython3",
      "version": "3.7.13"
    },
    "colab": {
      "name": "EPC_02_decision_tree_full.ipynb",
      "provenance": [],
      "include_colab_link": true
    }
  },
  "nbformat": 4,
  "nbformat_minor": 5
}